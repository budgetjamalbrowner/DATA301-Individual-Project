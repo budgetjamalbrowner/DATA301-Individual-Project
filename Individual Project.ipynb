{
 "cells": [
  {
   "cell_type": "markdown",
   "metadata": {},
   "source": [
    "## DATA301 Individual Project"
   ]
  },
  {
   "cell_type": "markdown",
   "metadata": {},
   "source": [
    "Question: How much perfomance in prediction do I lose when I predict anemia using variables that are easier to measure and less invasive with respect to predictions based on blood tests?"
   ]
  },
  {
   "cell_type": "code",
   "execution_count": 1,
   "metadata": {},
   "outputs": [],
   "source": [
    "import pandas as pd\n",
    "import numpy as np\n",
    "import xport\n",
    "import sklearn\n",
    "import seaborn as sns\n",
    "from sklearn.neural_network import MLPClassifier\n",
    "from sklearn.feature_selection import f_regression\n",
    "import matplotlib.pyplot as plt\n",
    "from sklearn.model_selection import train_test_split \n",
    "from sklearn.metrics import accuracy_score\n",
    "from sklearn.pipeline import Pipeline\n",
    "from sklearn.preprocessing import OneHotEncoder, StandardScaler\n",
    "from sklearn.impute import SimpleImputer\n",
    "from sklearn.feature_selection import SelectPercentile, chi2\n",
    "from sklearn.compose import ColumnTransformer\n",
    "from sklearn.ensemble import GradientBoostingClassifier\n",
    "from sklearn.ensemble import RandomForestClassifier\n",
    "from sklearn.decomposition import PCA\n",
    "from sklearn.model_selection import RandomizedSearchCV  \n",
    "from sklearn.feature_selection import RFE\n",
    "from sklearn.linear_model import LogisticRegression\n",
    "from sklearn.metrics import classification_report\n",
    "from sklearn.metrics import roc_curve\n",
    "from sklearn.metrics import roc_auc_score\n",
    "from sklearn.metrics import average_precision_score"
   ]
  },
  {
   "cell_type": "code",
   "execution_count": 2,
   "metadata": {},
   "outputs": [],
   "source": [
    "# function to filter out columns and rows with too many NAs, threshold is 40% NAs in either the column or the row:\n",
    "def naFilter(dataset):\n",
    "    for i in dataset:\n",
    "        if dataset[i].isna().sum()/len(dataset) > 0.5:\n",
    "            dataset = dataset.drop(i, axis='columns')\n",
    "    for i in range(len(dataset)):\n",
    "        if dataset.loc[i].isna().sum()/len(dataset.loc[i]) > 0.5:\n",
    "            dataset = dataset.drop(i)\n",
    "    return dataset\n",
    "\n",
    "# function to extract categorical and numerical column names\n",
    "def catNamesAndNumNames(dataset):\n",
    "    catNames = []\n",
    "    numNames = []\n",
    "    for i in dataset:\n",
    "        if i == 'Anemia':\n",
    "            pass\n",
    "        elif len(pd.unique(dataset[i])) < 11:\n",
    "                catNames.append(i)\n",
    "        else:\n",
    "            numNames.append(i)\n",
    "    return catNames, numNames"
   ]
  },
  {
   "cell_type": "code",
   "execution_count": 3,
   "metadata": {},
   "outputs": [],
   "source": [
    "combinedLabDataImputed = pd.read_csv('combinedLabData.csv')\n",
    "combinedDemoEnvDataFinalTest = pd.read_csv('combined_data_imputed_final_test.csv')"
   ]
  },
  {
   "cell_type": "code",
   "execution_count": 15,
   "metadata": {},
   "outputs": [],
   "source": [
    "anemiaInv = []\n",
    "for i in range(len(combinedDemoEnvDataFinalTest)):\n",
    "    if combinedDemoEnvDataFinalTest['DMDHRGND'][i] == 1 and combinedDemoEnvDataFinalTest['LBXHGB'][i] < 13:\n",
    "        anemiaInv.append('True')\n",
    "    elif combinedDemoEnvDataFinalTest['DMDHRGND'][i] == 2 and combinedDemoEnvDataFinalTest['LBXHGB'][i] < 12:\n",
    "        anemiaInv.append('True')\n",
    "    else:\n",
    "        anemiaInv.append('False')\n",
    "\n",
    "combinedDemoEnvDataFinalTest['Anemia'] = anemiaInv"
   ]
  },
  {
   "cell_type": "code",
   "execution_count": 16,
   "metadata": {},
   "outputs": [],
   "source": [
    "anemiaDemoEnv = []\n",
    "for i in range(len(combinedLabDataImputed)):\n",
    "    if combinedLabDataImputed['DMDHRGND'][i] == 1 and combinedLabDataImputed['LBXHGB'][i] < 13:\n",
    "        anemiaDemoEnv.append('True')\n",
    "    elif combinedLabDataImputed['DMDHRGND'][i] == 2 and combinedLabDataImputed['LBXHGB'][i] < 12:\n",
    "        anemiaDemoEnv.append('True')\n",
    "    else:\n",
    "        anemiaDemoEnv.append('False')\n",
    "\n",
    "combinedLabDataImputed['Anemia'] = anemiaDemoEnv"
   ]
  },
  {
   "cell_type": "code",
   "execution_count": 4,
   "metadata": {},
   "outputs": [],
   "source": [
    "combinedDemoEnvDataFinalTest['SEQN'] = combinedDemoEnvDataFinalTest['SEQN.1']\n",
    "combinedDemoEnvDataFinalTest = combinedDemoEnvDataFinalTest.drop(['SEQN.1'], axis = 1)"
   ]
  },
  {
   "cell_type": "code",
   "execution_count": 5,
   "metadata": {},
   "outputs": [],
   "source": [
    "newDataset =  pd.merge(combinedLabDataImputed, combinedDemoEnvDataFinalTest.drop(['DMDHRGND', 'LBXHGB'], axis =1), on='SEQN', how='left')"
   ]
  },
  {
   "cell_type": "code",
   "execution_count": 6,
   "metadata": {},
   "outputs": [],
   "source": [
    "num, cat = catNamesAndNumNames(newDataset)\n",
    "numdata = newDataset[num]\n",
    "catdata = newDataset[cat]"
   ]
  },
  {
   "cell_type": "code",
   "execution_count": 7,
   "metadata": {},
   "outputs": [],
   "source": [
    "# Create an imputer object \n",
    "imputer_num = SimpleImputer(missing_values=np.nan, strategy='median')\n",
    "imputer_cat = SimpleImputer(missing_values=np.nan, strategy='most_frequent')\n",
    "# Apply the imputer to the numerical data\n",
    "numdataimputed = pd.DataFrame(imputer_num.fit_transform(numdata), columns=numdata.columns)\n",
    "\n",
    "# Impute missing values with the mode for each column\n",
    "catdataimputed = pd.DataFrame(imputer_cat.fit_transform(catdata), columns=catdata.columns)"
   ]
  },
  {
   "cell_type": "code",
   "execution_count": 8,
   "metadata": {},
   "outputs": [],
   "source": [
    "newDataset = pd.concat([numdataimputed, catdataimputed], axis = 1)"
   ]
  },
  {
   "cell_type": "code",
   "execution_count": 9,
   "metadata": {},
   "outputs": [
    {
     "data": {
      "text/html": [
       "<div>\n",
       "<style scoped>\n",
       "    .dataframe tbody tr th:only-of-type {\n",
       "        vertical-align: middle;\n",
       "    }\n",
       "\n",
       "    .dataframe tbody tr th {\n",
       "        vertical-align: top;\n",
       "    }\n",
       "\n",
       "    .dataframe thead th {\n",
       "        text-align: right;\n",
       "    }\n",
       "</style>\n",
       "<table border=\"1\" class=\"dataframe\">\n",
       "  <thead>\n",
       "    <tr style=\"text-align: right;\">\n",
       "      <th></th>\n",
       "      <th>SEQN</th>\n",
       "      <th>LBDBANO_x</th>\n",
       "      <th>DMDHRGND</th>\n",
       "      <th>LBDBPBLC</th>\n",
       "      <th>LBDBCDLC</th>\n",
       "      <th>LBDTHGLC</th>\n",
       "      <th>LBDBSELC</th>\n",
       "      <th>LBDBMNLC</th>\n",
       "      <th>LBDIHGLC</th>\n",
       "      <th>LBDBGELC</th>\n",
       "      <th>...</th>\n",
       "      <th>LBDSUASI</th>\n",
       "      <th>BMXWT</th>\n",
       "      <th>BMXHT</th>\n",
       "      <th>BMXBMI</th>\n",
       "      <th>BMXLEG</th>\n",
       "      <th>BMXARML</th>\n",
       "      <th>BMXARMC</th>\n",
       "      <th>BMXWAIST</th>\n",
       "      <th>BMXSAD1</th>\n",
       "      <th>BMXSAD2</th>\n",
       "    </tr>\n",
       "  </thead>\n",
       "  <tbody>\n",
       "    <tr>\n",
       "      <th>0</th>\n",
       "      <td>86094.0</td>\n",
       "      <td>1.000000e-01</td>\n",
       "      <td>1.0</td>\n",
       "      <td>5.397605e-79</td>\n",
       "      <td>5.397605e-79</td>\n",
       "      <td>5.397605e-79</td>\n",
       "      <td>5.397605e-79</td>\n",
       "      <td>5.397605e-79</td>\n",
       "      <td>1.0</td>\n",
       "      <td>1.0</td>\n",
       "      <td>...</td>\n",
       "      <td>523.4</td>\n",
       "      <td>81.3</td>\n",
       "      <td>168.0</td>\n",
       "      <td>28.8</td>\n",
       "      <td>40.1</td>\n",
       "      <td>36.5</td>\n",
       "      <td>36.4</td>\n",
       "      <td>93.7</td>\n",
       "      <td>21.7</td>\n",
       "      <td>22.1</td>\n",
       "    </tr>\n",
       "    <tr>\n",
       "      <th>1</th>\n",
       "      <td>99804.0</td>\n",
       "      <td>1.000000e-01</td>\n",
       "      <td>2.0</td>\n",
       "      <td>5.397605e-79</td>\n",
       "      <td>5.397605e-79</td>\n",
       "      <td>5.397605e-79</td>\n",
       "      <td>5.397605e-79</td>\n",
       "      <td>5.397605e-79</td>\n",
       "      <td>1.0</td>\n",
       "      <td>1.0</td>\n",
       "      <td>...</td>\n",
       "      <td>315.2</td>\n",
       "      <td>77.1</td>\n",
       "      <td>165.7</td>\n",
       "      <td>28.0</td>\n",
       "      <td>39.0</td>\n",
       "      <td>37.0</td>\n",
       "      <td>32.5</td>\n",
       "      <td>97.2</td>\n",
       "      <td>21.7</td>\n",
       "      <td>21.6</td>\n",
       "    </tr>\n",
       "    <tr>\n",
       "      <th>2</th>\n",
       "      <td>94012.0</td>\n",
       "      <td>1.000000e-01</td>\n",
       "      <td>2.0</td>\n",
       "      <td>5.397605e-79</td>\n",
       "      <td>5.397605e-79</td>\n",
       "      <td>5.397605e-79</td>\n",
       "      <td>5.397605e-79</td>\n",
       "      <td>5.397605e-79</td>\n",
       "      <td>1.0</td>\n",
       "      <td>1.0</td>\n",
       "      <td>...</td>\n",
       "      <td>511.5</td>\n",
       "      <td>92.5</td>\n",
       "      <td>170.5</td>\n",
       "      <td>31.8</td>\n",
       "      <td>38.0</td>\n",
       "      <td>39.2</td>\n",
       "      <td>34.5</td>\n",
       "      <td>110.0</td>\n",
       "      <td>21.7</td>\n",
       "      <td>21.6</td>\n",
       "    </tr>\n",
       "    <tr>\n",
       "      <th>3</th>\n",
       "      <td>94467.0</td>\n",
       "      <td>5.397605e-79</td>\n",
       "      <td>1.0</td>\n",
       "      <td>5.397605e-79</td>\n",
       "      <td>5.397605e-79</td>\n",
       "      <td>5.397605e-79</td>\n",
       "      <td>5.397605e-79</td>\n",
       "      <td>5.397605e-79</td>\n",
       "      <td>1.0</td>\n",
       "      <td>1.0</td>\n",
       "      <td>...</td>\n",
       "      <td>315.2</td>\n",
       "      <td>77.1</td>\n",
       "      <td>165.7</td>\n",
       "      <td>28.0</td>\n",
       "      <td>39.0</td>\n",
       "      <td>37.0</td>\n",
       "      <td>32.5</td>\n",
       "      <td>97.2</td>\n",
       "      <td>21.7</td>\n",
       "      <td>21.6</td>\n",
       "    </tr>\n",
       "    <tr>\n",
       "      <th>4</th>\n",
       "      <td>89039.0</td>\n",
       "      <td>1.000000e-01</td>\n",
       "      <td>2.0</td>\n",
       "      <td>5.397605e-79</td>\n",
       "      <td>5.397605e-79</td>\n",
       "      <td>5.397605e-79</td>\n",
       "      <td>5.397605e-79</td>\n",
       "      <td>5.397605e-79</td>\n",
       "      <td>1.0</td>\n",
       "      <td>1.0</td>\n",
       "      <td>...</td>\n",
       "      <td>315.2</td>\n",
       "      <td>77.1</td>\n",
       "      <td>165.7</td>\n",
       "      <td>28.0</td>\n",
       "      <td>39.0</td>\n",
       "      <td>37.0</td>\n",
       "      <td>32.5</td>\n",
       "      <td>97.2</td>\n",
       "      <td>21.7</td>\n",
       "      <td>21.6</td>\n",
       "    </tr>\n",
       "    <tr>\n",
       "      <th>...</th>\n",
       "      <td>...</td>\n",
       "      <td>...</td>\n",
       "      <td>...</td>\n",
       "      <td>...</td>\n",
       "      <td>...</td>\n",
       "      <td>...</td>\n",
       "      <td>...</td>\n",
       "      <td>...</td>\n",
       "      <td>...</td>\n",
       "      <td>...</td>\n",
       "      <td>...</td>\n",
       "      <td>...</td>\n",
       "      <td>...</td>\n",
       "      <td>...</td>\n",
       "      <td>...</td>\n",
       "      <td>...</td>\n",
       "      <td>...</td>\n",
       "      <td>...</td>\n",
       "      <td>...</td>\n",
       "      <td>...</td>\n",
       "      <td>...</td>\n",
       "    </tr>\n",
       "    <tr>\n",
       "      <th>2495</th>\n",
       "      <td>86077.0</td>\n",
       "      <td>5.397605e-79</td>\n",
       "      <td>2.0</td>\n",
       "      <td>5.397605e-79</td>\n",
       "      <td>5.397605e-79</td>\n",
       "      <td>5.397605e-79</td>\n",
       "      <td>5.397605e-79</td>\n",
       "      <td>5.397605e-79</td>\n",
       "      <td>1.0</td>\n",
       "      <td>1.0</td>\n",
       "      <td>...</td>\n",
       "      <td>267.7</td>\n",
       "      <td>69.8</td>\n",
       "      <td>149.9</td>\n",
       "      <td>31.1</td>\n",
       "      <td>34.2</td>\n",
       "      <td>33.5</td>\n",
       "      <td>28.2</td>\n",
       "      <td>100.0</td>\n",
       "      <td>23.4</td>\n",
       "      <td>24.0</td>\n",
       "    </tr>\n",
       "    <tr>\n",
       "      <th>2496</th>\n",
       "      <td>97412.0</td>\n",
       "      <td>1.000000e-01</td>\n",
       "      <td>1.0</td>\n",
       "      <td>5.397605e-79</td>\n",
       "      <td>5.397605e-79</td>\n",
       "      <td>1.000000e+00</td>\n",
       "      <td>5.397605e-79</td>\n",
       "      <td>5.397605e-79</td>\n",
       "      <td>1.0</td>\n",
       "      <td>1.0</td>\n",
       "      <td>...</td>\n",
       "      <td>315.2</td>\n",
       "      <td>77.1</td>\n",
       "      <td>165.7</td>\n",
       "      <td>28.0</td>\n",
       "      <td>39.0</td>\n",
       "      <td>37.0</td>\n",
       "      <td>32.5</td>\n",
       "      <td>97.2</td>\n",
       "      <td>21.7</td>\n",
       "      <td>21.6</td>\n",
       "    </tr>\n",
       "    <tr>\n",
       "      <th>2497</th>\n",
       "      <td>100824.0</td>\n",
       "      <td>5.397605e-79</td>\n",
       "      <td>2.0</td>\n",
       "      <td>5.397605e-79</td>\n",
       "      <td>1.000000e+00</td>\n",
       "      <td>1.000000e+00</td>\n",
       "      <td>5.397605e-79</td>\n",
       "      <td>5.397605e-79</td>\n",
       "      <td>1.0</td>\n",
       "      <td>1.0</td>\n",
       "      <td>...</td>\n",
       "      <td>315.2</td>\n",
       "      <td>77.1</td>\n",
       "      <td>165.7</td>\n",
       "      <td>28.0</td>\n",
       "      <td>39.0</td>\n",
       "      <td>37.0</td>\n",
       "      <td>32.5</td>\n",
       "      <td>97.2</td>\n",
       "      <td>21.7</td>\n",
       "      <td>21.6</td>\n",
       "    </tr>\n",
       "    <tr>\n",
       "      <th>2498</th>\n",
       "      <td>101166.0</td>\n",
       "      <td>1.000000e-01</td>\n",
       "      <td>1.0</td>\n",
       "      <td>5.397605e-79</td>\n",
       "      <td>1.000000e+00</td>\n",
       "      <td>5.397605e-79</td>\n",
       "      <td>5.397605e-79</td>\n",
       "      <td>5.397605e-79</td>\n",
       "      <td>1.0</td>\n",
       "      <td>1.0</td>\n",
       "      <td>...</td>\n",
       "      <td>339.0</td>\n",
       "      <td>96.6</td>\n",
       "      <td>171.5</td>\n",
       "      <td>32.8</td>\n",
       "      <td>45.0</td>\n",
       "      <td>40.0</td>\n",
       "      <td>41.3</td>\n",
       "      <td>94.9</td>\n",
       "      <td>21.7</td>\n",
       "      <td>21.6</td>\n",
       "    </tr>\n",
       "    <tr>\n",
       "      <th>2499</th>\n",
       "      <td>95766.0</td>\n",
       "      <td>5.397605e-79</td>\n",
       "      <td>2.0</td>\n",
       "      <td>5.397605e-79</td>\n",
       "      <td>5.397605e-79</td>\n",
       "      <td>5.397605e-79</td>\n",
       "      <td>5.397605e-79</td>\n",
       "      <td>5.397605e-79</td>\n",
       "      <td>1.0</td>\n",
       "      <td>1.0</td>\n",
       "      <td>...</td>\n",
       "      <td>315.2</td>\n",
       "      <td>77.1</td>\n",
       "      <td>165.7</td>\n",
       "      <td>28.0</td>\n",
       "      <td>39.0</td>\n",
       "      <td>37.0</td>\n",
       "      <td>32.5</td>\n",
       "      <td>97.2</td>\n",
       "      <td>21.7</td>\n",
       "      <td>21.6</td>\n",
       "    </tr>\n",
       "  </tbody>\n",
       "</table>\n",
       "<p>2500 rows × 136 columns</p>\n",
       "</div>"
      ],
      "text/plain": [
       "          SEQN     LBDBANO_x  DMDHRGND      LBDBPBLC      LBDBCDLC  \\\n",
       "0      86094.0  1.000000e-01       1.0  5.397605e-79  5.397605e-79   \n",
       "1      99804.0  1.000000e-01       2.0  5.397605e-79  5.397605e-79   \n",
       "2      94012.0  1.000000e-01       2.0  5.397605e-79  5.397605e-79   \n",
       "3      94467.0  5.397605e-79       1.0  5.397605e-79  5.397605e-79   \n",
       "4      89039.0  1.000000e-01       2.0  5.397605e-79  5.397605e-79   \n",
       "...        ...           ...       ...           ...           ...   \n",
       "2495   86077.0  5.397605e-79       2.0  5.397605e-79  5.397605e-79   \n",
       "2496   97412.0  1.000000e-01       1.0  5.397605e-79  5.397605e-79   \n",
       "2497  100824.0  5.397605e-79       2.0  5.397605e-79  1.000000e+00   \n",
       "2498  101166.0  1.000000e-01       1.0  5.397605e-79  1.000000e+00   \n",
       "2499   95766.0  5.397605e-79       2.0  5.397605e-79  5.397605e-79   \n",
       "\n",
       "          LBDTHGLC      LBDBSELC      LBDBMNLC  LBDIHGLC  LBDBGELC  ...  \\\n",
       "0     5.397605e-79  5.397605e-79  5.397605e-79       1.0       1.0  ...   \n",
       "1     5.397605e-79  5.397605e-79  5.397605e-79       1.0       1.0  ...   \n",
       "2     5.397605e-79  5.397605e-79  5.397605e-79       1.0       1.0  ...   \n",
       "3     5.397605e-79  5.397605e-79  5.397605e-79       1.0       1.0  ...   \n",
       "4     5.397605e-79  5.397605e-79  5.397605e-79       1.0       1.0  ...   \n",
       "...            ...           ...           ...       ...       ...  ...   \n",
       "2495  5.397605e-79  5.397605e-79  5.397605e-79       1.0       1.0  ...   \n",
       "2496  1.000000e+00  5.397605e-79  5.397605e-79       1.0       1.0  ...   \n",
       "2497  1.000000e+00  5.397605e-79  5.397605e-79       1.0       1.0  ...   \n",
       "2498  5.397605e-79  5.397605e-79  5.397605e-79       1.0       1.0  ...   \n",
       "2499  5.397605e-79  5.397605e-79  5.397605e-79       1.0       1.0  ...   \n",
       "\n",
       "      LBDSUASI  BMXWT  BMXHT  BMXBMI  BMXLEG  BMXARML  BMXARMC  BMXWAIST  \\\n",
       "0        523.4   81.3  168.0    28.8    40.1     36.5     36.4      93.7   \n",
       "1        315.2   77.1  165.7    28.0    39.0     37.0     32.5      97.2   \n",
       "2        511.5   92.5  170.5    31.8    38.0     39.2     34.5     110.0   \n",
       "3        315.2   77.1  165.7    28.0    39.0     37.0     32.5      97.2   \n",
       "4        315.2   77.1  165.7    28.0    39.0     37.0     32.5      97.2   \n",
       "...        ...    ...    ...     ...     ...      ...      ...       ...   \n",
       "2495     267.7   69.8  149.9    31.1    34.2     33.5     28.2     100.0   \n",
       "2496     315.2   77.1  165.7    28.0    39.0     37.0     32.5      97.2   \n",
       "2497     315.2   77.1  165.7    28.0    39.0     37.0     32.5      97.2   \n",
       "2498     339.0   96.6  171.5    32.8    45.0     40.0     41.3      94.9   \n",
       "2499     315.2   77.1  165.7    28.0    39.0     37.0     32.5      97.2   \n",
       "\n",
       "      BMXSAD1  BMXSAD2  \n",
       "0        21.7     22.1  \n",
       "1        21.7     21.6  \n",
       "2        21.7     21.6  \n",
       "3        21.7     21.6  \n",
       "4        21.7     21.6  \n",
       "...       ...      ...  \n",
       "2495     23.4     24.0  \n",
       "2496     21.7     21.6  \n",
       "2497     21.7     21.6  \n",
       "2498     21.7     21.6  \n",
       "2499     21.7     21.6  \n",
       "\n",
       "[2500 rows x 136 columns]"
      ]
     },
     "execution_count": 9,
     "metadata": {},
     "output_type": "execute_result"
    }
   ],
   "source": [
    "seqn = newDataset['SEQN']\n",
    "newDataset.pop('SEQN')\n",
    "newDataset.insert(0, 'SEQN', seqn)\n",
    "newDataset"
   ]
  },
  {
   "cell_type": "markdown",
   "metadata": {},
   "source": [
    "In order to measure performance of our models, we will compare the models using the following performance metrics to look at how much info is gained/lost when using external factors compared to blood test info: AUC/ROC, Accuracy, Precision and Sensitivity."
   ]
  },
  {
   "cell_type": "code",
   "execution_count": 13,
   "metadata": {},
   "outputs": [],
   "source": [
    "anemia = []\n",
    "for i in range(len(newDataset)):\n",
    "    if newDataset['DMDHRGND'][i] == 1 and newDataset['LBXHGB'][i] < 13:\n",
    "        anemia.append('True')\n",
    "    elif newDataset['DMDHRGND'][i] == 2 and newDataset['LBXHGB'][i] < 12:\n",
    "        anemia.append('True')\n",
    "    else:\n",
    "        anemia.append('False')\n",
    "\n",
    "newDataset['Anemia'] = anemia"
   ]
  },
  {
   "cell_type": "markdown",
   "metadata": {},
   "source": [
    "In order to answer our question, I will look at the performances of the models using the invasive dataset, the demographic/environmental dataset and a combination of both ."
   ]
  },
  {
   "cell_type": "markdown",
   "metadata": {},
   "source": [
    "## Invasive data models:"
   ]
  },
  {
   "cell_type": "code",
   "execution_count": 17,
   "metadata": {},
   "outputs": [
    {
     "data": {
      "text/html": [
       "<style>#sk-container-id-1 {color: black;}#sk-container-id-1 pre{padding: 0;}#sk-container-id-1 div.sk-toggleable {background-color: white;}#sk-container-id-1 label.sk-toggleable__label {cursor: pointer;display: block;width: 100%;margin-bottom: 0;padding: 0.3em;box-sizing: border-box;text-align: center;}#sk-container-id-1 label.sk-toggleable__label-arrow:before {content: \"▸\";float: left;margin-right: 0.25em;color: #696969;}#sk-container-id-1 label.sk-toggleable__label-arrow:hover:before {color: black;}#sk-container-id-1 div.sk-estimator:hover label.sk-toggleable__label-arrow:before {color: black;}#sk-container-id-1 div.sk-toggleable__content {max-height: 0;max-width: 0;overflow: hidden;text-align: left;background-color: #f0f8ff;}#sk-container-id-1 div.sk-toggleable__content pre {margin: 0.2em;color: black;border-radius: 0.25em;background-color: #f0f8ff;}#sk-container-id-1 input.sk-toggleable__control:checked~div.sk-toggleable__content {max-height: 200px;max-width: 100%;overflow: auto;}#sk-container-id-1 input.sk-toggleable__control:checked~label.sk-toggleable__label-arrow:before {content: \"▾\";}#sk-container-id-1 div.sk-estimator input.sk-toggleable__control:checked~label.sk-toggleable__label {background-color: #d4ebff;}#sk-container-id-1 div.sk-label input.sk-toggleable__control:checked~label.sk-toggleable__label {background-color: #d4ebff;}#sk-container-id-1 input.sk-hidden--visually {border: 0;clip: rect(1px 1px 1px 1px);clip: rect(1px, 1px, 1px, 1px);height: 1px;margin: -1px;overflow: hidden;padding: 0;position: absolute;width: 1px;}#sk-container-id-1 div.sk-estimator {font-family: monospace;background-color: #f0f8ff;border: 1px dotted black;border-radius: 0.25em;box-sizing: border-box;margin-bottom: 0.5em;}#sk-container-id-1 div.sk-estimator:hover {background-color: #d4ebff;}#sk-container-id-1 div.sk-parallel-item::after {content: \"\";width: 100%;border-bottom: 1px solid gray;flex-grow: 1;}#sk-container-id-1 div.sk-label:hover label.sk-toggleable__label {background-color: #d4ebff;}#sk-container-id-1 div.sk-serial::before {content: \"\";position: absolute;border-left: 1px solid gray;box-sizing: border-box;top: 0;bottom: 0;left: 50%;z-index: 0;}#sk-container-id-1 div.sk-serial {display: flex;flex-direction: column;align-items: center;background-color: white;padding-right: 0.2em;padding-left: 0.2em;position: relative;}#sk-container-id-1 div.sk-item {position: relative;z-index: 1;}#sk-container-id-1 div.sk-parallel {display: flex;align-items: stretch;justify-content: center;background-color: white;position: relative;}#sk-container-id-1 div.sk-item::before, #sk-container-id-1 div.sk-parallel-item::before {content: \"\";position: absolute;border-left: 1px solid gray;box-sizing: border-box;top: 0;bottom: 0;left: 50%;z-index: -1;}#sk-container-id-1 div.sk-parallel-item {display: flex;flex-direction: column;z-index: 1;position: relative;background-color: white;}#sk-container-id-1 div.sk-parallel-item:first-child::after {align-self: flex-end;width: 50%;}#sk-container-id-1 div.sk-parallel-item:last-child::after {align-self: flex-start;width: 50%;}#sk-container-id-1 div.sk-parallel-item:only-child::after {width: 0;}#sk-container-id-1 div.sk-dashed-wrapped {border: 1px dashed gray;margin: 0 0.4em 0.5em 0.4em;box-sizing: border-box;padding-bottom: 0.4em;background-color: white;}#sk-container-id-1 div.sk-label label {font-family: monospace;font-weight: bold;display: inline-block;line-height: 1.2em;}#sk-container-id-1 div.sk-label-container {text-align: center;}#sk-container-id-1 div.sk-container {/* jupyter's `normalize.less` sets `[hidden] { display: none; }` but bootstrap.min.css set `[hidden] { display: none !important; }` so we also need the `!important` here to be able to override the default hidden behavior on the sphinx rendered scikit-learn.org. See: https://github.com/scikit-learn/scikit-learn/issues/21755 */display: inline-block !important;position: relative;}#sk-container-id-1 div.sk-text-repr-fallback {display: none;}</style><div id=\"sk-container-id-1\" class=\"sk-top-container\"><div class=\"sk-text-repr-fallback\"><pre>RandomizedSearchCV(cv=5,\n",
       "                   estimator=Pipeline(steps=[(&#x27;preprocessor&#x27;,\n",
       "                                              ColumnTransformer(transformers=[(&#x27;num&#x27;,\n",
       "                                                                               Pipeline(steps=[(&#x27;imputer&#x27;,\n",
       "                                                                                                SimpleImputer()),\n",
       "                                                                                               (&#x27;scaler&#x27;,\n",
       "                                                                                                StandardScaler(with_mean=False))]),\n",
       "                                                                               [&#x27;LBXWBCSI&#x27;,\n",
       "                                                                                &#x27;LBXLYPCT&#x27;,\n",
       "                                                                                &#x27;LBXMOPCT&#x27;,\n",
       "                                                                                &#x27;LBXEOPCT&#x27;,\n",
       "                                                                                &#x27;LBXBAPCT&#x27;,\n",
       "                                                                                &#x27;LBDMONO&#x27;,\n",
       "                                                                                &#x27;LBDNENO&#x27;,\n",
       "                                                                                &#x27;LBDEONO&#x27;,\n",
       "                                                                                &#x27;LBXRBCSI&#x27;,\n",
       "                                                                                &#x27;LBXMCVSI&#x27;,\n",
       "                                                                                &#x27;LBXMC&#x27;,\n",
       "                                                                                &#x27;LBXRDW&#x27;,\n",
       "                                                                                &#x27;LBXPLTSI&#x27;,\n",
       "                                                                                &#x27;LBXMPSI&#x27;,\n",
       "                                                                                &#x27;LBXBPB&#x27;,\n",
       "                                                                                &#x27;...\n",
       "                                                                                &#x27;LBDVD3LC&#x27;,\n",
       "                                                                                &#x27;LBDVE3LC&#x27;])])),\n",
       "                                             (&#x27;rfc&#x27;,\n",
       "                                              RandomForestClassifier())]),\n",
       "                   param_distributions={&#x27;rfc__bootstrap&#x27;: [True, False],\n",
       "                                        &#x27;rfc__max_depth&#x27;: [10, 20, 30, 40, 50,\n",
       "                                                           100],\n",
       "                                        &#x27;rfc__max_features&#x27;: [&#x27;log2&#x27;, &#x27;sqrt&#x27;],\n",
       "                                        &#x27;rfc__min_samples_leaf&#x27;: [1, 2, 4, 6],\n",
       "                                        &#x27;rfc__min_samples_split&#x27;: [2, 5, 10,\n",
       "                                                                   20],\n",
       "                                        &#x27;rfc__n_estimators&#x27;: [200, 400, 600,\n",
       "                                                              800, 1000]},\n",
       "                   random_state=301, refit=&#x27;accuracy&#x27;, scoring=&#x27;accuracy&#x27;)</pre><b>In a Jupyter environment, please rerun this cell to show the HTML representation or trust the notebook. <br />On GitHub, the HTML representation is unable to render, please try loading this page with nbviewer.org.</b></div><div class=\"sk-container\" hidden><div class=\"sk-item sk-dashed-wrapped\"><div class=\"sk-label-container\"><div class=\"sk-label sk-toggleable\"><input class=\"sk-toggleable__control sk-hidden--visually\" id=\"sk-estimator-id-1\" type=\"checkbox\" ><label for=\"sk-estimator-id-1\" class=\"sk-toggleable__label sk-toggleable__label-arrow\">RandomizedSearchCV</label><div class=\"sk-toggleable__content\"><pre>RandomizedSearchCV(cv=5,\n",
       "                   estimator=Pipeline(steps=[(&#x27;preprocessor&#x27;,\n",
       "                                              ColumnTransformer(transformers=[(&#x27;num&#x27;,\n",
       "                                                                               Pipeline(steps=[(&#x27;imputer&#x27;,\n",
       "                                                                                                SimpleImputer()),\n",
       "                                                                                               (&#x27;scaler&#x27;,\n",
       "                                                                                                StandardScaler(with_mean=False))]),\n",
       "                                                                               [&#x27;LBXWBCSI&#x27;,\n",
       "                                                                                &#x27;LBXLYPCT&#x27;,\n",
       "                                                                                &#x27;LBXMOPCT&#x27;,\n",
       "                                                                                &#x27;LBXEOPCT&#x27;,\n",
       "                                                                                &#x27;LBXBAPCT&#x27;,\n",
       "                                                                                &#x27;LBDMONO&#x27;,\n",
       "                                                                                &#x27;LBDNENO&#x27;,\n",
       "                                                                                &#x27;LBDEONO&#x27;,\n",
       "                                                                                &#x27;LBXRBCSI&#x27;,\n",
       "                                                                                &#x27;LBXMCVSI&#x27;,\n",
       "                                                                                &#x27;LBXMC&#x27;,\n",
       "                                                                                &#x27;LBXRDW&#x27;,\n",
       "                                                                                &#x27;LBXPLTSI&#x27;,\n",
       "                                                                                &#x27;LBXMPSI&#x27;,\n",
       "                                                                                &#x27;LBXBPB&#x27;,\n",
       "                                                                                &#x27;...\n",
       "                                                                                &#x27;LBDVD3LC&#x27;,\n",
       "                                                                                &#x27;LBDVE3LC&#x27;])])),\n",
       "                                             (&#x27;rfc&#x27;,\n",
       "                                              RandomForestClassifier())]),\n",
       "                   param_distributions={&#x27;rfc__bootstrap&#x27;: [True, False],\n",
       "                                        &#x27;rfc__max_depth&#x27;: [10, 20, 30, 40, 50,\n",
       "                                                           100],\n",
       "                                        &#x27;rfc__max_features&#x27;: [&#x27;log2&#x27;, &#x27;sqrt&#x27;],\n",
       "                                        &#x27;rfc__min_samples_leaf&#x27;: [1, 2, 4, 6],\n",
       "                                        &#x27;rfc__min_samples_split&#x27;: [2, 5, 10,\n",
       "                                                                   20],\n",
       "                                        &#x27;rfc__n_estimators&#x27;: [200, 400, 600,\n",
       "                                                              800, 1000]},\n",
       "                   random_state=301, refit=&#x27;accuracy&#x27;, scoring=&#x27;accuracy&#x27;)</pre></div></div></div><div class=\"sk-parallel\"><div class=\"sk-parallel-item\"><div class=\"sk-item\"><div class=\"sk-label-container\"><div class=\"sk-label sk-toggleable\"><input class=\"sk-toggleable__control sk-hidden--visually\" id=\"sk-estimator-id-2\" type=\"checkbox\" ><label for=\"sk-estimator-id-2\" class=\"sk-toggleable__label sk-toggleable__label-arrow\">estimator: Pipeline</label><div class=\"sk-toggleable__content\"><pre>Pipeline(steps=[(&#x27;preprocessor&#x27;,\n",
       "                 ColumnTransformer(transformers=[(&#x27;num&#x27;,\n",
       "                                                  Pipeline(steps=[(&#x27;imputer&#x27;,\n",
       "                                                                   SimpleImputer()),\n",
       "                                                                  (&#x27;scaler&#x27;,\n",
       "                                                                   StandardScaler(with_mean=False))]),\n",
       "                                                  [&#x27;LBXWBCSI&#x27;, &#x27;LBXLYPCT&#x27;,\n",
       "                                                   &#x27;LBXMOPCT&#x27;, &#x27;LBXEOPCT&#x27;,\n",
       "                                                   &#x27;LBXBAPCT&#x27;, &#x27;LBDMONO&#x27;,\n",
       "                                                   &#x27;LBDNENO&#x27;, &#x27;LBDEONO&#x27;,\n",
       "                                                   &#x27;LBXRBCSI&#x27;, &#x27;LBXMCVSI&#x27;,\n",
       "                                                   &#x27;LBXMC&#x27;, &#x27;LBXRDW&#x27;,\n",
       "                                                   &#x27;LBXPLTSI&#x27;, &#x27;LBXMPSI&#x27;,\n",
       "                                                   &#x27;LBXBPB&#x27;, &#x27;LBXBCD&#x27;, &#x27;LBXTHG&#x27;,\n",
       "                                                   &#x27;LBXBSE&#x27;, &#x27;LBXBMN&#x27;, &#x27;LBXIHG&#x27;,\n",
       "                                                   &#x27;LBXBGE&#x27;, &#x27;LBDHDD&#x27;,\n",
       "                                                   &#x27;LBXVIDMS&#x27;, &#x27;LBXVD2MS&#x27;,\n",
       "                                                   &#x27;LBXVE3MS&#x27;]),\n",
       "                                                 (&#x27;cat&#x27;,\n",
       "                                                  Pipeline(steps=[(&#x27;imputer&#x27;,\n",
       "                                                                   SimpleImputer(strategy=&#x27;most_frequent&#x27;))]),\n",
       "                                                  [&#x27;LBDBANO&#x27;, &#x27;LBDBPBLC&#x27;,\n",
       "                                                   &#x27;LBDBCDLC&#x27;, &#x27;LBDTHGLC&#x27;,\n",
       "                                                   &#x27;LBDBSELC&#x27;, &#x27;LBDBMNLC&#x27;,\n",
       "                                                   &#x27;LBDIHGLC&#x27;, &#x27;LBDBGELC&#x27;,\n",
       "                                                   &#x27;LBDBGMLC&#x27;, &#x27;LBDVIDLC&#x27;,\n",
       "                                                   &#x27;LBDVD2LC&#x27;, &#x27;LBDVD3LC&#x27;,\n",
       "                                                   &#x27;LBDVE3LC&#x27;])])),\n",
       "                (&#x27;rfc&#x27;, RandomForestClassifier())])</pre></div></div></div><div class=\"sk-serial\"><div class=\"sk-item\"><div class=\"sk-serial\"><div class=\"sk-item sk-dashed-wrapped\"><div class=\"sk-label-container\"><div class=\"sk-label sk-toggleable\"><input class=\"sk-toggleable__control sk-hidden--visually\" id=\"sk-estimator-id-3\" type=\"checkbox\" ><label for=\"sk-estimator-id-3\" class=\"sk-toggleable__label sk-toggleable__label-arrow\">preprocessor: ColumnTransformer</label><div class=\"sk-toggleable__content\"><pre>ColumnTransformer(transformers=[(&#x27;num&#x27;,\n",
       "                                 Pipeline(steps=[(&#x27;imputer&#x27;, SimpleImputer()),\n",
       "                                                 (&#x27;scaler&#x27;,\n",
       "                                                  StandardScaler(with_mean=False))]),\n",
       "                                 [&#x27;LBXWBCSI&#x27;, &#x27;LBXLYPCT&#x27;, &#x27;LBXMOPCT&#x27;,\n",
       "                                  &#x27;LBXEOPCT&#x27;, &#x27;LBXBAPCT&#x27;, &#x27;LBDMONO&#x27;, &#x27;LBDNENO&#x27;,\n",
       "                                  &#x27;LBDEONO&#x27;, &#x27;LBXRBCSI&#x27;, &#x27;LBXMCVSI&#x27;, &#x27;LBXMC&#x27;,\n",
       "                                  &#x27;LBXRDW&#x27;, &#x27;LBXPLTSI&#x27;, &#x27;LBXMPSI&#x27;, &#x27;LBXBPB&#x27;,\n",
       "                                  &#x27;LBXBCD&#x27;, &#x27;LBXTHG&#x27;, &#x27;LBXBSE&#x27;, &#x27;LBXBMN&#x27;,\n",
       "                                  &#x27;LBXIHG&#x27;, &#x27;LBXBGE&#x27;, &#x27;LBDHDD&#x27;, &#x27;LBXVIDMS&#x27;,\n",
       "                                  &#x27;LBXVD2MS&#x27;, &#x27;LBXVE3MS&#x27;]),\n",
       "                                (&#x27;cat&#x27;,\n",
       "                                 Pipeline(steps=[(&#x27;imputer&#x27;,\n",
       "                                                  SimpleImputer(strategy=&#x27;most_frequent&#x27;))]),\n",
       "                                 [&#x27;LBDBANO&#x27;, &#x27;LBDBPBLC&#x27;, &#x27;LBDBCDLC&#x27;, &#x27;LBDTHGLC&#x27;,\n",
       "                                  &#x27;LBDBSELC&#x27;, &#x27;LBDBMNLC&#x27;, &#x27;LBDIHGLC&#x27;,\n",
       "                                  &#x27;LBDBGELC&#x27;, &#x27;LBDBGMLC&#x27;, &#x27;LBDVIDLC&#x27;,\n",
       "                                  &#x27;LBDVD2LC&#x27;, &#x27;LBDVD3LC&#x27;, &#x27;LBDVE3LC&#x27;])])</pre></div></div></div><div class=\"sk-parallel\"><div class=\"sk-parallel-item\"><div class=\"sk-item\"><div class=\"sk-label-container\"><div class=\"sk-label sk-toggleable\"><input class=\"sk-toggleable__control sk-hidden--visually\" id=\"sk-estimator-id-4\" type=\"checkbox\" ><label for=\"sk-estimator-id-4\" class=\"sk-toggleable__label sk-toggleable__label-arrow\">num</label><div class=\"sk-toggleable__content\"><pre>[&#x27;LBXWBCSI&#x27;, &#x27;LBXLYPCT&#x27;, &#x27;LBXMOPCT&#x27;, &#x27;LBXEOPCT&#x27;, &#x27;LBXBAPCT&#x27;, &#x27;LBDMONO&#x27;, &#x27;LBDNENO&#x27;, &#x27;LBDEONO&#x27;, &#x27;LBXRBCSI&#x27;, &#x27;LBXMCVSI&#x27;, &#x27;LBXMC&#x27;, &#x27;LBXRDW&#x27;, &#x27;LBXPLTSI&#x27;, &#x27;LBXMPSI&#x27;, &#x27;LBXBPB&#x27;, &#x27;LBXBCD&#x27;, &#x27;LBXTHG&#x27;, &#x27;LBXBSE&#x27;, &#x27;LBXBMN&#x27;, &#x27;LBXIHG&#x27;, &#x27;LBXBGE&#x27;, &#x27;LBDHDD&#x27;, &#x27;LBXVIDMS&#x27;, &#x27;LBXVD2MS&#x27;, &#x27;LBXVE3MS&#x27;]</pre></div></div></div><div class=\"sk-serial\"><div class=\"sk-item\"><div class=\"sk-serial\"><div class=\"sk-item\"><div class=\"sk-estimator sk-toggleable\"><input class=\"sk-toggleable__control sk-hidden--visually\" id=\"sk-estimator-id-5\" type=\"checkbox\" ><label for=\"sk-estimator-id-5\" class=\"sk-toggleable__label sk-toggleable__label-arrow\">SimpleImputer</label><div class=\"sk-toggleable__content\"><pre>SimpleImputer()</pre></div></div></div><div class=\"sk-item\"><div class=\"sk-estimator sk-toggleable\"><input class=\"sk-toggleable__control sk-hidden--visually\" id=\"sk-estimator-id-6\" type=\"checkbox\" ><label for=\"sk-estimator-id-6\" class=\"sk-toggleable__label sk-toggleable__label-arrow\">StandardScaler</label><div class=\"sk-toggleable__content\"><pre>StandardScaler(with_mean=False)</pre></div></div></div></div></div></div></div></div><div class=\"sk-parallel-item\"><div class=\"sk-item\"><div class=\"sk-label-container\"><div class=\"sk-label sk-toggleable\"><input class=\"sk-toggleable__control sk-hidden--visually\" id=\"sk-estimator-id-7\" type=\"checkbox\" ><label for=\"sk-estimator-id-7\" class=\"sk-toggleable__label sk-toggleable__label-arrow\">cat</label><div class=\"sk-toggleable__content\"><pre>[&#x27;LBDBANO&#x27;, &#x27;LBDBPBLC&#x27;, &#x27;LBDBCDLC&#x27;, &#x27;LBDTHGLC&#x27;, &#x27;LBDBSELC&#x27;, &#x27;LBDBMNLC&#x27;, &#x27;LBDIHGLC&#x27;, &#x27;LBDBGELC&#x27;, &#x27;LBDBGMLC&#x27;, &#x27;LBDVIDLC&#x27;, &#x27;LBDVD2LC&#x27;, &#x27;LBDVD3LC&#x27;, &#x27;LBDVE3LC&#x27;]</pre></div></div></div><div class=\"sk-serial\"><div class=\"sk-item\"><div class=\"sk-serial\"><div class=\"sk-item\"><div class=\"sk-estimator sk-toggleable\"><input class=\"sk-toggleable__control sk-hidden--visually\" id=\"sk-estimator-id-8\" type=\"checkbox\" ><label for=\"sk-estimator-id-8\" class=\"sk-toggleable__label sk-toggleable__label-arrow\">SimpleImputer</label><div class=\"sk-toggleable__content\"><pre>SimpleImputer(strategy=&#x27;most_frequent&#x27;)</pre></div></div></div></div></div></div></div></div></div></div><div class=\"sk-item\"><div class=\"sk-estimator sk-toggleable\"><input class=\"sk-toggleable__control sk-hidden--visually\" id=\"sk-estimator-id-9\" type=\"checkbox\" ><label for=\"sk-estimator-id-9\" class=\"sk-toggleable__label sk-toggleable__label-arrow\">RandomForestClassifier</label><div class=\"sk-toggleable__content\"><pre>RandomForestClassifier()</pre></div></div></div></div></div></div></div></div></div></div></div></div>"
      ],
      "text/plain": [
       "RandomizedSearchCV(cv=5,\n",
       "                   estimator=Pipeline(steps=[('preprocessor',\n",
       "                                              ColumnTransformer(transformers=[('num',\n",
       "                                                                               Pipeline(steps=[('imputer',\n",
       "                                                                                                SimpleImputer()),\n",
       "                                                                                               ('scaler',\n",
       "                                                                                                StandardScaler(with_mean=False))]),\n",
       "                                                                               ['LBXWBCSI',\n",
       "                                                                                'LBXLYPCT',\n",
       "                                                                                'LBXMOPCT',\n",
       "                                                                                'LBXEOPCT',\n",
       "                                                                                'LBXBAPCT',\n",
       "                                                                                'LBDMONO',\n",
       "                                                                                'LBDNENO',\n",
       "                                                                                'LBDEONO',\n",
       "                                                                                'LBXRBCSI',\n",
       "                                                                                'LBXMCVSI',\n",
       "                                                                                'LBXMC',\n",
       "                                                                                'LBXRDW',\n",
       "                                                                                'LBXPLTSI',\n",
       "                                                                                'LBXMPSI',\n",
       "                                                                                'LBXBPB',\n",
       "                                                                                '...\n",
       "                                                                                'LBDVD3LC',\n",
       "                                                                                'LBDVE3LC'])])),\n",
       "                                             ('rfc',\n",
       "                                              RandomForestClassifier())]),\n",
       "                   param_distributions={'rfc__bootstrap': [True, False],\n",
       "                                        'rfc__max_depth': [10, 20, 30, 40, 50,\n",
       "                                                           100],\n",
       "                                        'rfc__max_features': ['log2', 'sqrt'],\n",
       "                                        'rfc__min_samples_leaf': [1, 2, 4, 6],\n",
       "                                        'rfc__min_samples_split': [2, 5, 10,\n",
       "                                                                   20],\n",
       "                                        'rfc__n_estimators': [200, 400, 600,\n",
       "                                                              800, 1000]},\n",
       "                   random_state=301, refit='accuracy', scoring='accuracy')"
      ]
     },
     "execution_count": 17,
     "metadata": {},
     "output_type": "execute_result"
    }
   ],
   "source": [
    "catVars, numVars = catNamesAndNumNames(combinedLabDataImputed.drop(['SEQN','LBXHGB','DMDHRGND','Anemia'], axis=1))\n",
    "xtrain, xtest, ytrain, ytest = train_test_split(combinedLabDataImputed.drop(['SEQN','LBXHGB','DMDHRGND','Anemia'], axis=1), anemia, test_size=0.2, random_state=42)\n",
    "categorical_transformer = Pipeline(\n",
    "    steps=[(\"imputer\", SimpleImputer(strategy=\"most_frequent\"))]\n",
    ")\n",
    "numeric_transformer = Pipeline(\n",
    "    steps=[(\"imputer\", SimpleImputer(strategy=\"mean\")), (\"scaler\", StandardScaler(with_mean=False))]\n",
    ")\n",
    "preprocessor = ColumnTransformer( \n",
    "    transformers=[\n",
    "        (\"num\", numeric_transformer, numVars),\n",
    "        (\"cat\", categorical_transformer, catVars)]\n",
    ")\n",
    "\n",
    "# 10% of the total variables will be selected\n",
    "selection = SelectPercentile(chi2, percentile = 10)\n",
    "pipe1 = Pipeline(\n",
    "    steps = [(\"preprocessor\", preprocessor),  (\"rfc\", RandomForestClassifier())]\n",
    ")\n",
    "\n",
    "random_grid = {'rfc__n_estimators': [200, 400, 600, 800, 1000],\n",
    "               'rfc__max_features': ['log2', 'sqrt'],\n",
    "               'rfc__max_depth': [10, 20, 30, 40, 50, 100],\n",
    "               'rfc__min_samples_split': [2, 5, 10, 20],\n",
    "               'rfc__min_samples_leaf': [1, 2, 4, 6],\n",
    "               'rfc__bootstrap': [True, False]}\n",
    "randomSearch = RandomizedSearchCV(pipe1, param_distributions = random_grid, scoring='accuracy', refit='accuracy', n_iter=10, cv=5, random_state=301)\n",
    "\n",
    "randomSearch.fit(xtrain, ytrain)"
   ]
  },
  {
   "cell_type": "code",
   "execution_count": 18,
   "metadata": {},
   "outputs": [
    {
     "data": {
      "text/plain": [
       "0.8780000000000001"
      ]
     },
     "execution_count": 18,
     "metadata": {},
     "output_type": "execute_result"
    }
   ],
   "source": [
    "randomSearch.best_score_ "
   ]
  },
  {
   "cell_type": "code",
   "execution_count": 19,
   "metadata": {},
   "outputs": [],
   "source": [
    "predictions = randomSearch.best_estimator_.predict(xtest)"
   ]
  },
  {
   "cell_type": "code",
   "execution_count": 20,
   "metadata": {},
   "outputs": [
    {
     "data": {
      "text/plain": [
       "0.85"
      ]
     },
     "execution_count": 20,
     "metadata": {},
     "output_type": "execute_result"
    }
   ],
   "source": [
    "accuracy_score(ytest, predictions)"
   ]
  },
  {
   "cell_type": "code",
   "execution_count": 21,
   "metadata": {},
   "outputs": [
    {
     "name": "stdout",
     "output_type": "stream",
     "text": [
      "              precision    recall  f1-score   support\n",
      "\n",
      "       False       0.85      0.98      0.91       398\n",
      "        True       0.80      0.35      0.49       102\n",
      "\n",
      "    accuracy                           0.85       500\n",
      "   macro avg       0.83      0.67      0.70       500\n",
      "weighted avg       0.84      0.85      0.83       500\n",
      "\n"
     ]
    }
   ],
   "source": [
    "print(classification_report(ytest, predictions))"
   ]
  },
  {
   "cell_type": "code",
   "execution_count": 22,
   "metadata": {},
   "outputs": [],
   "source": [
    "predictionsNum = randomSearch.best_estimator_.predict_proba(xtest)[:, 1]"
   ]
  },
  {
   "cell_type": "code",
   "execution_count": 23,
   "metadata": {},
   "outputs": [],
   "source": [
    "ytestNum = []\n",
    "for i in ytest:\n",
    "    if i ==\"True\":\n",
    "        ytestNum.append(1)\n",
    "    elif i==\"False\":\n",
    "        ytestNum.append(0)"
   ]
  },
  {
   "cell_type": "code",
   "execution_count": 79,
   "metadata": {},
   "outputs": [
    {
     "data": {
      "image/png": "[encoded data removed]",
      "text/plain": [
       "<Figure size 432x288 with 1 Axes>"
      ]
     },
     "metadata": {
      "needs_background": "light"
     },
     "output_type": "display_data"
    }
   ],
   "source": [
    "fpr, tpr, thresholds = roc_curve(ytestNum, predictionsNum)\n",
    "fig = plt.figure()\n",
    "ax = fig.add_subplot()\n",
    "plt.plot(fpr, tpr)\n",
    "plt.plot([0, 1], [0, 1], '--')\n",
    "plt.xlabel('False Positive Rate')\n",
    "plt.ylabel('True Positive Rate')\n",
    "plt.title('ROC Curve')\n",
    "ax.set_aspect('equal', adjustable='box')\n",
    "plt.show()"
   ]
  },
  {
   "cell_type": "code",
   "execution_count": 25,
   "metadata": {},
   "outputs": [
    {
     "name": "stdout",
     "output_type": "stream",
     "text": [
      "ROC_AUC score:  0.9019854172824909\n"
     ]
    }
   ],
   "source": [
    "print(\"ROC_AUC score: \",roc_auc_score(ytestNum, predictionsNum))\n",
    "roc1 = roc_auc_score(ytestNum, predictionsNum)"
   ]
  },
  {
   "cell_type": "code",
   "execution_count": 26,
   "metadata": {},
   "outputs": [
    {
     "name": "stdout",
     "output_type": "stream",
     "text": [
      "AUC-PR score:  0.7236805132569766\n"
     ]
    }
   ],
   "source": [
    "print(\"AUC-PR score: \",average_precision_score(ytestNum, predictionsNum))\n",
    "aucpr1 = average_precision_score(ytestNum, predictionsNum)"
   ]
  },
  {
   "cell_type": "code",
   "execution_count": 27,
   "metadata": {},
   "outputs": [
    {
     "data": {
      "text/html": [
       "<style>#sk-container-id-2 {color: black;}#sk-container-id-2 pre{padding: 0;}#sk-container-id-2 div.sk-toggleable {background-color: white;}#sk-container-id-2 label.sk-toggleable__label {cursor: pointer;display: block;width: 100%;margin-bottom: 0;padding: 0.3em;box-sizing: border-box;text-align: center;}#sk-container-id-2 label.sk-toggleable__label-arrow:before {content: \"▸\";float: left;margin-right: 0.25em;color: #696969;}#sk-container-id-2 label.sk-toggleable__label-arrow:hover:before {color: black;}#sk-container-id-2 div.sk-estimator:hover label.sk-toggleable__label-arrow:before {color: black;}#sk-container-id-2 div.sk-toggleable__content {max-height: 0;max-width: 0;overflow: hidden;text-align: left;background-color: #f0f8ff;}#sk-container-id-2 div.sk-toggleable__content pre {margin: 0.2em;color: black;border-radius: 0.25em;background-color: #f0f8ff;}#sk-container-id-2 input.sk-toggleable__control:checked~div.sk-toggleable__content {max-height: 200px;max-width: 100%;overflow: auto;}#sk-container-id-2 input.sk-toggleable__control:checked~label.sk-toggleable__label-arrow:before {content: \"▾\";}#sk-container-id-2 div.sk-estimator input.sk-toggleable__control:checked~label.sk-toggleable__label {background-color: #d4ebff;}#sk-container-id-2 div.sk-label input.sk-toggleable__control:checked~label.sk-toggleable__label {background-color: #d4ebff;}#sk-container-id-2 input.sk-hidden--visually {border: 0;clip: rect(1px 1px 1px 1px);clip: rect(1px, 1px, 1px, 1px);height: 1px;margin: -1px;overflow: hidden;padding: 0;position: absolute;width: 1px;}#sk-container-id-2 div.sk-estimator {font-family: monospace;background-color: #f0f8ff;border: 1px dotted black;border-radius: 0.25em;box-sizing: border-box;margin-bottom: 0.5em;}#sk-container-id-2 div.sk-estimator:hover {background-color: #d4ebff;}#sk-container-id-2 div.sk-parallel-item::after {content: \"\";width: 100%;border-bottom: 1px solid gray;flex-grow: 1;}#sk-container-id-2 div.sk-label:hover label.sk-toggleable__label {background-color: #d4ebff;}#sk-container-id-2 div.sk-serial::before {content: \"\";position: absolute;border-left: 1px solid gray;box-sizing: border-box;top: 0;bottom: 0;left: 50%;z-index: 0;}#sk-container-id-2 div.sk-serial {display: flex;flex-direction: column;align-items: center;background-color: white;padding-right: 0.2em;padding-left: 0.2em;position: relative;}#sk-container-id-2 div.sk-item {position: relative;z-index: 1;}#sk-container-id-2 div.sk-parallel {display: flex;align-items: stretch;justify-content: center;background-color: white;position: relative;}#sk-container-id-2 div.sk-item::before, #sk-container-id-2 div.sk-parallel-item::before {content: \"\";position: absolute;border-left: 1px solid gray;box-sizing: border-box;top: 0;bottom: 0;left: 50%;z-index: -1;}#sk-container-id-2 div.sk-parallel-item {display: flex;flex-direction: column;z-index: 1;position: relative;background-color: white;}#sk-container-id-2 div.sk-parallel-item:first-child::after {align-self: flex-end;width: 50%;}#sk-container-id-2 div.sk-parallel-item:last-child::after {align-self: flex-start;width: 50%;}#sk-container-id-2 div.sk-parallel-item:only-child::after {width: 0;}#sk-container-id-2 div.sk-dashed-wrapped {border: 1px dashed gray;margin: 0 0.4em 0.5em 0.4em;box-sizing: border-box;padding-bottom: 0.4em;background-color: white;}#sk-container-id-2 div.sk-label label {font-family: monospace;font-weight: bold;display: inline-block;line-height: 1.2em;}#sk-container-id-2 div.sk-label-container {text-align: center;}#sk-container-id-2 div.sk-container {/* jupyter's `normalize.less` sets `[hidden] { display: none; }` but bootstrap.min.css set `[hidden] { display: none !important; }` so we also need the `!important` here to be able to override the default hidden behavior on the sphinx rendered scikit-learn.org. See: https://github.com/scikit-learn/scikit-learn/issues/21755 */display: inline-block !important;position: relative;}#sk-container-id-2 div.sk-text-repr-fallback {display: none;}</style><div id=\"sk-container-id-2\" class=\"sk-top-container\"><div class=\"sk-text-repr-fallback\"><pre>RandomizedSearchCV(cv=5,\n",
       "                   estimator=Pipeline(steps=[(&#x27;Preprocessing&#x27;,\n",
       "                                              ColumnTransformer(transformers=[(&#x27;num&#x27;,\n",
       "                                                                               Pipeline(steps=[(&#x27;imputer&#x27;,\n",
       "                                                                                                SimpleImputer()),\n",
       "                                                                                               (&#x27;scaler&#x27;,\n",
       "                                                                                                StandardScaler(with_mean=False))]),\n",
       "                                                                               [&#x27;LBXWBCSI&#x27;,\n",
       "                                                                                &#x27;LBXLYPCT&#x27;,\n",
       "                                                                                &#x27;LBXMOPCT&#x27;,\n",
       "                                                                                &#x27;LBXEOPCT&#x27;,\n",
       "                                                                                &#x27;LBXBAPCT&#x27;,\n",
       "                                                                                &#x27;LBDMONO&#x27;,\n",
       "                                                                                &#x27;LBDNENO&#x27;,\n",
       "                                                                                &#x27;LBDEONO&#x27;,\n",
       "                                                                                &#x27;LBXRBCSI&#x27;,\n",
       "                                                                                &#x27;LBXMCVSI&#x27;,\n",
       "                                                                                &#x27;LBXMC&#x27;,\n",
       "                                                                                &#x27;LBXRDW&#x27;,\n",
       "                                                                                &#x27;LBXPLTSI&#x27;,\n",
       "                                                                                &#x27;LBXMPSI&#x27;,\n",
       "                                                                                &#x27;LBXBPB&#x27;,...\n",
       "                                        &#x27;mlp__alpha&#x27;: [0.01, 0.001, 0.0001,\n",
       "                                                       1e-05],\n",
       "                                        &#x27;mlp__early_stopping&#x27;: [True],\n",
       "                                        &#x27;mlp__hidden_layer_sizes&#x27;: [(50,),\n",
       "                                                                    (100,),\n",
       "                                                                    (200,),\n",
       "                                                                    (400,)],\n",
       "                                        &#x27;mlp__learning_rate&#x27;: [&#x27;constant&#x27;,\n",
       "                                                               &#x27;invscaling&#x27;,\n",
       "                                                               &#x27;adaptive&#x27;],\n",
       "                                        &#x27;mlp__learning_rate_init&#x27;: [0.0001,\n",
       "                                                                    0.001, 0.01,\n",
       "                                                                    0.1],\n",
       "                                        &#x27;mlp__max_iter&#x27;: [200, 2000, 20000,\n",
       "                                                          200000],\n",
       "                                        &#x27;mlp__solver&#x27;: [&#x27;sgd&#x27;, &#x27;adam&#x27;]},\n",
       "                   random_state=301, refit=&#x27;accuracy&#x27;, scoring=&#x27;accuracy&#x27;)</pre><b>In a Jupyter environment, please rerun this cell to show the HTML representation or trust the notebook. <br />On GitHub, the HTML representation is unable to render, please try loading this page with nbviewer.org.</b></div><div class=\"sk-container\" hidden><div class=\"sk-item sk-dashed-wrapped\"><div class=\"sk-label-container\"><div class=\"sk-label sk-toggleable\"><input class=\"sk-toggleable__control sk-hidden--visually\" id=\"sk-estimator-id-10\" type=\"checkbox\" ><label for=\"sk-estimator-id-10\" class=\"sk-toggleable__label sk-toggleable__label-arrow\">RandomizedSearchCV</label><div class=\"sk-toggleable__content\"><pre>RandomizedSearchCV(cv=5,\n",
       "                   estimator=Pipeline(steps=[(&#x27;Preprocessing&#x27;,\n",
       "                                              ColumnTransformer(transformers=[(&#x27;num&#x27;,\n",
       "                                                                               Pipeline(steps=[(&#x27;imputer&#x27;,\n",
       "                                                                                                SimpleImputer()),\n",
       "                                                                                               (&#x27;scaler&#x27;,\n",
       "                                                                                                StandardScaler(with_mean=False))]),\n",
       "                                                                               [&#x27;LBXWBCSI&#x27;,\n",
       "                                                                                &#x27;LBXLYPCT&#x27;,\n",
       "                                                                                &#x27;LBXMOPCT&#x27;,\n",
       "                                                                                &#x27;LBXEOPCT&#x27;,\n",
       "                                                                                &#x27;LBXBAPCT&#x27;,\n",
       "                                                                                &#x27;LBDMONO&#x27;,\n",
       "                                                                                &#x27;LBDNENO&#x27;,\n",
       "                                                                                &#x27;LBDEONO&#x27;,\n",
       "                                                                                &#x27;LBXRBCSI&#x27;,\n",
       "                                                                                &#x27;LBXMCVSI&#x27;,\n",
       "                                                                                &#x27;LBXMC&#x27;,\n",
       "                                                                                &#x27;LBXRDW&#x27;,\n",
       "                                                                                &#x27;LBXPLTSI&#x27;,\n",
       "                                                                                &#x27;LBXMPSI&#x27;,\n",
       "                                                                                &#x27;LBXBPB&#x27;,...\n",
       "                                        &#x27;mlp__alpha&#x27;: [0.01, 0.001, 0.0001,\n",
       "                                                       1e-05],\n",
       "                                        &#x27;mlp__early_stopping&#x27;: [True],\n",
       "                                        &#x27;mlp__hidden_layer_sizes&#x27;: [(50,),\n",
       "                                                                    (100,),\n",
       "                                                                    (200,),\n",
       "                                                                    (400,)],\n",
       "                                        &#x27;mlp__learning_rate&#x27;: [&#x27;constant&#x27;,\n",
       "                                                               &#x27;invscaling&#x27;,\n",
       "                                                               &#x27;adaptive&#x27;],\n",
       "                                        &#x27;mlp__learning_rate_init&#x27;: [0.0001,\n",
       "                                                                    0.001, 0.01,\n",
       "                                                                    0.1],\n",
       "                                        &#x27;mlp__max_iter&#x27;: [200, 2000, 20000,\n",
       "                                                          200000],\n",
       "                                        &#x27;mlp__solver&#x27;: [&#x27;sgd&#x27;, &#x27;adam&#x27;]},\n",
       "                   random_state=301, refit=&#x27;accuracy&#x27;, scoring=&#x27;accuracy&#x27;)</pre></div></div></div><div class=\"sk-parallel\"><div class=\"sk-parallel-item\"><div class=\"sk-item\"><div class=\"sk-label-container\"><div class=\"sk-label sk-toggleable\"><input class=\"sk-toggleable__control sk-hidden--visually\" id=\"sk-estimator-id-11\" type=\"checkbox\" ><label for=\"sk-estimator-id-11\" class=\"sk-toggleable__label sk-toggleable__label-arrow\">estimator: Pipeline</label><div class=\"sk-toggleable__content\"><pre>Pipeline(steps=[(&#x27;Preprocessing&#x27;,\n",
       "                 ColumnTransformer(transformers=[(&#x27;num&#x27;,\n",
       "                                                  Pipeline(steps=[(&#x27;imputer&#x27;,\n",
       "                                                                   SimpleImputer()),\n",
       "                                                                  (&#x27;scaler&#x27;,\n",
       "                                                                   StandardScaler(with_mean=False))]),\n",
       "                                                  [&#x27;LBXWBCSI&#x27;, &#x27;LBXLYPCT&#x27;,\n",
       "                                                   &#x27;LBXMOPCT&#x27;, &#x27;LBXEOPCT&#x27;,\n",
       "                                                   &#x27;LBXBAPCT&#x27;, &#x27;LBDMONO&#x27;,\n",
       "                                                   &#x27;LBDNENO&#x27;, &#x27;LBDEONO&#x27;,\n",
       "                                                   &#x27;LBXRBCSI&#x27;, &#x27;LBXMCVSI&#x27;,\n",
       "                                                   &#x27;LBXMC&#x27;, &#x27;LBXRDW&#x27;,\n",
       "                                                   &#x27;LBXPLTSI&#x27;, &#x27;LBXMPSI&#x27;,\n",
       "                                                   &#x27;LBXBPB&#x27;, &#x27;LBXBCD&#x27;, &#x27;LBXTHG&#x27;,\n",
       "                                                   &#x27;LBXBSE&#x27;, &#x27;LBXBMN&#x27;, &#x27;LBXIHG&#x27;,\n",
       "                                                   &#x27;LBXBGE&#x27;, &#x27;LBDHDD&#x27;,\n",
       "                                                   &#x27;LBXVIDMS&#x27;, &#x27;LBXVD2MS&#x27;,\n",
       "                                                   &#x27;LBXVE3MS&#x27;]),\n",
       "                                                 (&#x27;cat&#x27;,\n",
       "                                                  Pipeline(steps=[(&#x27;imputer&#x27;,\n",
       "                                                                   SimpleImputer(strategy=&#x27;most_frequent&#x27;))]),\n",
       "                                                  [&#x27;LBDBANO&#x27;, &#x27;LBDBPBLC&#x27;,\n",
       "                                                   &#x27;LBDBCDLC&#x27;, &#x27;LBDTHGLC&#x27;,\n",
       "                                                   &#x27;LBDBSELC&#x27;, &#x27;LBDBMNLC&#x27;,\n",
       "                                                   &#x27;LBDIHGLC&#x27;, &#x27;LBDBGELC&#x27;,\n",
       "                                                   &#x27;LBDBGMLC&#x27;, &#x27;LBDVIDLC&#x27;,\n",
       "                                                   &#x27;LBDVD2LC&#x27;, &#x27;LBDVD3LC&#x27;,\n",
       "                                                   &#x27;LBDVE3LC&#x27;])])),\n",
       "                (&#x27;mlp&#x27;, MLPClassifier())])</pre></div></div></div><div class=\"sk-serial\"><div class=\"sk-item\"><div class=\"sk-serial\"><div class=\"sk-item sk-dashed-wrapped\"><div class=\"sk-label-container\"><div class=\"sk-label sk-toggleable\"><input class=\"sk-toggleable__control sk-hidden--visually\" id=\"sk-estimator-id-12\" type=\"checkbox\" ><label for=\"sk-estimator-id-12\" class=\"sk-toggleable__label sk-toggleable__label-arrow\">Preprocessing: ColumnTransformer</label><div class=\"sk-toggleable__content\"><pre>ColumnTransformer(transformers=[(&#x27;num&#x27;,\n",
       "                                 Pipeline(steps=[(&#x27;imputer&#x27;, SimpleImputer()),\n",
       "                                                 (&#x27;scaler&#x27;,\n",
       "                                                  StandardScaler(with_mean=False))]),\n",
       "                                 [&#x27;LBXWBCSI&#x27;, &#x27;LBXLYPCT&#x27;, &#x27;LBXMOPCT&#x27;,\n",
       "                                  &#x27;LBXEOPCT&#x27;, &#x27;LBXBAPCT&#x27;, &#x27;LBDMONO&#x27;, &#x27;LBDNENO&#x27;,\n",
       "                                  &#x27;LBDEONO&#x27;, &#x27;LBXRBCSI&#x27;, &#x27;LBXMCVSI&#x27;, &#x27;LBXMC&#x27;,\n",
       "                                  &#x27;LBXRDW&#x27;, &#x27;LBXPLTSI&#x27;, &#x27;LBXMPSI&#x27;, &#x27;LBXBPB&#x27;,\n",
       "                                  &#x27;LBXBCD&#x27;, &#x27;LBXTHG&#x27;, &#x27;LBXBSE&#x27;, &#x27;LBXBMN&#x27;,\n",
       "                                  &#x27;LBXIHG&#x27;, &#x27;LBXBGE&#x27;, &#x27;LBDHDD&#x27;, &#x27;LBXVIDMS&#x27;,\n",
       "                                  &#x27;LBXVD2MS&#x27;, &#x27;LBXVE3MS&#x27;]),\n",
       "                                (&#x27;cat&#x27;,\n",
       "                                 Pipeline(steps=[(&#x27;imputer&#x27;,\n",
       "                                                  SimpleImputer(strategy=&#x27;most_frequent&#x27;))]),\n",
       "                                 [&#x27;LBDBANO&#x27;, &#x27;LBDBPBLC&#x27;, &#x27;LBDBCDLC&#x27;, &#x27;LBDTHGLC&#x27;,\n",
       "                                  &#x27;LBDBSELC&#x27;, &#x27;LBDBMNLC&#x27;, &#x27;LBDIHGLC&#x27;,\n",
       "                                  &#x27;LBDBGELC&#x27;, &#x27;LBDBGMLC&#x27;, &#x27;LBDVIDLC&#x27;,\n",
       "                                  &#x27;LBDVD2LC&#x27;, &#x27;LBDVD3LC&#x27;, &#x27;LBDVE3LC&#x27;])])</pre></div></div></div><div class=\"sk-parallel\"><div class=\"sk-parallel-item\"><div class=\"sk-item\"><div class=\"sk-label-container\"><div class=\"sk-label sk-toggleable\"><input class=\"sk-toggleable__control sk-hidden--visually\" id=\"sk-estimator-id-13\" type=\"checkbox\" ><label for=\"sk-estimator-id-13\" class=\"sk-toggleable__label sk-toggleable__label-arrow\">num</label><div class=\"sk-toggleable__content\"><pre>[&#x27;LBXWBCSI&#x27;, &#x27;LBXLYPCT&#x27;, &#x27;LBXMOPCT&#x27;, &#x27;LBXEOPCT&#x27;, &#x27;LBXBAPCT&#x27;, &#x27;LBDMONO&#x27;, &#x27;LBDNENO&#x27;, &#x27;LBDEONO&#x27;, &#x27;LBXRBCSI&#x27;, &#x27;LBXMCVSI&#x27;, &#x27;LBXMC&#x27;, &#x27;LBXRDW&#x27;, &#x27;LBXPLTSI&#x27;, &#x27;LBXMPSI&#x27;, &#x27;LBXBPB&#x27;, &#x27;LBXBCD&#x27;, &#x27;LBXTHG&#x27;, &#x27;LBXBSE&#x27;, &#x27;LBXBMN&#x27;, &#x27;LBXIHG&#x27;, &#x27;LBXBGE&#x27;, &#x27;LBDHDD&#x27;, &#x27;LBXVIDMS&#x27;, &#x27;LBXVD2MS&#x27;, &#x27;LBXVE3MS&#x27;]</pre></div></div></div><div class=\"sk-serial\"><div class=\"sk-item\"><div class=\"sk-serial\"><div class=\"sk-item\"><div class=\"sk-estimator sk-toggleable\"><input class=\"sk-toggleable__control sk-hidden--visually\" id=\"sk-estimator-id-14\" type=\"checkbox\" ><label for=\"sk-estimator-id-14\" class=\"sk-toggleable__label sk-toggleable__label-arrow\">SimpleImputer</label><div class=\"sk-toggleable__content\"><pre>SimpleImputer()</pre></div></div></div><div class=\"sk-item\"><div class=\"sk-estimator sk-toggleable\"><input class=\"sk-toggleable__control sk-hidden--visually\" id=\"sk-estimator-id-15\" type=\"checkbox\" ><label for=\"sk-estimator-id-15\" class=\"sk-toggleable__label sk-toggleable__label-arrow\">StandardScaler</label><div class=\"sk-toggleable__content\"><pre>StandardScaler(with_mean=False)</pre></div></div></div></div></div></div></div></div><div class=\"sk-parallel-item\"><div class=\"sk-item\"><div class=\"sk-label-container\"><div class=\"sk-label sk-toggleable\"><input class=\"sk-toggleable__control sk-hidden--visually\" id=\"sk-estimator-id-16\" type=\"checkbox\" ><label for=\"sk-estimator-id-16\" class=\"sk-toggleable__label sk-toggleable__label-arrow\">cat</label><div class=\"sk-toggleable__content\"><pre>[&#x27;LBDBANO&#x27;, &#x27;LBDBPBLC&#x27;, &#x27;LBDBCDLC&#x27;, &#x27;LBDTHGLC&#x27;, &#x27;LBDBSELC&#x27;, &#x27;LBDBMNLC&#x27;, &#x27;LBDIHGLC&#x27;, &#x27;LBDBGELC&#x27;, &#x27;LBDBGMLC&#x27;, &#x27;LBDVIDLC&#x27;, &#x27;LBDVD2LC&#x27;, &#x27;LBDVD3LC&#x27;, &#x27;LBDVE3LC&#x27;]</pre></div></div></div><div class=\"sk-serial\"><div class=\"sk-item\"><div class=\"sk-serial\"><div class=\"sk-item\"><div class=\"sk-estimator sk-toggleable\"><input class=\"sk-toggleable__control sk-hidden--visually\" id=\"sk-estimator-id-17\" type=\"checkbox\" ><label for=\"sk-estimator-id-17\" class=\"sk-toggleable__label sk-toggleable__label-arrow\">SimpleImputer</label><div class=\"sk-toggleable__content\"><pre>SimpleImputer(strategy=&#x27;most_frequent&#x27;)</pre></div></div></div></div></div></div></div></div></div></div><div class=\"sk-item\"><div class=\"sk-estimator sk-toggleable\"><input class=\"sk-toggleable__control sk-hidden--visually\" id=\"sk-estimator-id-18\" type=\"checkbox\" ><label for=\"sk-estimator-id-18\" class=\"sk-toggleable__label sk-toggleable__label-arrow\">MLPClassifier</label><div class=\"sk-toggleable__content\"><pre>MLPClassifier()</pre></div></div></div></div></div></div></div></div></div></div></div></div>"
      ],
      "text/plain": [
       "RandomizedSearchCV(cv=5,\n",
       "                   estimator=Pipeline(steps=[('Preprocessing',\n",
       "                                              ColumnTransformer(transformers=[('num',\n",
       "                                                                               Pipeline(steps=[('imputer',\n",
       "                                                                                                SimpleImputer()),\n",
       "                                                                                               ('scaler',\n",
       "                                                                                                StandardScaler(with_mean=False))]),\n",
       "                                                                               ['LBXWBCSI',\n",
       "                                                                                'LBXLYPCT',\n",
       "                                                                                'LBXMOPCT',\n",
       "                                                                                'LBXEOPCT',\n",
       "                                                                                'LBXBAPCT',\n",
       "                                                                                'LBDMONO',\n",
       "                                                                                'LBDNENO',\n",
       "                                                                                'LBDEONO',\n",
       "                                                                                'LBXRBCSI',\n",
       "                                                                                'LBXMCVSI',\n",
       "                                                                                'LBXMC',\n",
       "                                                                                'LBXRDW',\n",
       "                                                                                'LBXPLTSI',\n",
       "                                                                                'LBXMPSI',\n",
       "                                                                                'LBXBPB',...\n",
       "                                        'mlp__alpha': [0.01, 0.001, 0.0001,\n",
       "                                                       1e-05],\n",
       "                                        'mlp__early_stopping': [True],\n",
       "                                        'mlp__hidden_layer_sizes': [(50,),\n",
       "                                                                    (100,),\n",
       "                                                                    (200,),\n",
       "                                                                    (400,)],\n",
       "                                        'mlp__learning_rate': ['constant',\n",
       "                                                               'invscaling',\n",
       "                                                               'adaptive'],\n",
       "                                        'mlp__learning_rate_init': [0.0001,\n",
       "                                                                    0.001, 0.01,\n",
       "                                                                    0.1],\n",
       "                                        'mlp__max_iter': [200, 2000, 20000,\n",
       "                                                          200000],\n",
       "                                        'mlp__solver': ['sgd', 'adam']},\n",
       "                   random_state=301, refit='accuracy', scoring='accuracy')"
      ]
     },
     "execution_count": 27,
     "metadata": {},
     "output_type": "execute_result"
    }
   ],
   "source": [
    "pipe2 = Pipeline(steps=[(\"Preprocessing\", preprocessor), (\"mlp\", MLPClassifier())])\n",
    "mlp_grid = {'mlp__hidden_layer_sizes': [(50,), (100,), (200,), (400,)],\n",
    "               'mlp__activation': ['identity','logistic','tanh', 'relu'],\n",
    "               'mlp__solver': ['sgd', 'adam'],\n",
    "               'mlp__alpha': [0.01, 0.001, 0.0001, 0.00001],\n",
    "               'mlp__learning_rate': ['constant', 'invscaling', 'adaptive'],\n",
    "               'mlp__learning_rate_init': [0.0001, 0.001, 0.01, 0.1],\n",
    "               'mlp__early_stopping': [True],\n",
    "               'mlp__max_iter': [200, 2000, 20000, 200000]}\n",
    "mlpSearch = RandomizedSearchCV(pipe2, param_distributions = mlp_grid, n_iter=10, cv=5, scoring='accuracy', refit='accuracy', random_state=301)\n",
    "\n",
    "mlpSearch.fit(xtrain, ytrain)"
   ]
  },
  {
   "cell_type": "code",
   "execution_count": 28,
   "metadata": {},
   "outputs": [
    {
     "data": {
      "text/plain": [
       "0.8414999999999999"
      ]
     },
     "execution_count": 28,
     "metadata": {},
     "output_type": "execute_result"
    }
   ],
   "source": [
    "mlpSearch.best_score_ "
   ]
  },
  {
   "cell_type": "code",
   "execution_count": 29,
   "metadata": {},
   "outputs": [],
   "source": [
    "predictions2 = mlpSearch.best_estimator_.predict(xtest)"
   ]
  },
  {
   "cell_type": "code",
   "execution_count": 30,
   "metadata": {},
   "outputs": [
    {
     "data": {
      "text/plain": [
       "0.852"
      ]
     },
     "execution_count": 30,
     "metadata": {},
     "output_type": "execute_result"
    }
   ],
   "source": [
    "accuracy_score(ytest, predictions2)"
   ]
  },
  {
   "cell_type": "code",
   "execution_count": 31,
   "metadata": {},
   "outputs": [
    {
     "name": "stdout",
     "output_type": "stream",
     "text": [
      "              precision    recall  f1-score   support\n",
      "\n",
      "       False       0.89      0.92      0.91       398\n",
      "        True       0.66      0.57      0.61       102\n",
      "\n",
      "    accuracy                           0.85       500\n",
      "   macro avg       0.78      0.75      0.76       500\n",
      "weighted avg       0.85      0.85      0.85       500\n",
      "\n"
     ]
    }
   ],
   "source": [
    "print(classification_report(ytest, predictions2))"
   ]
  },
  {
   "cell_type": "code",
   "execution_count": 32,
   "metadata": {},
   "outputs": [],
   "source": [
    "predictionsNum2 = mlpSearch.best_estimator_.predict_proba(xtest)[:, 1]"
   ]
  },
  {
   "cell_type": "code",
   "execution_count": 78,
   "metadata": {},
   "outputs": [
    {
     "data": {
      "image/png": "[encoded data removed]",
      "text/plain": [
       "<Figure size 432x288 with 1 Axes>"
      ]
     },
     "metadata": {
      "needs_background": "light"
     },
     "output_type": "display_data"
    }
   ],
   "source": [
    "fpr, tpr, thresholds = roc_curve(ytestNum, predictionsNum2)\n",
    "fig = plt.figure()\n",
    "ax = fig.add_subplot()\n",
    "plt.plot(fpr, tpr)\n",
    "plt.plot([0, 1], [0, 1], '--')\n",
    "plt.xlabel('False Positive Rate')\n",
    "plt.ylabel('True Positive Rate')\n",
    "plt.title('ROC Curve')\n",
    "ax.set_aspect('equal', adjustable='box')\n",
    "plt.show()"
   ]
  },
  {
   "cell_type": "code",
   "execution_count": 34,
   "metadata": {},
   "outputs": [
    {
     "name": "stdout",
     "output_type": "stream",
     "text": [
      "ROC_AUC score:  0.8604049660065031\n"
     ]
    }
   ],
   "source": [
    "print(\"ROC_AUC score: \",roc_auc_score(ytestNum, predictionsNum2))\n",
    "roc2 = roc_auc_score(ytestNum, predictionsNum2)"
   ]
  },
  {
   "cell_type": "code",
   "execution_count": 35,
   "metadata": {},
   "outputs": [
    {
     "name": "stdout",
     "output_type": "stream",
     "text": [
      "AUC-PR score:  0.6457278139583513\n"
     ]
    }
   ],
   "source": [
    "print(\"AUC-PR score: \",average_precision_score(ytestNum, predictionsNum2))\n",
    "aucpr2 = average_precision_score(ytestNum, predictionsNum2)"
   ]
  },
  {
   "cell_type": "code",
   "execution_count": 36,
   "metadata": {},
   "outputs": [
    {
     "data": {
      "text/html": [
       "<style>#sk-container-id-3 {color: black;}#sk-container-id-3 pre{padding: 0;}#sk-container-id-3 div.sk-toggleable {background-color: white;}#sk-container-id-3 label.sk-toggleable__label {cursor: pointer;display: block;width: 100%;margin-bottom: 0;padding: 0.3em;box-sizing: border-box;text-align: center;}#sk-container-id-3 label.sk-toggleable__label-arrow:before {content: \"▸\";float: left;margin-right: 0.25em;color: #696969;}#sk-container-id-3 label.sk-toggleable__label-arrow:hover:before {color: black;}#sk-container-id-3 div.sk-estimator:hover label.sk-toggleable__label-arrow:before {color: black;}#sk-container-id-3 div.sk-toggleable__content {max-height: 0;max-width: 0;overflow: hidden;text-align: left;background-color: #f0f8ff;}#sk-container-id-3 div.sk-toggleable__content pre {margin: 0.2em;color: black;border-radius: 0.25em;background-color: #f0f8ff;}#sk-container-id-3 input.sk-toggleable__control:checked~div.sk-toggleable__content {max-height: 200px;max-width: 100%;overflow: auto;}#sk-container-id-3 input.sk-toggleable__control:checked~label.sk-toggleable__label-arrow:before {content: \"▾\";}#sk-container-id-3 div.sk-estimator input.sk-toggleable__control:checked~label.sk-toggleable__label {background-color: #d4ebff;}#sk-container-id-3 div.sk-label input.sk-toggleable__control:checked~label.sk-toggleable__label {background-color: #d4ebff;}#sk-container-id-3 input.sk-hidden--visually {border: 0;clip: rect(1px 1px 1px 1px);clip: rect(1px, 1px, 1px, 1px);height: 1px;margin: -1px;overflow: hidden;padding: 0;position: absolute;width: 1px;}#sk-container-id-3 div.sk-estimator {font-family: monospace;background-color: #f0f8ff;border: 1px dotted black;border-radius: 0.25em;box-sizing: border-box;margin-bottom: 0.5em;}#sk-container-id-3 div.sk-estimator:hover {background-color: #d4ebff;}#sk-container-id-3 div.sk-parallel-item::after {content: \"\";width: 100%;border-bottom: 1px solid gray;flex-grow: 1;}#sk-container-id-3 div.sk-label:hover label.sk-toggleable__label {background-color: #d4ebff;}#sk-container-id-3 div.sk-serial::before {content: \"\";position: absolute;border-left: 1px solid gray;box-sizing: border-box;top: 0;bottom: 0;left: 50%;z-index: 0;}#sk-container-id-3 div.sk-serial {display: flex;flex-direction: column;align-items: center;background-color: white;padding-right: 0.2em;padding-left: 0.2em;position: relative;}#sk-container-id-3 div.sk-item {position: relative;z-index: 1;}#sk-container-id-3 div.sk-parallel {display: flex;align-items: stretch;justify-content: center;background-color: white;position: relative;}#sk-container-id-3 div.sk-item::before, #sk-container-id-3 div.sk-parallel-item::before {content: \"\";position: absolute;border-left: 1px solid gray;box-sizing: border-box;top: 0;bottom: 0;left: 50%;z-index: -1;}#sk-container-id-3 div.sk-parallel-item {display: flex;flex-direction: column;z-index: 1;position: relative;background-color: white;}#sk-container-id-3 div.sk-parallel-item:first-child::after {align-self: flex-end;width: 50%;}#sk-container-id-3 div.sk-parallel-item:last-child::after {align-self: flex-start;width: 50%;}#sk-container-id-3 div.sk-parallel-item:only-child::after {width: 0;}#sk-container-id-3 div.sk-dashed-wrapped {border: 1px dashed gray;margin: 0 0.4em 0.5em 0.4em;box-sizing: border-box;padding-bottom: 0.4em;background-color: white;}#sk-container-id-3 div.sk-label label {font-family: monospace;font-weight: bold;display: inline-block;line-height: 1.2em;}#sk-container-id-3 div.sk-label-container {text-align: center;}#sk-container-id-3 div.sk-container {/* jupyter's `normalize.less` sets `[hidden] { display: none; }` but bootstrap.min.css set `[hidden] { display: none !important; }` so we also need the `!important` here to be able to override the default hidden behavior on the sphinx rendered scikit-learn.org. See: https://github.com/scikit-learn/scikit-learn/issues/21755 */display: inline-block !important;position: relative;}#sk-container-id-3 div.sk-text-repr-fallback {display: none;}</style><div id=\"sk-container-id-3\" class=\"sk-top-container\"><div class=\"sk-text-repr-fallback\"><pre>RandomizedSearchCV(cv=10,\n",
       "                   estimator=Pipeline(steps=[(&#x27;Preprocessing&#x27;,\n",
       "                                              ColumnTransformer(transformers=[(&#x27;num&#x27;,\n",
       "                                                                               Pipeline(steps=[(&#x27;imputer&#x27;,\n",
       "                                                                                                SimpleImputer()),\n",
       "                                                                                               (&#x27;scaler&#x27;,\n",
       "                                                                                                StandardScaler(with_mean=False))]),\n",
       "                                                                               [&#x27;LBXWBCSI&#x27;,\n",
       "                                                                                &#x27;LBXLYPCT&#x27;,\n",
       "                                                                                &#x27;LBXMOPCT&#x27;,\n",
       "                                                                                &#x27;LBXEOPCT&#x27;,\n",
       "                                                                                &#x27;LBXBAPCT&#x27;,\n",
       "                                                                                &#x27;LBDMONO&#x27;,\n",
       "                                                                                &#x27;LBDNENO&#x27;,\n",
       "                                                                                &#x27;LBDEONO&#x27;,\n",
       "                                                                                &#x27;LBXRBCSI&#x27;,\n",
       "                                                                                &#x27;LBXMCVSI&#x27;,\n",
       "                                                                                &#x27;LBXMC&#x27;,\n",
       "                                                                                &#x27;LBXRDW&#x27;,\n",
       "                                                                                &#x27;LBXPLTSI&#x27;,\n",
       "                                                                                &#x27;LBXMPSI&#x27;,\n",
       "                                                                                &#x27;LBXBPB&#x27;...\n",
       "                                              GradientBoostingClassifier())]),\n",
       "                   param_distributions={&#x27;gbc__criterion&#x27;: [&#x27;friedman_mse&#x27;,\n",
       "                                                           &#x27;squared_error&#x27;],\n",
       "                                        &#x27;gbc__learning_rate&#x27;: [0.2, 0.1, 0.01,\n",
       "                                                               0.001, 0.0001],\n",
       "                                        &#x27;gbc__loss&#x27;: [&#x27;log_loss&#x27;,\n",
       "                                                      &#x27;exponential&#x27;],\n",
       "                                        &#x27;gbc__max_depth&#x27;: [2, 3, 4, 5],\n",
       "                                        &#x27;gbc__min_samples_leaf&#x27;: [1, 2],\n",
       "                                        &#x27;gbc__min_samples_split&#x27;: [2, 5, 10,\n",
       "                                                                   20],\n",
       "                                        &#x27;gbc__n_estimators&#x27;: [20, 50, 100, 200,\n",
       "                                                              400]},\n",
       "                   random_state=301, refit=&#x27;accuracy&#x27;, scoring=&#x27;accuracy&#x27;)</pre><b>In a Jupyter environment, please rerun this cell to show the HTML representation or trust the notebook. <br />On GitHub, the HTML representation is unable to render, please try loading this page with nbviewer.org.</b></div><div class=\"sk-container\" hidden><div class=\"sk-item sk-dashed-wrapped\"><div class=\"sk-label-container\"><div class=\"sk-label sk-toggleable\"><input class=\"sk-toggleable__control sk-hidden--visually\" id=\"sk-estimator-id-19\" type=\"checkbox\" ><label for=\"sk-estimator-id-19\" class=\"sk-toggleable__label sk-toggleable__label-arrow\">RandomizedSearchCV</label><div class=\"sk-toggleable__content\"><pre>RandomizedSearchCV(cv=10,\n",
       "                   estimator=Pipeline(steps=[(&#x27;Preprocessing&#x27;,\n",
       "                                              ColumnTransformer(transformers=[(&#x27;num&#x27;,\n",
       "                                                                               Pipeline(steps=[(&#x27;imputer&#x27;,\n",
       "                                                                                                SimpleImputer()),\n",
       "                                                                                               (&#x27;scaler&#x27;,\n",
       "                                                                                                StandardScaler(with_mean=False))]),\n",
       "                                                                               [&#x27;LBXWBCSI&#x27;,\n",
       "                                                                                &#x27;LBXLYPCT&#x27;,\n",
       "                                                                                &#x27;LBXMOPCT&#x27;,\n",
       "                                                                                &#x27;LBXEOPCT&#x27;,\n",
       "                                                                                &#x27;LBXBAPCT&#x27;,\n",
       "                                                                                &#x27;LBDMONO&#x27;,\n",
       "                                                                                &#x27;LBDNENO&#x27;,\n",
       "                                                                                &#x27;LBDEONO&#x27;,\n",
       "                                                                                &#x27;LBXRBCSI&#x27;,\n",
       "                                                                                &#x27;LBXMCVSI&#x27;,\n",
       "                                                                                &#x27;LBXMC&#x27;,\n",
       "                                                                                &#x27;LBXRDW&#x27;,\n",
       "                                                                                &#x27;LBXPLTSI&#x27;,\n",
       "                                                                                &#x27;LBXMPSI&#x27;,\n",
       "                                                                                &#x27;LBXBPB&#x27;...\n",
       "                                              GradientBoostingClassifier())]),\n",
       "                   param_distributions={&#x27;gbc__criterion&#x27;: [&#x27;friedman_mse&#x27;,\n",
       "                                                           &#x27;squared_error&#x27;],\n",
       "                                        &#x27;gbc__learning_rate&#x27;: [0.2, 0.1, 0.01,\n",
       "                                                               0.001, 0.0001],\n",
       "                                        &#x27;gbc__loss&#x27;: [&#x27;log_loss&#x27;,\n",
       "                                                      &#x27;exponential&#x27;],\n",
       "                                        &#x27;gbc__max_depth&#x27;: [2, 3, 4, 5],\n",
       "                                        &#x27;gbc__min_samples_leaf&#x27;: [1, 2],\n",
       "                                        &#x27;gbc__min_samples_split&#x27;: [2, 5, 10,\n",
       "                                                                   20],\n",
       "                                        &#x27;gbc__n_estimators&#x27;: [20, 50, 100, 200,\n",
       "                                                              400]},\n",
       "                   random_state=301, refit=&#x27;accuracy&#x27;, scoring=&#x27;accuracy&#x27;)</pre></div></div></div><div class=\"sk-parallel\"><div class=\"sk-parallel-item\"><div class=\"sk-item\"><div class=\"sk-label-container\"><div class=\"sk-label sk-toggleable\"><input class=\"sk-toggleable__control sk-hidden--visually\" id=\"sk-estimator-id-20\" type=\"checkbox\" ><label for=\"sk-estimator-id-20\" class=\"sk-toggleable__label sk-toggleable__label-arrow\">estimator: Pipeline</label><div class=\"sk-toggleable__content\"><pre>Pipeline(steps=[(&#x27;Preprocessing&#x27;,\n",
       "                 ColumnTransformer(transformers=[(&#x27;num&#x27;,\n",
       "                                                  Pipeline(steps=[(&#x27;imputer&#x27;,\n",
       "                                                                   SimpleImputer()),\n",
       "                                                                  (&#x27;scaler&#x27;,\n",
       "                                                                   StandardScaler(with_mean=False))]),\n",
       "                                                  [&#x27;LBXWBCSI&#x27;, &#x27;LBXLYPCT&#x27;,\n",
       "                                                   &#x27;LBXMOPCT&#x27;, &#x27;LBXEOPCT&#x27;,\n",
       "                                                   &#x27;LBXBAPCT&#x27;, &#x27;LBDMONO&#x27;,\n",
       "                                                   &#x27;LBDNENO&#x27;, &#x27;LBDEONO&#x27;,\n",
       "                                                   &#x27;LBXRBCSI&#x27;, &#x27;LBXMCVSI&#x27;,\n",
       "                                                   &#x27;LBXMC&#x27;, &#x27;LBXRDW&#x27;,\n",
       "                                                   &#x27;LBXPLTSI&#x27;, &#x27;LBXMPSI&#x27;,\n",
       "                                                   &#x27;LBXBPB&#x27;, &#x27;LBXBCD&#x27;, &#x27;LBXTHG&#x27;,\n",
       "                                                   &#x27;LBXBSE&#x27;, &#x27;LBXBMN&#x27;, &#x27;LBXIHG&#x27;,\n",
       "                                                   &#x27;LBXBGE&#x27;, &#x27;LBDHDD&#x27;,\n",
       "                                                   &#x27;LBXVIDMS&#x27;, &#x27;LBXVD2MS&#x27;,\n",
       "                                                   &#x27;LBXVE3MS&#x27;]),\n",
       "                                                 (&#x27;cat&#x27;,\n",
       "                                                  Pipeline(steps=[(&#x27;imputer&#x27;,\n",
       "                                                                   SimpleImputer(strategy=&#x27;most_frequent&#x27;))]),\n",
       "                                                  [&#x27;LBDBANO&#x27;, &#x27;LBDBPBLC&#x27;,\n",
       "                                                   &#x27;LBDBCDLC&#x27;, &#x27;LBDTHGLC&#x27;,\n",
       "                                                   &#x27;LBDBSELC&#x27;, &#x27;LBDBMNLC&#x27;,\n",
       "                                                   &#x27;LBDIHGLC&#x27;, &#x27;LBDBGELC&#x27;,\n",
       "                                                   &#x27;LBDBGMLC&#x27;, &#x27;LBDVIDLC&#x27;,\n",
       "                                                   &#x27;LBDVD2LC&#x27;, &#x27;LBDVD3LC&#x27;,\n",
       "                                                   &#x27;LBDVE3LC&#x27;])])),\n",
       "                (&#x27;gbc&#x27;, GradientBoostingClassifier())])</pre></div></div></div><div class=\"sk-serial\"><div class=\"sk-item\"><div class=\"sk-serial\"><div class=\"sk-item sk-dashed-wrapped\"><div class=\"sk-label-container\"><div class=\"sk-label sk-toggleable\"><input class=\"sk-toggleable__control sk-hidden--visually\" id=\"sk-estimator-id-21\" type=\"checkbox\" ><label for=\"sk-estimator-id-21\" class=\"sk-toggleable__label sk-toggleable__label-arrow\">Preprocessing: ColumnTransformer</label><div class=\"sk-toggleable__content\"><pre>ColumnTransformer(transformers=[(&#x27;num&#x27;,\n",
       "                                 Pipeline(steps=[(&#x27;imputer&#x27;, SimpleImputer()),\n",
       "                                                 (&#x27;scaler&#x27;,\n",
       "                                                  StandardScaler(with_mean=False))]),\n",
       "                                 [&#x27;LBXWBCSI&#x27;, &#x27;LBXLYPCT&#x27;, &#x27;LBXMOPCT&#x27;,\n",
       "                                  &#x27;LBXEOPCT&#x27;, &#x27;LBXBAPCT&#x27;, &#x27;LBDMONO&#x27;, &#x27;LBDNENO&#x27;,\n",
       "                                  &#x27;LBDEONO&#x27;, &#x27;LBXRBCSI&#x27;, &#x27;LBXMCVSI&#x27;, &#x27;LBXMC&#x27;,\n",
       "                                  &#x27;LBXRDW&#x27;, &#x27;LBXPLTSI&#x27;, &#x27;LBXMPSI&#x27;, &#x27;LBXBPB&#x27;,\n",
       "                                  &#x27;LBXBCD&#x27;, &#x27;LBXTHG&#x27;, &#x27;LBXBSE&#x27;, &#x27;LBXBMN&#x27;,\n",
       "                                  &#x27;LBXIHG&#x27;, &#x27;LBXBGE&#x27;, &#x27;LBDHDD&#x27;, &#x27;LBXVIDMS&#x27;,\n",
       "                                  &#x27;LBXVD2MS&#x27;, &#x27;LBXVE3MS&#x27;]),\n",
       "                                (&#x27;cat&#x27;,\n",
       "                                 Pipeline(steps=[(&#x27;imputer&#x27;,\n",
       "                                                  SimpleImputer(strategy=&#x27;most_frequent&#x27;))]),\n",
       "                                 [&#x27;LBDBANO&#x27;, &#x27;LBDBPBLC&#x27;, &#x27;LBDBCDLC&#x27;, &#x27;LBDTHGLC&#x27;,\n",
       "                                  &#x27;LBDBSELC&#x27;, &#x27;LBDBMNLC&#x27;, &#x27;LBDIHGLC&#x27;,\n",
       "                                  &#x27;LBDBGELC&#x27;, &#x27;LBDBGMLC&#x27;, &#x27;LBDVIDLC&#x27;,\n",
       "                                  &#x27;LBDVD2LC&#x27;, &#x27;LBDVD3LC&#x27;, &#x27;LBDVE3LC&#x27;])])</pre></div></div></div><div class=\"sk-parallel\"><div class=\"sk-parallel-item\"><div class=\"sk-item\"><div class=\"sk-label-container\"><div class=\"sk-label sk-toggleable\"><input class=\"sk-toggleable__control sk-hidden--visually\" id=\"sk-estimator-id-22\" type=\"checkbox\" ><label for=\"sk-estimator-id-22\" class=\"sk-toggleable__label sk-toggleable__label-arrow\">num</label><div class=\"sk-toggleable__content\"><pre>[&#x27;LBXWBCSI&#x27;, &#x27;LBXLYPCT&#x27;, &#x27;LBXMOPCT&#x27;, &#x27;LBXEOPCT&#x27;, &#x27;LBXBAPCT&#x27;, &#x27;LBDMONO&#x27;, &#x27;LBDNENO&#x27;, &#x27;LBDEONO&#x27;, &#x27;LBXRBCSI&#x27;, &#x27;LBXMCVSI&#x27;, &#x27;LBXMC&#x27;, &#x27;LBXRDW&#x27;, &#x27;LBXPLTSI&#x27;, &#x27;LBXMPSI&#x27;, &#x27;LBXBPB&#x27;, &#x27;LBXBCD&#x27;, &#x27;LBXTHG&#x27;, &#x27;LBXBSE&#x27;, &#x27;LBXBMN&#x27;, &#x27;LBXIHG&#x27;, &#x27;LBXBGE&#x27;, &#x27;LBDHDD&#x27;, &#x27;LBXVIDMS&#x27;, &#x27;LBXVD2MS&#x27;, &#x27;LBXVE3MS&#x27;]</pre></div></div></div><div class=\"sk-serial\"><div class=\"sk-item\"><div class=\"sk-serial\"><div class=\"sk-item\"><div class=\"sk-estimator sk-toggleable\"><input class=\"sk-toggleable__control sk-hidden--visually\" id=\"sk-estimator-id-23\" type=\"checkbox\" ><label for=\"sk-estimator-id-23\" class=\"sk-toggleable__label sk-toggleable__label-arrow\">SimpleImputer</label><div class=\"sk-toggleable__content\"><pre>SimpleImputer()</pre></div></div></div><div class=\"sk-item\"><div class=\"sk-estimator sk-toggleable\"><input class=\"sk-toggleable__control sk-hidden--visually\" id=\"sk-estimator-id-24\" type=\"checkbox\" ><label for=\"sk-estimator-id-24\" class=\"sk-toggleable__label sk-toggleable__label-arrow\">StandardScaler</label><div class=\"sk-toggleable__content\"><pre>StandardScaler(with_mean=False)</pre></div></div></div></div></div></div></div></div><div class=\"sk-parallel-item\"><div class=\"sk-item\"><div class=\"sk-label-container\"><div class=\"sk-label sk-toggleable\"><input class=\"sk-toggleable__control sk-hidden--visually\" id=\"sk-estimator-id-25\" type=\"checkbox\" ><label for=\"sk-estimator-id-25\" class=\"sk-toggleable__label sk-toggleable__label-arrow\">cat</label><div class=\"sk-toggleable__content\"><pre>[&#x27;LBDBANO&#x27;, &#x27;LBDBPBLC&#x27;, &#x27;LBDBCDLC&#x27;, &#x27;LBDTHGLC&#x27;, &#x27;LBDBSELC&#x27;, &#x27;LBDBMNLC&#x27;, &#x27;LBDIHGLC&#x27;, &#x27;LBDBGELC&#x27;, &#x27;LBDBGMLC&#x27;, &#x27;LBDVIDLC&#x27;, &#x27;LBDVD2LC&#x27;, &#x27;LBDVD3LC&#x27;, &#x27;LBDVE3LC&#x27;]</pre></div></div></div><div class=\"sk-serial\"><div class=\"sk-item\"><div class=\"sk-serial\"><div class=\"sk-item\"><div class=\"sk-estimator sk-toggleable\"><input class=\"sk-toggleable__control sk-hidden--visually\" id=\"sk-estimator-id-26\" type=\"checkbox\" ><label for=\"sk-estimator-id-26\" class=\"sk-toggleable__label sk-toggleable__label-arrow\">SimpleImputer</label><div class=\"sk-toggleable__content\"><pre>SimpleImputer(strategy=&#x27;most_frequent&#x27;)</pre></div></div></div></div></div></div></div></div></div></div><div class=\"sk-item\"><div class=\"sk-estimator sk-toggleable\"><input class=\"sk-toggleable__control sk-hidden--visually\" id=\"sk-estimator-id-27\" type=\"checkbox\" ><label for=\"sk-estimator-id-27\" class=\"sk-toggleable__label sk-toggleable__label-arrow\">GradientBoostingClassifier</label><div class=\"sk-toggleable__content\"><pre>GradientBoostingClassifier()</pre></div></div></div></div></div></div></div></div></div></div></div></div>"
      ],
      "text/plain": [
       "RandomizedSearchCV(cv=10,\n",
       "                   estimator=Pipeline(steps=[('Preprocessing',\n",
       "                                              ColumnTransformer(transformers=[('num',\n",
       "                                                                               Pipeline(steps=[('imputer',\n",
       "                                                                                                SimpleImputer()),\n",
       "                                                                                               ('scaler',\n",
       "                                                                                                StandardScaler(with_mean=False))]),\n",
       "                                                                               ['LBXWBCSI',\n",
       "                                                                                'LBXLYPCT',\n",
       "                                                                                'LBXMOPCT',\n",
       "                                                                                'LBXEOPCT',\n",
       "                                                                                'LBXBAPCT',\n",
       "                                                                                'LBDMONO',\n",
       "                                                                                'LBDNENO',\n",
       "                                                                                'LBDEONO',\n",
       "                                                                                'LBXRBCSI',\n",
       "                                                                                'LBXMCVSI',\n",
       "                                                                                'LBXMC',\n",
       "                                                                                'LBXRDW',\n",
       "                                                                                'LBXPLTSI',\n",
       "                                                                                'LBXMPSI',\n",
       "                                                                                'LBXBPB'...\n",
       "                                              GradientBoostingClassifier())]),\n",
       "                   param_distributions={'gbc__criterion': ['friedman_mse',\n",
       "                                                           'squared_error'],\n",
       "                                        'gbc__learning_rate': [0.2, 0.1, 0.01,\n",
       "                                                               0.001, 0.0001],\n",
       "                                        'gbc__loss': ['log_loss',\n",
       "                                                      'exponential'],\n",
       "                                        'gbc__max_depth': [2, 3, 4, 5],\n",
       "                                        'gbc__min_samples_leaf': [1, 2],\n",
       "                                        'gbc__min_samples_split': [2, 5, 10,\n",
       "                                                                   20],\n",
       "                                        'gbc__n_estimators': [20, 50, 100, 200,\n",
       "                                                              400]},\n",
       "                   random_state=301, refit='accuracy', scoring='accuracy')"
      ]
     },
     "execution_count": 36,
     "metadata": {},
     "output_type": "execute_result"
    }
   ],
   "source": [
    "pipe3 = Pipeline(steps=[(\"Preprocessing\", preprocessor), (\"gbc\", GradientBoostingClassifier())])\n",
    "grad_grid = {'gbc__loss': ['log_loss', 'exponential'],\n",
    "               'gbc__learning_rate': [0.2, 0.1, 0.01, 0.001, 0.0001],\n",
    "               'gbc__n_estimators': [20, 50, 100, 200, 400],\n",
    "               'gbc__criterion': ['friedman_mse', 'squared_error'],\n",
    "               'gbc__max_depth': [2,3,4,5],\n",
    "               'gbc__min_samples_split': [2, 5, 10,20],\n",
    "               'gbc__min_samples_leaf': [1, 2]}\n",
    "gradSearch = RandomizedSearchCV(pipe3, param_distributions = grad_grid,n_iter=10, cv=10, scoring='accuracy', refit='accuracy',random_state=301)\n",
    "\n",
    "gradSearch.fit(xtrain, ytrain)"
   ]
  },
  {
   "cell_type": "code",
   "execution_count": 37,
   "metadata": {},
   "outputs": [
    {
     "data": {
      "text/plain": [
       "0.897"
      ]
     },
     "execution_count": 37,
     "metadata": {},
     "output_type": "execute_result"
    }
   ],
   "source": [
    "gradSearch.best_score_"
   ]
  },
  {
   "cell_type": "code",
   "execution_count": 38,
   "metadata": {},
   "outputs": [],
   "source": [
    "predictions3 = gradSearch.best_estimator_.predict(xtest)"
   ]
  },
  {
   "cell_type": "code",
   "execution_count": 39,
   "metadata": {},
   "outputs": [
    {
     "data": {
      "text/plain": [
       "0.878"
      ]
     },
     "execution_count": 39,
     "metadata": {},
     "output_type": "execute_result"
    }
   ],
   "source": [
    "accuracy_score(ytest, predictions3)"
   ]
  },
  {
   "cell_type": "code",
   "execution_count": 40,
   "metadata": {},
   "outputs": [
    {
     "name": "stdout",
     "output_type": "stream",
     "text": [
      "              precision    recall  f1-score   support\n",
      "\n",
      "       False       0.89      0.97      0.93       398\n",
      "        True       0.82      0.52      0.63       102\n",
      "\n",
      "    accuracy                           0.88       500\n",
      "   macro avg       0.85      0.74      0.78       500\n",
      "weighted avg       0.87      0.88      0.87       500\n",
      "\n"
     ]
    }
   ],
   "source": [
    "print(classification_report(ytest, predictions3))"
   ]
  },
  {
   "cell_type": "code",
   "execution_count": 41,
   "metadata": {},
   "outputs": [],
   "source": [
    "predictionsNum3 = gradSearch.best_estimator_.predict_proba(xtest)[:, 1]"
   ]
  },
  {
   "cell_type": "code",
   "execution_count": 77,
   "metadata": {},
   "outputs": [
    {
     "data": {
      "image/png": "[encoded data removed]",
      "text/plain": [
       "<Figure size 432x288 with 1 Axes>"
      ]
     },
     "metadata": {
      "needs_background": "light"
     },
     "output_type": "display_data"
    }
   ],
   "source": [
    "fpr, tpr, thresholds = roc_curve(ytestNum, predictionsNum3)\n",
    "fig = plt.figure()\n",
    "ax = fig.add_subplot()\n",
    "plt.plot(fpr, tpr)\n",
    "plt.plot([0, 1], [0, 1], '--')\n",
    "plt.xlabel('False Positive Rate')\n",
    "plt.ylabel('True Positive Rate')\n",
    "plt.title('ROC Curve')\n",
    "ax.set_aspect('equal', adjustable='box')\n",
    "plt.show()"
   ]
  },
  {
   "cell_type": "code",
   "execution_count": 43,
   "metadata": {},
   "outputs": [
    {
     "name": "stdout",
     "output_type": "stream",
     "text": [
      "ROC_AUC score:  0.935806483397379\n"
     ]
    }
   ],
   "source": [
    "print(\"ROC_AUC score: \",roc_auc_score(ytestNum, predictionsNum3))\n",
    "roc3 = roc_auc_score(ytestNum, predictionsNum3)"
   ]
  },
  {
   "cell_type": "code",
   "execution_count": 44,
   "metadata": {},
   "outputs": [
    {
     "name": "stdout",
     "output_type": "stream",
     "text": [
      "AUC-PR score:  0.7997761748124788\n"
     ]
    }
   ],
   "source": [
    "print(\"AUC-PR score: \",average_precision_score(ytestNum, predictionsNum3))\n",
    "aucpr3 = average_precision_score(ytestNum, predictionsNum3)"
   ]
  },
  {
   "cell_type": "markdown",
   "metadata": {},
   "source": [
    "## Demographic/environmental dataset"
   ]
  },
  {
   "cell_type": "code",
   "execution_count": 45,
   "metadata": {},
   "outputs": [
    {
     "data": {
      "text/html": [
       "<style>#sk-container-id-4 {color: black;}#sk-container-id-4 pre{padding: 0;}#sk-container-id-4 div.sk-toggleable {background-color: white;}#sk-container-id-4 label.sk-toggleable__label {cursor: pointer;display: block;width: 100%;margin-bottom: 0;padding: 0.3em;box-sizing: border-box;text-align: center;}#sk-container-id-4 label.sk-toggleable__label-arrow:before {content: \"▸\";float: left;margin-right: 0.25em;color: #696969;}#sk-container-id-4 label.sk-toggleable__label-arrow:hover:before {color: black;}#sk-container-id-4 div.sk-estimator:hover label.sk-toggleable__label-arrow:before {color: black;}#sk-container-id-4 div.sk-toggleable__content {max-height: 0;max-width: 0;overflow: hidden;text-align: left;background-color: #f0f8ff;}#sk-container-id-4 div.sk-toggleable__content pre {margin: 0.2em;color: black;border-radius: 0.25em;background-color: #f0f8ff;}#sk-container-id-4 input.sk-toggleable__control:checked~div.sk-toggleable__content {max-height: 200px;max-width: 100%;overflow: auto;}#sk-container-id-4 input.sk-toggleable__control:checked~label.sk-toggleable__label-arrow:before {content: \"▾\";}#sk-container-id-4 div.sk-estimator input.sk-toggleable__control:checked~label.sk-toggleable__label {background-color: #d4ebff;}#sk-container-id-4 div.sk-label input.sk-toggleable__control:checked~label.sk-toggleable__label {background-color: #d4ebff;}#sk-container-id-4 input.sk-hidden--visually {border: 0;clip: rect(1px 1px 1px 1px);clip: rect(1px, 1px, 1px, 1px);height: 1px;margin: -1px;overflow: hidden;padding: 0;position: absolute;width: 1px;}#sk-container-id-4 div.sk-estimator {font-family: monospace;background-color: #f0f8ff;border: 1px dotted black;border-radius: 0.25em;box-sizing: border-box;margin-bottom: 0.5em;}#sk-container-id-4 div.sk-estimator:hover {background-color: #d4ebff;}#sk-container-id-4 div.sk-parallel-item::after {content: \"\";width: 100%;border-bottom: 1px solid gray;flex-grow: 1;}#sk-container-id-4 div.sk-label:hover label.sk-toggleable__label {background-color: #d4ebff;}#sk-container-id-4 div.sk-serial::before {content: \"\";position: absolute;border-left: 1px solid gray;box-sizing: border-box;top: 0;bottom: 0;left: 50%;z-index: 0;}#sk-container-id-4 div.sk-serial {display: flex;flex-direction: column;align-items: center;background-color: white;padding-right: 0.2em;padding-left: 0.2em;position: relative;}#sk-container-id-4 div.sk-item {position: relative;z-index: 1;}#sk-container-id-4 div.sk-parallel {display: flex;align-items: stretch;justify-content: center;background-color: white;position: relative;}#sk-container-id-4 div.sk-item::before, #sk-container-id-4 div.sk-parallel-item::before {content: \"\";position: absolute;border-left: 1px solid gray;box-sizing: border-box;top: 0;bottom: 0;left: 50%;z-index: -1;}#sk-container-id-4 div.sk-parallel-item {display: flex;flex-direction: column;z-index: 1;position: relative;background-color: white;}#sk-container-id-4 div.sk-parallel-item:first-child::after {align-self: flex-end;width: 50%;}#sk-container-id-4 div.sk-parallel-item:last-child::after {align-self: flex-start;width: 50%;}#sk-container-id-4 div.sk-parallel-item:only-child::after {width: 0;}#sk-container-id-4 div.sk-dashed-wrapped {border: 1px dashed gray;margin: 0 0.4em 0.5em 0.4em;box-sizing: border-box;padding-bottom: 0.4em;background-color: white;}#sk-container-id-4 div.sk-label label {font-family: monospace;font-weight: bold;display: inline-block;line-height: 1.2em;}#sk-container-id-4 div.sk-label-container {text-align: center;}#sk-container-id-4 div.sk-container {/* jupyter's `normalize.less` sets `[hidden] { display: none; }` but bootstrap.min.css set `[hidden] { display: none !important; }` so we also need the `!important` here to be able to override the default hidden behavior on the sphinx rendered scikit-learn.org. See: https://github.com/scikit-learn/scikit-learn/issues/21755 */display: inline-block !important;position: relative;}#sk-container-id-4 div.sk-text-repr-fallback {display: none;}</style><div id=\"sk-container-id-4\" class=\"sk-top-container\"><div class=\"sk-text-repr-fallback\"><pre>RandomizedSearchCV(cv=5,\n",
       "                   estimator=Pipeline(steps=[(&#x27;preprocessor&#x27;,\n",
       "                                              ColumnTransformer(transformers=[(&#x27;num&#x27;,\n",
       "                                                                               Pipeline(steps=[(&#x27;imputer&#x27;,\n",
       "                                                                                                SimpleImputer()),\n",
       "                                                                                               (&#x27;scaler&#x27;,\n",
       "                                                                                                StandardScaler(with_mean=False))]),\n",
       "                                                                               [&#x27;LBXWBCSI&#x27;,\n",
       "                                                                                &#x27;LBXLYPCT&#x27;,\n",
       "                                                                                &#x27;LBXMOPCT&#x27;,\n",
       "                                                                                &#x27;LBXEOPCT&#x27;,\n",
       "                                                                                &#x27;LBXBAPCT&#x27;,\n",
       "                                                                                &#x27;LBDMONO&#x27;,\n",
       "                                                                                &#x27;LBDNENO&#x27;,\n",
       "                                                                                &#x27;LBDEONO&#x27;,\n",
       "                                                                                &#x27;LBXRBCSI&#x27;,\n",
       "                                                                                &#x27;LBXMCVSI&#x27;,\n",
       "                                                                                &#x27;LBXMC&#x27;,\n",
       "                                                                                &#x27;LBXRDW&#x27;,\n",
       "                                                                                &#x27;LBXPLTSI&#x27;,\n",
       "                                                                                &#x27;LBXMPSI&#x27;,\n",
       "                                                                                &#x27;LBXBPB&#x27;,\n",
       "                                                                                &#x27;...\n",
       "                                                                                &#x27;LBDVD3LC&#x27;,\n",
       "                                                                                &#x27;LBDVE3LC&#x27;])])),\n",
       "                                             (&#x27;rfc&#x27;,\n",
       "                                              RandomForestClassifier())]),\n",
       "                   param_distributions={&#x27;rfc__bootstrap&#x27;: [True, False],\n",
       "                                        &#x27;rfc__max_depth&#x27;: [10, 20, 30, 40, 50,\n",
       "                                                           100],\n",
       "                                        &#x27;rfc__max_features&#x27;: [&#x27;log2&#x27;, &#x27;sqrt&#x27;],\n",
       "                                        &#x27;rfc__min_samples_leaf&#x27;: [1, 2, 4, 6],\n",
       "                                        &#x27;rfc__min_samples_split&#x27;: [2, 5, 10,\n",
       "                                                                   20],\n",
       "                                        &#x27;rfc__n_estimators&#x27;: [200, 400, 600,\n",
       "                                                              800, 1000]},\n",
       "                   random_state=301, refit=&#x27;accuracy&#x27;, scoring=&#x27;accuracy&#x27;)</pre><b>In a Jupyter environment, please rerun this cell to show the HTML representation or trust the notebook. <br />On GitHub, the HTML representation is unable to render, please try loading this page with nbviewer.org.</b></div><div class=\"sk-container\" hidden><div class=\"sk-item sk-dashed-wrapped\"><div class=\"sk-label-container\"><div class=\"sk-label sk-toggleable\"><input class=\"sk-toggleable__control sk-hidden--visually\" id=\"sk-estimator-id-28\" type=\"checkbox\" ><label for=\"sk-estimator-id-28\" class=\"sk-toggleable__label sk-toggleable__label-arrow\">RandomizedSearchCV</label><div class=\"sk-toggleable__content\"><pre>RandomizedSearchCV(cv=5,\n",
       "                   estimator=Pipeline(steps=[(&#x27;preprocessor&#x27;,\n",
       "                                              ColumnTransformer(transformers=[(&#x27;num&#x27;,\n",
       "                                                                               Pipeline(steps=[(&#x27;imputer&#x27;,\n",
       "                                                                                                SimpleImputer()),\n",
       "                                                                                               (&#x27;scaler&#x27;,\n",
       "                                                                                                StandardScaler(with_mean=False))]),\n",
       "                                                                               [&#x27;LBXWBCSI&#x27;,\n",
       "                                                                                &#x27;LBXLYPCT&#x27;,\n",
       "                                                                                &#x27;LBXMOPCT&#x27;,\n",
       "                                                                                &#x27;LBXEOPCT&#x27;,\n",
       "                                                                                &#x27;LBXBAPCT&#x27;,\n",
       "                                                                                &#x27;LBDMONO&#x27;,\n",
       "                                                                                &#x27;LBDNENO&#x27;,\n",
       "                                                                                &#x27;LBDEONO&#x27;,\n",
       "                                                                                &#x27;LBXRBCSI&#x27;,\n",
       "                                                                                &#x27;LBXMCVSI&#x27;,\n",
       "                                                                                &#x27;LBXMC&#x27;,\n",
       "                                                                                &#x27;LBXRDW&#x27;,\n",
       "                                                                                &#x27;LBXPLTSI&#x27;,\n",
       "                                                                                &#x27;LBXMPSI&#x27;,\n",
       "                                                                                &#x27;LBXBPB&#x27;,\n",
       "                                                                                &#x27;...\n",
       "                                                                                &#x27;LBDVD3LC&#x27;,\n",
       "                                                                                &#x27;LBDVE3LC&#x27;])])),\n",
       "                                             (&#x27;rfc&#x27;,\n",
       "                                              RandomForestClassifier())]),\n",
       "                   param_distributions={&#x27;rfc__bootstrap&#x27;: [True, False],\n",
       "                                        &#x27;rfc__max_depth&#x27;: [10, 20, 30, 40, 50,\n",
       "                                                           100],\n",
       "                                        &#x27;rfc__max_features&#x27;: [&#x27;log2&#x27;, &#x27;sqrt&#x27;],\n",
       "                                        &#x27;rfc__min_samples_leaf&#x27;: [1, 2, 4, 6],\n",
       "                                        &#x27;rfc__min_samples_split&#x27;: [2, 5, 10,\n",
       "                                                                   20],\n",
       "                                        &#x27;rfc__n_estimators&#x27;: [200, 400, 600,\n",
       "                                                              800, 1000]},\n",
       "                   random_state=301, refit=&#x27;accuracy&#x27;, scoring=&#x27;accuracy&#x27;)</pre></div></div></div><div class=\"sk-parallel\"><div class=\"sk-parallel-item\"><div class=\"sk-item\"><div class=\"sk-label-container\"><div class=\"sk-label sk-toggleable\"><input class=\"sk-toggleable__control sk-hidden--visually\" id=\"sk-estimator-id-29\" type=\"checkbox\" ><label for=\"sk-estimator-id-29\" class=\"sk-toggleable__label sk-toggleable__label-arrow\">estimator: Pipeline</label><div class=\"sk-toggleable__content\"><pre>Pipeline(steps=[(&#x27;preprocessor&#x27;,\n",
       "                 ColumnTransformer(transformers=[(&#x27;num&#x27;,\n",
       "                                                  Pipeline(steps=[(&#x27;imputer&#x27;,\n",
       "                                                                   SimpleImputer()),\n",
       "                                                                  (&#x27;scaler&#x27;,\n",
       "                                                                   StandardScaler(with_mean=False))]),\n",
       "                                                  [&#x27;LBXWBCSI&#x27;, &#x27;LBXLYPCT&#x27;,\n",
       "                                                   &#x27;LBXMOPCT&#x27;, &#x27;LBXEOPCT&#x27;,\n",
       "                                                   &#x27;LBXBAPCT&#x27;, &#x27;LBDMONO&#x27;,\n",
       "                                                   &#x27;LBDNENO&#x27;, &#x27;LBDEONO&#x27;,\n",
       "                                                   &#x27;LBXRBCSI&#x27;, &#x27;LBXMCVSI&#x27;,\n",
       "                                                   &#x27;LBXMC&#x27;, &#x27;LBXRDW&#x27;,\n",
       "                                                   &#x27;LBXPLTSI&#x27;, &#x27;LBXMPSI&#x27;,\n",
       "                                                   &#x27;LBXBPB&#x27;, &#x27;LBXBCD&#x27;, &#x27;LBXTHG&#x27;,\n",
       "                                                   &#x27;LBXBSE&#x27;, &#x27;LBXBMN&#x27;, &#x27;LBXIHG&#x27;,\n",
       "                                                   &#x27;LBXBGE&#x27;, &#x27;LBDHDD&#x27;,\n",
       "                                                   &#x27;LBXVIDMS&#x27;, &#x27;LBXVD2MS&#x27;,\n",
       "                                                   &#x27;LBXVE3MS&#x27;]),\n",
       "                                                 (&#x27;cat&#x27;,\n",
       "                                                  Pipeline(steps=[(&#x27;imputer&#x27;,\n",
       "                                                                   SimpleImputer(strategy=&#x27;most_frequent&#x27;))]),\n",
       "                                                  [&#x27;LBDBANO&#x27;, &#x27;LBDBPBLC&#x27;,\n",
       "                                                   &#x27;LBDBCDLC&#x27;, &#x27;LBDTHGLC&#x27;,\n",
       "                                                   &#x27;LBDBSELC&#x27;, &#x27;LBDBMNLC&#x27;,\n",
       "                                                   &#x27;LBDIHGLC&#x27;, &#x27;LBDBGELC&#x27;,\n",
       "                                                   &#x27;LBDBGMLC&#x27;, &#x27;LBDVIDLC&#x27;,\n",
       "                                                   &#x27;LBDVD2LC&#x27;, &#x27;LBDVD3LC&#x27;,\n",
       "                                                   &#x27;LBDVE3LC&#x27;])])),\n",
       "                (&#x27;rfc&#x27;, RandomForestClassifier())])</pre></div></div></div><div class=\"sk-serial\"><div class=\"sk-item\"><div class=\"sk-serial\"><div class=\"sk-item sk-dashed-wrapped\"><div class=\"sk-label-container\"><div class=\"sk-label sk-toggleable\"><input class=\"sk-toggleable__control sk-hidden--visually\" id=\"sk-estimator-id-30\" type=\"checkbox\" ><label for=\"sk-estimator-id-30\" class=\"sk-toggleable__label sk-toggleable__label-arrow\">preprocessor: ColumnTransformer</label><div class=\"sk-toggleable__content\"><pre>ColumnTransformer(transformers=[(&#x27;num&#x27;,\n",
       "                                 Pipeline(steps=[(&#x27;imputer&#x27;, SimpleImputer()),\n",
       "                                                 (&#x27;scaler&#x27;,\n",
       "                                                  StandardScaler(with_mean=False))]),\n",
       "                                 [&#x27;LBXWBCSI&#x27;, &#x27;LBXLYPCT&#x27;, &#x27;LBXMOPCT&#x27;,\n",
       "                                  &#x27;LBXEOPCT&#x27;, &#x27;LBXBAPCT&#x27;, &#x27;LBDMONO&#x27;, &#x27;LBDNENO&#x27;,\n",
       "                                  &#x27;LBDEONO&#x27;, &#x27;LBXRBCSI&#x27;, &#x27;LBXMCVSI&#x27;, &#x27;LBXMC&#x27;,\n",
       "                                  &#x27;LBXRDW&#x27;, &#x27;LBXPLTSI&#x27;, &#x27;LBXMPSI&#x27;, &#x27;LBXBPB&#x27;,\n",
       "                                  &#x27;LBXBCD&#x27;, &#x27;LBXTHG&#x27;, &#x27;LBXBSE&#x27;, &#x27;LBXBMN&#x27;,\n",
       "                                  &#x27;LBXIHG&#x27;, &#x27;LBXBGE&#x27;, &#x27;LBDHDD&#x27;, &#x27;LBXVIDMS&#x27;,\n",
       "                                  &#x27;LBXVD2MS&#x27;, &#x27;LBXVE3MS&#x27;]),\n",
       "                                (&#x27;cat&#x27;,\n",
       "                                 Pipeline(steps=[(&#x27;imputer&#x27;,\n",
       "                                                  SimpleImputer(strategy=&#x27;most_frequent&#x27;))]),\n",
       "                                 [&#x27;LBDBANO&#x27;, &#x27;LBDBPBLC&#x27;, &#x27;LBDBCDLC&#x27;, &#x27;LBDTHGLC&#x27;,\n",
       "                                  &#x27;LBDBSELC&#x27;, &#x27;LBDBMNLC&#x27;, &#x27;LBDIHGLC&#x27;,\n",
       "                                  &#x27;LBDBGELC&#x27;, &#x27;LBDBGMLC&#x27;, &#x27;LBDVIDLC&#x27;,\n",
       "                                  &#x27;LBDVD2LC&#x27;, &#x27;LBDVD3LC&#x27;, &#x27;LBDVE3LC&#x27;])])</pre></div></div></div><div class=\"sk-parallel\"><div class=\"sk-parallel-item\"><div class=\"sk-item\"><div class=\"sk-label-container\"><div class=\"sk-label sk-toggleable\"><input class=\"sk-toggleable__control sk-hidden--visually\" id=\"sk-estimator-id-31\" type=\"checkbox\" ><label for=\"sk-estimator-id-31\" class=\"sk-toggleable__label sk-toggleable__label-arrow\">num</label><div class=\"sk-toggleable__content\"><pre>[&#x27;LBXWBCSI&#x27;, &#x27;LBXLYPCT&#x27;, &#x27;LBXMOPCT&#x27;, &#x27;LBXEOPCT&#x27;, &#x27;LBXBAPCT&#x27;, &#x27;LBDMONO&#x27;, &#x27;LBDNENO&#x27;, &#x27;LBDEONO&#x27;, &#x27;LBXRBCSI&#x27;, &#x27;LBXMCVSI&#x27;, &#x27;LBXMC&#x27;, &#x27;LBXRDW&#x27;, &#x27;LBXPLTSI&#x27;, &#x27;LBXMPSI&#x27;, &#x27;LBXBPB&#x27;, &#x27;LBXBCD&#x27;, &#x27;LBXTHG&#x27;, &#x27;LBXBSE&#x27;, &#x27;LBXBMN&#x27;, &#x27;LBXIHG&#x27;, &#x27;LBXBGE&#x27;, &#x27;LBDHDD&#x27;, &#x27;LBXVIDMS&#x27;, &#x27;LBXVD2MS&#x27;, &#x27;LBXVE3MS&#x27;]</pre></div></div></div><div class=\"sk-serial\"><div class=\"sk-item\"><div class=\"sk-serial\"><div class=\"sk-item\"><div class=\"sk-estimator sk-toggleable\"><input class=\"sk-toggleable__control sk-hidden--visually\" id=\"sk-estimator-id-32\" type=\"checkbox\" ><label for=\"sk-estimator-id-32\" class=\"sk-toggleable__label sk-toggleable__label-arrow\">SimpleImputer</label><div class=\"sk-toggleable__content\"><pre>SimpleImputer()</pre></div></div></div><div class=\"sk-item\"><div class=\"sk-estimator sk-toggleable\"><input class=\"sk-toggleable__control sk-hidden--visually\" id=\"sk-estimator-id-33\" type=\"checkbox\" ><label for=\"sk-estimator-id-33\" class=\"sk-toggleable__label sk-toggleable__label-arrow\">StandardScaler</label><div class=\"sk-toggleable__content\"><pre>StandardScaler(with_mean=False)</pre></div></div></div></div></div></div></div></div><div class=\"sk-parallel-item\"><div class=\"sk-item\"><div class=\"sk-label-container\"><div class=\"sk-label sk-toggleable\"><input class=\"sk-toggleable__control sk-hidden--visually\" id=\"sk-estimator-id-34\" type=\"checkbox\" ><label for=\"sk-estimator-id-34\" class=\"sk-toggleable__label sk-toggleable__label-arrow\">cat</label><div class=\"sk-toggleable__content\"><pre>[&#x27;LBDBANO&#x27;, &#x27;LBDBPBLC&#x27;, &#x27;LBDBCDLC&#x27;, &#x27;LBDTHGLC&#x27;, &#x27;LBDBSELC&#x27;, &#x27;LBDBMNLC&#x27;, &#x27;LBDIHGLC&#x27;, &#x27;LBDBGELC&#x27;, &#x27;LBDBGMLC&#x27;, &#x27;LBDVIDLC&#x27;, &#x27;LBDVD2LC&#x27;, &#x27;LBDVD3LC&#x27;, &#x27;LBDVE3LC&#x27;]</pre></div></div></div><div class=\"sk-serial\"><div class=\"sk-item\"><div class=\"sk-serial\"><div class=\"sk-item\"><div class=\"sk-estimator sk-toggleable\"><input class=\"sk-toggleable__control sk-hidden--visually\" id=\"sk-estimator-id-35\" type=\"checkbox\" ><label for=\"sk-estimator-id-35\" class=\"sk-toggleable__label sk-toggleable__label-arrow\">SimpleImputer</label><div class=\"sk-toggleable__content\"><pre>SimpleImputer(strategy=&#x27;most_frequent&#x27;)</pre></div></div></div></div></div></div></div></div></div></div><div class=\"sk-item\"><div class=\"sk-estimator sk-toggleable\"><input class=\"sk-toggleable__control sk-hidden--visually\" id=\"sk-estimator-id-36\" type=\"checkbox\" ><label for=\"sk-estimator-id-36\" class=\"sk-toggleable__label sk-toggleable__label-arrow\">RandomForestClassifier</label><div class=\"sk-toggleable__content\"><pre>RandomForestClassifier()</pre></div></div></div></div></div></div></div></div></div></div></div></div>"
      ],
      "text/plain": [
       "RandomizedSearchCV(cv=5,\n",
       "                   estimator=Pipeline(steps=[('preprocessor',\n",
       "                                              ColumnTransformer(transformers=[('num',\n",
       "                                                                               Pipeline(steps=[('imputer',\n",
       "                                                                                                SimpleImputer()),\n",
       "                                                                                               ('scaler',\n",
       "                                                                                                StandardScaler(with_mean=False))]),\n",
       "                                                                               ['LBXWBCSI',\n",
       "                                                                                'LBXLYPCT',\n",
       "                                                                                'LBXMOPCT',\n",
       "                                                                                'LBXEOPCT',\n",
       "                                                                                'LBXBAPCT',\n",
       "                                                                                'LBDMONO',\n",
       "                                                                                'LBDNENO',\n",
       "                                                                                'LBDEONO',\n",
       "                                                                                'LBXRBCSI',\n",
       "                                                                                'LBXMCVSI',\n",
       "                                                                                'LBXMC',\n",
       "                                                                                'LBXRDW',\n",
       "                                                                                'LBXPLTSI',\n",
       "                                                                                'LBXMPSI',\n",
       "                                                                                'LBXBPB',\n",
       "                                                                                '...\n",
       "                                                                                'LBDVD3LC',\n",
       "                                                                                'LBDVE3LC'])])),\n",
       "                                             ('rfc',\n",
       "                                              RandomForestClassifier())]),\n",
       "                   param_distributions={'rfc__bootstrap': [True, False],\n",
       "                                        'rfc__max_depth': [10, 20, 30, 40, 50,\n",
       "                                                           100],\n",
       "                                        'rfc__max_features': ['log2', 'sqrt'],\n",
       "                                        'rfc__min_samples_leaf': [1, 2, 4, 6],\n",
       "                                        'rfc__min_samples_split': [2, 5, 10,\n",
       "                                                                   20],\n",
       "                                        'rfc__n_estimators': [200, 400, 600,\n",
       "                                                              800, 1000]},\n",
       "                   random_state=301, refit='accuracy', scoring='accuracy')"
      ]
     },
     "execution_count": 45,
     "metadata": {},
     "output_type": "execute_result"
    }
   ],
   "source": [
    "#newdataset variables:\n",
    "catVars, numVars = catNamesAndNumNames(combinedLabDataImputed.drop(['SEQN','LBXHGB','DMDHRGND'], axis=1))\n",
    "xtrain, xtest, ytrain, ytest = train_test_split(combinedLabDataImputed.drop(['SEQN','LBXHGB','DMDHRGND'], axis=1), anemiaDemoEnv, test_size=0.2, random_state=42)\n",
    "categorical_transformer = Pipeline(\n",
    "    steps=[(\"imputer\", SimpleImputer(strategy=\"most_frequent\"))]\n",
    ")\n",
    "numeric_transformer = Pipeline(\n",
    "    steps=[(\"imputer\", SimpleImputer(strategy=\"mean\")), (\"scaler\", StandardScaler(with_mean=False))]\n",
    ")\n",
    "preprocessor = ColumnTransformer( \n",
    "    transformers=[\n",
    "        (\"num\", numeric_transformer, numVars),\n",
    "        (\"cat\", categorical_transformer, catVars)]\n",
    ")\n",
    "\n",
    "# 10% of the total variables will be selected\n",
    "selection = SelectPercentile(chi2, percentile = 10)\n",
    "pipe4 = Pipeline(\n",
    "    steps = [(\"preprocessor\", preprocessor),  (\"rfc\", RandomForestClassifier())]\n",
    ")\n",
    "\n",
    "random_grid = {'rfc__n_estimators': [200, 400, 600, 800, 1000],\n",
    "               'rfc__max_features': ['log2', 'sqrt'],\n",
    "               'rfc__max_depth': [10, 20, 30, 40, 50, 100],\n",
    "               'rfc__min_samples_split': [2, 5, 10, 20],\n",
    "               'rfc__min_samples_leaf': [1, 2, 4, 6],\n",
    "               'rfc__bootstrap': [True, False]}\n",
    "randomSearch = RandomizedSearchCV(pipe4, param_distributions = random_grid, scoring='accuracy', refit='accuracy', n_iter=10, cv=5, random_state=301)\n",
    "\n",
    "randomSearch.fit(xtrain, ytrain)"
   ]
  },
  {
   "cell_type": "code",
   "execution_count": 46,
   "metadata": {},
   "outputs": [
    {
     "data": {
      "text/plain": [
       "0.8799999999999999"
      ]
     },
     "execution_count": 46,
     "metadata": {},
     "output_type": "execute_result"
    }
   ],
   "source": [
    "randomSearch.best_score_ "
   ]
  },
  {
   "cell_type": "code",
   "execution_count": 47,
   "metadata": {},
   "outputs": [],
   "source": [
    "predictions4 = randomSearch.best_estimator_.predict(xtest)"
   ]
  },
  {
   "cell_type": "code",
   "execution_count": 48,
   "metadata": {},
   "outputs": [
    {
     "data": {
      "text/plain": [
       "0.856"
      ]
     },
     "execution_count": 48,
     "metadata": {},
     "output_type": "execute_result"
    }
   ],
   "source": [
    "accuracy_score(ytest, predictions4)"
   ]
  },
  {
   "cell_type": "code",
   "execution_count": 49,
   "metadata": {},
   "outputs": [
    {
     "name": "stdout",
     "output_type": "stream",
     "text": [
      "              precision    recall  f1-score   support\n",
      "\n",
      "       False       0.86      0.97      0.91       398\n",
      "        True       0.79      0.40      0.53       102\n",
      "\n",
      "    accuracy                           0.86       500\n",
      "   macro avg       0.83      0.69      0.72       500\n",
      "weighted avg       0.85      0.86      0.84       500\n",
      "\n"
     ]
    }
   ],
   "source": [
    "print(classification_report(ytest, predictions4))"
   ]
  },
  {
   "cell_type": "code",
   "execution_count": 50,
   "metadata": {},
   "outputs": [],
   "source": [
    "predictionsNum4 = randomSearch.best_estimator_.predict_proba(xtest)[:, 1]"
   ]
  },
  {
   "cell_type": "code",
   "execution_count": 51,
   "metadata": {},
   "outputs": [],
   "source": [
    "ytestNum = []\n",
    "for i in ytest:\n",
    "    if i ==\"True\":\n",
    "        ytestNum.append(1)\n",
    "    elif i==\"False\":\n",
    "        ytestNum.append(0)"
   ]
  },
  {
   "cell_type": "code",
   "execution_count": 76,
   "metadata": {},
   "outputs": [
    {
     "data": {
      "image/png": "[encoded data removed]",
      "text/plain": [
       "<Figure size 432x288 with 1 Axes>"
      ]
     },
     "metadata": {
      "needs_background": "light"
     },
     "output_type": "display_data"
    }
   ],
   "source": [
    "fpr, tpr, thresholds = roc_curve(ytestNum, predictionsNum4)\n",
    "fig = plt.figure()\n",
    "ax = fig.add_subplot()\n",
    "plt.plot(fpr, tpr)\n",
    "plt.plot([0, 1], [0, 1], '--')\n",
    "plt.xlabel('False Positive Rate')\n",
    "plt.ylabel('True Positive Rate')\n",
    "plt.title('ROC Curve')\n",
    "ax.set_aspect('equal', adjustable='box')\n",
    "plt.show()"
   ]
  },
  {
   "cell_type": "code",
   "execution_count": 53,
   "metadata": {},
   "outputs": [
    {
     "name": "stdout",
     "output_type": "stream",
     "text": [
      "ROC_AUC score:  0.9079712286924821\n"
     ]
    }
   ],
   "source": [
    "print(\"ROC_AUC score: \",roc_auc_score(ytestNum, predictionsNum4))\n",
    "roc4 = roc_auc_score(ytestNum, predictionsNum4)"
   ]
  },
  {
   "cell_type": "code",
   "execution_count": 54,
   "metadata": {},
   "outputs": [
    {
     "name": "stdout",
     "output_type": "stream",
     "text": [
      "AUC-PR score:  0.734720360029524\n"
     ]
    }
   ],
   "source": [
    "print(\"AUC-PR score: \",average_precision_score(ytestNum, predictionsNum4))\n",
    "aucpr4 = average_precision_score(ytestNum, predictionsNum4)"
   ]
  },
  {
   "cell_type": "code",
   "execution_count": 55,
   "metadata": {},
   "outputs": [
    {
     "data": {
      "text/html": [
       "<style>#sk-container-id-5 {color: black;}#sk-container-id-5 pre{padding: 0;}#sk-container-id-5 div.sk-toggleable {background-color: white;}#sk-container-id-5 label.sk-toggleable__label {cursor: pointer;display: block;width: 100%;margin-bottom: 0;padding: 0.3em;box-sizing: border-box;text-align: center;}#sk-container-id-5 label.sk-toggleable__label-arrow:before {content: \"▸\";float: left;margin-right: 0.25em;color: #696969;}#sk-container-id-5 label.sk-toggleable__label-arrow:hover:before {color: black;}#sk-container-id-5 div.sk-estimator:hover label.sk-toggleable__label-arrow:before {color: black;}#sk-container-id-5 div.sk-toggleable__content {max-height: 0;max-width: 0;overflow: hidden;text-align: left;background-color: #f0f8ff;}#sk-container-id-5 div.sk-toggleable__content pre {margin: 0.2em;color: black;border-radius: 0.25em;background-color: #f0f8ff;}#sk-container-id-5 input.sk-toggleable__control:checked~div.sk-toggleable__content {max-height: 200px;max-width: 100%;overflow: auto;}#sk-container-id-5 input.sk-toggleable__control:checked~label.sk-toggleable__label-arrow:before {content: \"▾\";}#sk-container-id-5 div.sk-estimator input.sk-toggleable__control:checked~label.sk-toggleable__label {background-color: #d4ebff;}#sk-container-id-5 div.sk-label input.sk-toggleable__control:checked~label.sk-toggleable__label {background-color: #d4ebff;}#sk-container-id-5 input.sk-hidden--visually {border: 0;clip: rect(1px 1px 1px 1px);clip: rect(1px, 1px, 1px, 1px);height: 1px;margin: -1px;overflow: hidden;padding: 0;position: absolute;width: 1px;}#sk-container-id-5 div.sk-estimator {font-family: monospace;background-color: #f0f8ff;border: 1px dotted black;border-radius: 0.25em;box-sizing: border-box;margin-bottom: 0.5em;}#sk-container-id-5 div.sk-estimator:hover {background-color: #d4ebff;}#sk-container-id-5 div.sk-parallel-item::after {content: \"\";width: 100%;border-bottom: 1px solid gray;flex-grow: 1;}#sk-container-id-5 div.sk-label:hover label.sk-toggleable__label {background-color: #d4ebff;}#sk-container-id-5 div.sk-serial::before {content: \"\";position: absolute;border-left: 1px solid gray;box-sizing: border-box;top: 0;bottom: 0;left: 50%;z-index: 0;}#sk-container-id-5 div.sk-serial {display: flex;flex-direction: column;align-items: center;background-color: white;padding-right: 0.2em;padding-left: 0.2em;position: relative;}#sk-container-id-5 div.sk-item {position: relative;z-index: 1;}#sk-container-id-5 div.sk-parallel {display: flex;align-items: stretch;justify-content: center;background-color: white;position: relative;}#sk-container-id-5 div.sk-item::before, #sk-container-id-5 div.sk-parallel-item::before {content: \"\";position: absolute;border-left: 1px solid gray;box-sizing: border-box;top: 0;bottom: 0;left: 50%;z-index: -1;}#sk-container-id-5 div.sk-parallel-item {display: flex;flex-direction: column;z-index: 1;position: relative;background-color: white;}#sk-container-id-5 div.sk-parallel-item:first-child::after {align-self: flex-end;width: 50%;}#sk-container-id-5 div.sk-parallel-item:last-child::after {align-self: flex-start;width: 50%;}#sk-container-id-5 div.sk-parallel-item:only-child::after {width: 0;}#sk-container-id-5 div.sk-dashed-wrapped {border: 1px dashed gray;margin: 0 0.4em 0.5em 0.4em;box-sizing: border-box;padding-bottom: 0.4em;background-color: white;}#sk-container-id-5 div.sk-label label {font-family: monospace;font-weight: bold;display: inline-block;line-height: 1.2em;}#sk-container-id-5 div.sk-label-container {text-align: center;}#sk-container-id-5 div.sk-container {/* jupyter's `normalize.less` sets `[hidden] { display: none; }` but bootstrap.min.css set `[hidden] { display: none !important; }` so we also need the `!important` here to be able to override the default hidden behavior on the sphinx rendered scikit-learn.org. See: https://github.com/scikit-learn/scikit-learn/issues/21755 */display: inline-block !important;position: relative;}#sk-container-id-5 div.sk-text-repr-fallback {display: none;}</style><div id=\"sk-container-id-5\" class=\"sk-top-container\"><div class=\"sk-text-repr-fallback\"><pre>RandomizedSearchCV(cv=5,\n",
       "                   estimator=Pipeline(steps=[(&#x27;Preprocessing&#x27;,\n",
       "                                              ColumnTransformer(transformers=[(&#x27;num&#x27;,\n",
       "                                                                               Pipeline(steps=[(&#x27;imputer&#x27;,\n",
       "                                                                                                SimpleImputer()),\n",
       "                                                                                               (&#x27;scaler&#x27;,\n",
       "                                                                                                StandardScaler(with_mean=False))]),\n",
       "                                                                               [&#x27;LBXWBCSI&#x27;,\n",
       "                                                                                &#x27;LBXLYPCT&#x27;,\n",
       "                                                                                &#x27;LBXMOPCT&#x27;,\n",
       "                                                                                &#x27;LBXEOPCT&#x27;,\n",
       "                                                                                &#x27;LBXBAPCT&#x27;,\n",
       "                                                                                &#x27;LBDMONO&#x27;,\n",
       "                                                                                &#x27;LBDNENO&#x27;,\n",
       "                                                                                &#x27;LBDEONO&#x27;,\n",
       "                                                                                &#x27;LBXRBCSI&#x27;,\n",
       "                                                                                &#x27;LBXMCVSI&#x27;,\n",
       "                                                                                &#x27;LBXMC&#x27;,\n",
       "                                                                                &#x27;LBXRDW&#x27;,\n",
       "                                                                                &#x27;LBXPLTSI&#x27;,\n",
       "                                                                                &#x27;LBXMPSI&#x27;,\n",
       "                                                                                &#x27;LBXBPB&#x27;,...\n",
       "                                        &#x27;mlp__alpha&#x27;: [0.01, 0.001, 0.0001,\n",
       "                                                       1e-05],\n",
       "                                        &#x27;mlp__early_stopping&#x27;: [True],\n",
       "                                        &#x27;mlp__hidden_layer_sizes&#x27;: [(50,),\n",
       "                                                                    (100,),\n",
       "                                                                    (200,),\n",
       "                                                                    (400,)],\n",
       "                                        &#x27;mlp__learning_rate&#x27;: [&#x27;constant&#x27;,\n",
       "                                                               &#x27;invscaling&#x27;,\n",
       "                                                               &#x27;adaptive&#x27;],\n",
       "                                        &#x27;mlp__learning_rate_init&#x27;: [0.0001,\n",
       "                                                                    0.001, 0.01,\n",
       "                                                                    0.1],\n",
       "                                        &#x27;mlp__max_iter&#x27;: [200, 2000, 20000,\n",
       "                                                          200000],\n",
       "                                        &#x27;mlp__solver&#x27;: [&#x27;sgd&#x27;, &#x27;adam&#x27;]},\n",
       "                   random_state=301, refit=&#x27;accuracy&#x27;, scoring=&#x27;accuracy&#x27;)</pre><b>In a Jupyter environment, please rerun this cell to show the HTML representation or trust the notebook. <br />On GitHub, the HTML representation is unable to render, please try loading this page with nbviewer.org.</b></div><div class=\"sk-container\" hidden><div class=\"sk-item sk-dashed-wrapped\"><div class=\"sk-label-container\"><div class=\"sk-label sk-toggleable\"><input class=\"sk-toggleable__control sk-hidden--visually\" id=\"sk-estimator-id-37\" type=\"checkbox\" ><label for=\"sk-estimator-id-37\" class=\"sk-toggleable__label sk-toggleable__label-arrow\">RandomizedSearchCV</label><div class=\"sk-toggleable__content\"><pre>RandomizedSearchCV(cv=5,\n",
       "                   estimator=Pipeline(steps=[(&#x27;Preprocessing&#x27;,\n",
       "                                              ColumnTransformer(transformers=[(&#x27;num&#x27;,\n",
       "                                                                               Pipeline(steps=[(&#x27;imputer&#x27;,\n",
       "                                                                                                SimpleImputer()),\n",
       "                                                                                               (&#x27;scaler&#x27;,\n",
       "                                                                                                StandardScaler(with_mean=False))]),\n",
       "                                                                               [&#x27;LBXWBCSI&#x27;,\n",
       "                                                                                &#x27;LBXLYPCT&#x27;,\n",
       "                                                                                &#x27;LBXMOPCT&#x27;,\n",
       "                                                                                &#x27;LBXEOPCT&#x27;,\n",
       "                                                                                &#x27;LBXBAPCT&#x27;,\n",
       "                                                                                &#x27;LBDMONO&#x27;,\n",
       "                                                                                &#x27;LBDNENO&#x27;,\n",
       "                                                                                &#x27;LBDEONO&#x27;,\n",
       "                                                                                &#x27;LBXRBCSI&#x27;,\n",
       "                                                                                &#x27;LBXMCVSI&#x27;,\n",
       "                                                                                &#x27;LBXMC&#x27;,\n",
       "                                                                                &#x27;LBXRDW&#x27;,\n",
       "                                                                                &#x27;LBXPLTSI&#x27;,\n",
       "                                                                                &#x27;LBXMPSI&#x27;,\n",
       "                                                                                &#x27;LBXBPB&#x27;,...\n",
       "                                        &#x27;mlp__alpha&#x27;: [0.01, 0.001, 0.0001,\n",
       "                                                       1e-05],\n",
       "                                        &#x27;mlp__early_stopping&#x27;: [True],\n",
       "                                        &#x27;mlp__hidden_layer_sizes&#x27;: [(50,),\n",
       "                                                                    (100,),\n",
       "                                                                    (200,),\n",
       "                                                                    (400,)],\n",
       "                                        &#x27;mlp__learning_rate&#x27;: [&#x27;constant&#x27;,\n",
       "                                                               &#x27;invscaling&#x27;,\n",
       "                                                               &#x27;adaptive&#x27;],\n",
       "                                        &#x27;mlp__learning_rate_init&#x27;: [0.0001,\n",
       "                                                                    0.001, 0.01,\n",
       "                                                                    0.1],\n",
       "                                        &#x27;mlp__max_iter&#x27;: [200, 2000, 20000,\n",
       "                                                          200000],\n",
       "                                        &#x27;mlp__solver&#x27;: [&#x27;sgd&#x27;, &#x27;adam&#x27;]},\n",
       "                   random_state=301, refit=&#x27;accuracy&#x27;, scoring=&#x27;accuracy&#x27;)</pre></div></div></div><div class=\"sk-parallel\"><div class=\"sk-parallel-item\"><div class=\"sk-item\"><div class=\"sk-label-container\"><div class=\"sk-label sk-toggleable\"><input class=\"sk-toggleable__control sk-hidden--visually\" id=\"sk-estimator-id-38\" type=\"checkbox\" ><label for=\"sk-estimator-id-38\" class=\"sk-toggleable__label sk-toggleable__label-arrow\">estimator: Pipeline</label><div class=\"sk-toggleable__content\"><pre>Pipeline(steps=[(&#x27;Preprocessing&#x27;,\n",
       "                 ColumnTransformer(transformers=[(&#x27;num&#x27;,\n",
       "                                                  Pipeline(steps=[(&#x27;imputer&#x27;,\n",
       "                                                                   SimpleImputer()),\n",
       "                                                                  (&#x27;scaler&#x27;,\n",
       "                                                                   StandardScaler(with_mean=False))]),\n",
       "                                                  [&#x27;LBXWBCSI&#x27;, &#x27;LBXLYPCT&#x27;,\n",
       "                                                   &#x27;LBXMOPCT&#x27;, &#x27;LBXEOPCT&#x27;,\n",
       "                                                   &#x27;LBXBAPCT&#x27;, &#x27;LBDMONO&#x27;,\n",
       "                                                   &#x27;LBDNENO&#x27;, &#x27;LBDEONO&#x27;,\n",
       "                                                   &#x27;LBXRBCSI&#x27;, &#x27;LBXMCVSI&#x27;,\n",
       "                                                   &#x27;LBXMC&#x27;, &#x27;LBXRDW&#x27;,\n",
       "                                                   &#x27;LBXPLTSI&#x27;, &#x27;LBXMPSI&#x27;,\n",
       "                                                   &#x27;LBXBPB&#x27;, &#x27;LBXBCD&#x27;, &#x27;LBXTHG&#x27;,\n",
       "                                                   &#x27;LBXBSE&#x27;, &#x27;LBXBMN&#x27;, &#x27;LBXIHG&#x27;,\n",
       "                                                   &#x27;LBXBGE&#x27;, &#x27;LBDHDD&#x27;,\n",
       "                                                   &#x27;LBXVIDMS&#x27;, &#x27;LBXVD2MS&#x27;,\n",
       "                                                   &#x27;LBXVE3MS&#x27;]),\n",
       "                                                 (&#x27;cat&#x27;,\n",
       "                                                  Pipeline(steps=[(&#x27;imputer&#x27;,\n",
       "                                                                   SimpleImputer(strategy=&#x27;most_frequent&#x27;))]),\n",
       "                                                  [&#x27;LBDBANO&#x27;, &#x27;LBDBPBLC&#x27;,\n",
       "                                                   &#x27;LBDBCDLC&#x27;, &#x27;LBDTHGLC&#x27;,\n",
       "                                                   &#x27;LBDBSELC&#x27;, &#x27;LBDBMNLC&#x27;,\n",
       "                                                   &#x27;LBDIHGLC&#x27;, &#x27;LBDBGELC&#x27;,\n",
       "                                                   &#x27;LBDBGMLC&#x27;, &#x27;LBDVIDLC&#x27;,\n",
       "                                                   &#x27;LBDVD2LC&#x27;, &#x27;LBDVD3LC&#x27;,\n",
       "                                                   &#x27;LBDVE3LC&#x27;])])),\n",
       "                (&#x27;mlp&#x27;, MLPClassifier())])</pre></div></div></div><div class=\"sk-serial\"><div class=\"sk-item\"><div class=\"sk-serial\"><div class=\"sk-item sk-dashed-wrapped\"><div class=\"sk-label-container\"><div class=\"sk-label sk-toggleable\"><input class=\"sk-toggleable__control sk-hidden--visually\" id=\"sk-estimator-id-39\" type=\"checkbox\" ><label for=\"sk-estimator-id-39\" class=\"sk-toggleable__label sk-toggleable__label-arrow\">Preprocessing: ColumnTransformer</label><div class=\"sk-toggleable__content\"><pre>ColumnTransformer(transformers=[(&#x27;num&#x27;,\n",
       "                                 Pipeline(steps=[(&#x27;imputer&#x27;, SimpleImputer()),\n",
       "                                                 (&#x27;scaler&#x27;,\n",
       "                                                  StandardScaler(with_mean=False))]),\n",
       "                                 [&#x27;LBXWBCSI&#x27;, &#x27;LBXLYPCT&#x27;, &#x27;LBXMOPCT&#x27;,\n",
       "                                  &#x27;LBXEOPCT&#x27;, &#x27;LBXBAPCT&#x27;, &#x27;LBDMONO&#x27;, &#x27;LBDNENO&#x27;,\n",
       "                                  &#x27;LBDEONO&#x27;, &#x27;LBXRBCSI&#x27;, &#x27;LBXMCVSI&#x27;, &#x27;LBXMC&#x27;,\n",
       "                                  &#x27;LBXRDW&#x27;, &#x27;LBXPLTSI&#x27;, &#x27;LBXMPSI&#x27;, &#x27;LBXBPB&#x27;,\n",
       "                                  &#x27;LBXBCD&#x27;, &#x27;LBXTHG&#x27;, &#x27;LBXBSE&#x27;, &#x27;LBXBMN&#x27;,\n",
       "                                  &#x27;LBXIHG&#x27;, &#x27;LBXBGE&#x27;, &#x27;LBDHDD&#x27;, &#x27;LBXVIDMS&#x27;,\n",
       "                                  &#x27;LBXVD2MS&#x27;, &#x27;LBXVE3MS&#x27;]),\n",
       "                                (&#x27;cat&#x27;,\n",
       "                                 Pipeline(steps=[(&#x27;imputer&#x27;,\n",
       "                                                  SimpleImputer(strategy=&#x27;most_frequent&#x27;))]),\n",
       "                                 [&#x27;LBDBANO&#x27;, &#x27;LBDBPBLC&#x27;, &#x27;LBDBCDLC&#x27;, &#x27;LBDTHGLC&#x27;,\n",
       "                                  &#x27;LBDBSELC&#x27;, &#x27;LBDBMNLC&#x27;, &#x27;LBDIHGLC&#x27;,\n",
       "                                  &#x27;LBDBGELC&#x27;, &#x27;LBDBGMLC&#x27;, &#x27;LBDVIDLC&#x27;,\n",
       "                                  &#x27;LBDVD2LC&#x27;, &#x27;LBDVD3LC&#x27;, &#x27;LBDVE3LC&#x27;])])</pre></div></div></div><div class=\"sk-parallel\"><div class=\"sk-parallel-item\"><div class=\"sk-item\"><div class=\"sk-label-container\"><div class=\"sk-label sk-toggleable\"><input class=\"sk-toggleable__control sk-hidden--visually\" id=\"sk-estimator-id-40\" type=\"checkbox\" ><label for=\"sk-estimator-id-40\" class=\"sk-toggleable__label sk-toggleable__label-arrow\">num</label><div class=\"sk-toggleable__content\"><pre>[&#x27;LBXWBCSI&#x27;, &#x27;LBXLYPCT&#x27;, &#x27;LBXMOPCT&#x27;, &#x27;LBXEOPCT&#x27;, &#x27;LBXBAPCT&#x27;, &#x27;LBDMONO&#x27;, &#x27;LBDNENO&#x27;, &#x27;LBDEONO&#x27;, &#x27;LBXRBCSI&#x27;, &#x27;LBXMCVSI&#x27;, &#x27;LBXMC&#x27;, &#x27;LBXRDW&#x27;, &#x27;LBXPLTSI&#x27;, &#x27;LBXMPSI&#x27;, &#x27;LBXBPB&#x27;, &#x27;LBXBCD&#x27;, &#x27;LBXTHG&#x27;, &#x27;LBXBSE&#x27;, &#x27;LBXBMN&#x27;, &#x27;LBXIHG&#x27;, &#x27;LBXBGE&#x27;, &#x27;LBDHDD&#x27;, &#x27;LBXVIDMS&#x27;, &#x27;LBXVD2MS&#x27;, &#x27;LBXVE3MS&#x27;]</pre></div></div></div><div class=\"sk-serial\"><div class=\"sk-item\"><div class=\"sk-serial\"><div class=\"sk-item\"><div class=\"sk-estimator sk-toggleable\"><input class=\"sk-toggleable__control sk-hidden--visually\" id=\"sk-estimator-id-41\" type=\"checkbox\" ><label for=\"sk-estimator-id-41\" class=\"sk-toggleable__label sk-toggleable__label-arrow\">SimpleImputer</label><div class=\"sk-toggleable__content\"><pre>SimpleImputer()</pre></div></div></div><div class=\"sk-item\"><div class=\"sk-estimator sk-toggleable\"><input class=\"sk-toggleable__control sk-hidden--visually\" id=\"sk-estimator-id-42\" type=\"checkbox\" ><label for=\"sk-estimator-id-42\" class=\"sk-toggleable__label sk-toggleable__label-arrow\">StandardScaler</label><div class=\"sk-toggleable__content\"><pre>StandardScaler(with_mean=False)</pre></div></div></div></div></div></div></div></div><div class=\"sk-parallel-item\"><div class=\"sk-item\"><div class=\"sk-label-container\"><div class=\"sk-label sk-toggleable\"><input class=\"sk-toggleable__control sk-hidden--visually\" id=\"sk-estimator-id-43\" type=\"checkbox\" ><label for=\"sk-estimator-id-43\" class=\"sk-toggleable__label sk-toggleable__label-arrow\">cat</label><div class=\"sk-toggleable__content\"><pre>[&#x27;LBDBANO&#x27;, &#x27;LBDBPBLC&#x27;, &#x27;LBDBCDLC&#x27;, &#x27;LBDTHGLC&#x27;, &#x27;LBDBSELC&#x27;, &#x27;LBDBMNLC&#x27;, &#x27;LBDIHGLC&#x27;, &#x27;LBDBGELC&#x27;, &#x27;LBDBGMLC&#x27;, &#x27;LBDVIDLC&#x27;, &#x27;LBDVD2LC&#x27;, &#x27;LBDVD3LC&#x27;, &#x27;LBDVE3LC&#x27;]</pre></div></div></div><div class=\"sk-serial\"><div class=\"sk-item\"><div class=\"sk-serial\"><div class=\"sk-item\"><div class=\"sk-estimator sk-toggleable\"><input class=\"sk-toggleable__control sk-hidden--visually\" id=\"sk-estimator-id-44\" type=\"checkbox\" ><label for=\"sk-estimator-id-44\" class=\"sk-toggleable__label sk-toggleable__label-arrow\">SimpleImputer</label><div class=\"sk-toggleable__content\"><pre>SimpleImputer(strategy=&#x27;most_frequent&#x27;)</pre></div></div></div></div></div></div></div></div></div></div><div class=\"sk-item\"><div class=\"sk-estimator sk-toggleable\"><input class=\"sk-toggleable__control sk-hidden--visually\" id=\"sk-estimator-id-45\" type=\"checkbox\" ><label for=\"sk-estimator-id-45\" class=\"sk-toggleable__label sk-toggleable__label-arrow\">MLPClassifier</label><div class=\"sk-toggleable__content\"><pre>MLPClassifier()</pre></div></div></div></div></div></div></div></div></div></div></div></div>"
      ],
      "text/plain": [
       "RandomizedSearchCV(cv=5,\n",
       "                   estimator=Pipeline(steps=[('Preprocessing',\n",
       "                                              ColumnTransformer(transformers=[('num',\n",
       "                                                                               Pipeline(steps=[('imputer',\n",
       "                                                                                                SimpleImputer()),\n",
       "                                                                                               ('scaler',\n",
       "                                                                                                StandardScaler(with_mean=False))]),\n",
       "                                                                               ['LBXWBCSI',\n",
       "                                                                                'LBXLYPCT',\n",
       "                                                                                'LBXMOPCT',\n",
       "                                                                                'LBXEOPCT',\n",
       "                                                                                'LBXBAPCT',\n",
       "                                                                                'LBDMONO',\n",
       "                                                                                'LBDNENO',\n",
       "                                                                                'LBDEONO',\n",
       "                                                                                'LBXRBCSI',\n",
       "                                                                                'LBXMCVSI',\n",
       "                                                                                'LBXMC',\n",
       "                                                                                'LBXRDW',\n",
       "                                                                                'LBXPLTSI',\n",
       "                                                                                'LBXMPSI',\n",
       "                                                                                'LBXBPB',...\n",
       "                                        'mlp__alpha': [0.01, 0.001, 0.0001,\n",
       "                                                       1e-05],\n",
       "                                        'mlp__early_stopping': [True],\n",
       "                                        'mlp__hidden_layer_sizes': [(50,),\n",
       "                                                                    (100,),\n",
       "                                                                    (200,),\n",
       "                                                                    (400,)],\n",
       "                                        'mlp__learning_rate': ['constant',\n",
       "                                                               'invscaling',\n",
       "                                                               'adaptive'],\n",
       "                                        'mlp__learning_rate_init': [0.0001,\n",
       "                                                                    0.001, 0.01,\n",
       "                                                                    0.1],\n",
       "                                        'mlp__max_iter': [200, 2000, 20000,\n",
       "                                                          200000],\n",
       "                                        'mlp__solver': ['sgd', 'adam']},\n",
       "                   random_state=301, refit='accuracy', scoring='accuracy')"
      ]
     },
     "execution_count": 55,
     "metadata": {},
     "output_type": "execute_result"
    }
   ],
   "source": [
    "pipe5 = Pipeline(steps=[(\"Preprocessing\", preprocessor), (\"mlp\", MLPClassifier())])\n",
    "mlp_grid = {'mlp__hidden_layer_sizes': [(50,), (100,), (200,), (400,)],\n",
    "               'mlp__activation': ['identity','logistic','tanh', 'relu'],\n",
    "               'mlp__solver': ['sgd', 'adam'],\n",
    "               'mlp__alpha': [0.01, 0.001, 0.0001, 0.00001],\n",
    "               'mlp__learning_rate': ['constant', 'invscaling', 'adaptive'],\n",
    "               'mlp__learning_rate_init': [0.0001, 0.001, 0.01, 0.1],\n",
    "               'mlp__early_stopping': [True],\n",
    "               'mlp__max_iter': [200, 2000, 20000, 200000]}\n",
    "mlpSearch = RandomizedSearchCV(pipe5, param_distributions = mlp_grid, n_iter=10, cv=5, scoring='accuracy', refit='accuracy', random_state=301)\n",
    "\n",
    "mlpSearch.fit(xtrain, ytrain)"
   ]
  },
  {
   "cell_type": "code",
   "execution_count": 56,
   "metadata": {},
   "outputs": [
    {
     "data": {
      "text/plain": [
       "0.8554999999999999"
      ]
     },
     "execution_count": 56,
     "metadata": {},
     "output_type": "execute_result"
    }
   ],
   "source": [
    "mlpSearch.best_score_"
   ]
  },
  {
   "cell_type": "code",
   "execution_count": 57,
   "metadata": {},
   "outputs": [],
   "source": [
    "predictions5 = mlpSearch.best_estimator_.predict(xtest)"
   ]
  },
  {
   "cell_type": "code",
   "execution_count": 58,
   "metadata": {},
   "outputs": [
    {
     "data": {
      "text/plain": [
       "0.838"
      ]
     },
     "execution_count": 58,
     "metadata": {},
     "output_type": "execute_result"
    }
   ],
   "source": [
    "accuracy_score(ytest, predictions5)"
   ]
  },
  {
   "cell_type": "code",
   "execution_count": 59,
   "metadata": {},
   "outputs": [
    {
     "name": "stdout",
     "output_type": "stream",
     "text": [
      "              precision    recall  f1-score   support\n",
      "\n",
      "       False       0.87      0.94      0.90       398\n",
      "        True       0.66      0.43      0.52       102\n",
      "\n",
      "    accuracy                           0.84       500\n",
      "   macro avg       0.76      0.69      0.71       500\n",
      "weighted avg       0.82      0.84      0.82       500\n",
      "\n"
     ]
    }
   ],
   "source": [
    "print(classification_report(ytest, predictions5))"
   ]
  },
  {
   "cell_type": "code",
   "execution_count": 60,
   "metadata": {},
   "outputs": [],
   "source": [
    "predictionsNum5 = randomSearch.best_estimator_.predict_proba(xtest)[:, 1]"
   ]
  },
  {
   "cell_type": "code",
   "execution_count": 75,
   "metadata": {},
   "outputs": [
    {
     "data": {
      "image/png": "[encoded data removed]",
      "text/plain": [
       "<Figure size 432x288 with 1 Axes>"
      ]
     },
     "metadata": {
      "needs_background": "light"
     },
     "output_type": "display_data"
    }
   ],
   "source": [
    "fpr, tpr, thresholds = roc_curve(ytestNum, predictionsNum5)\n",
    "fig = plt.figure()\n",
    "ax = fig.add_subplot()\n",
    "plt.plot(fpr, tpr)\n",
    "plt.plot([0, 1], [0, 1], '--')\n",
    "plt.xlabel('False Positive Rate')\n",
    "plt.ylabel('True Positive Rate')\n",
    "plt.title('ROC Curve')\n",
    "ax.set_aspect('equal', adjustable='box')\n",
    "plt.show()"
   ]
  },
  {
   "cell_type": "code",
   "execution_count": 62,
   "metadata": {},
   "outputs": [
    {
     "name": "stdout",
     "output_type": "stream",
     "text": [
      "ROC_AUC score:  0.9079712286924821\n"
     ]
    }
   ],
   "source": [
    "print(\"ROC_AUC score: \",roc_auc_score(ytestNum, predictionsNum5))\n",
    "roc5 = roc_auc_score(ytestNum, predictionsNum5)"
   ]
  },
  {
   "cell_type": "code",
   "execution_count": 63,
   "metadata": {},
   "outputs": [
    {
     "name": "stdout",
     "output_type": "stream",
     "text": [
      "AUC-PR score:  0.734720360029524\n"
     ]
    }
   ],
   "source": [
    "print(\"AUC-PR score: \",average_precision_score(ytestNum, predictionsNum5))\n",
    "aucpr5 = average_precision_score(ytestNum, predictionsNum5)"
   ]
  },
  {
   "cell_type": "code",
   "execution_count": 64,
   "metadata": {},
   "outputs": [
    {
     "data": {
      "text/html": [
       "<style>#sk-container-id-6 {color: black;}#sk-container-id-6 pre{padding: 0;}#sk-container-id-6 div.sk-toggleable {background-color: white;}#sk-container-id-6 label.sk-toggleable__label {cursor: pointer;display: block;width: 100%;margin-bottom: 0;padding: 0.3em;box-sizing: border-box;text-align: center;}#sk-container-id-6 label.sk-toggleable__label-arrow:before {content: \"▸\";float: left;margin-right: 0.25em;color: #696969;}#sk-container-id-6 label.sk-toggleable__label-arrow:hover:before {color: black;}#sk-container-id-6 div.sk-estimator:hover label.sk-toggleable__label-arrow:before {color: black;}#sk-container-id-6 div.sk-toggleable__content {max-height: 0;max-width: 0;overflow: hidden;text-align: left;background-color: #f0f8ff;}#sk-container-id-6 div.sk-toggleable__content pre {margin: 0.2em;color: black;border-radius: 0.25em;background-color: #f0f8ff;}#sk-container-id-6 input.sk-toggleable__control:checked~div.sk-toggleable__content {max-height: 200px;max-width: 100%;overflow: auto;}#sk-container-id-6 input.sk-toggleable__control:checked~label.sk-toggleable__label-arrow:before {content: \"▾\";}#sk-container-id-6 div.sk-estimator input.sk-toggleable__control:checked~label.sk-toggleable__label {background-color: #d4ebff;}#sk-container-id-6 div.sk-label input.sk-toggleable__control:checked~label.sk-toggleable__label {background-color: #d4ebff;}#sk-container-id-6 input.sk-hidden--visually {border: 0;clip: rect(1px 1px 1px 1px);clip: rect(1px, 1px, 1px, 1px);height: 1px;margin: -1px;overflow: hidden;padding: 0;position: absolute;width: 1px;}#sk-container-id-6 div.sk-estimator {font-family: monospace;background-color: #f0f8ff;border: 1px dotted black;border-radius: 0.25em;box-sizing: border-box;margin-bottom: 0.5em;}#sk-container-id-6 div.sk-estimator:hover {background-color: #d4ebff;}#sk-container-id-6 div.sk-parallel-item::after {content: \"\";width: 100%;border-bottom: 1px solid gray;flex-grow: 1;}#sk-container-id-6 div.sk-label:hover label.sk-toggleable__label {background-color: #d4ebff;}#sk-container-id-6 div.sk-serial::before {content: \"\";position: absolute;border-left: 1px solid gray;box-sizing: border-box;top: 0;bottom: 0;left: 50%;z-index: 0;}#sk-container-id-6 div.sk-serial {display: flex;flex-direction: column;align-items: center;background-color: white;padding-right: 0.2em;padding-left: 0.2em;position: relative;}#sk-container-id-6 div.sk-item {position: relative;z-index: 1;}#sk-container-id-6 div.sk-parallel {display: flex;align-items: stretch;justify-content: center;background-color: white;position: relative;}#sk-container-id-6 div.sk-item::before, #sk-container-id-6 div.sk-parallel-item::before {content: \"\";position: absolute;border-left: 1px solid gray;box-sizing: border-box;top: 0;bottom: 0;left: 50%;z-index: -1;}#sk-container-id-6 div.sk-parallel-item {display: flex;flex-direction: column;z-index: 1;position: relative;background-color: white;}#sk-container-id-6 div.sk-parallel-item:first-child::after {align-self: flex-end;width: 50%;}#sk-container-id-6 div.sk-parallel-item:last-child::after {align-self: flex-start;width: 50%;}#sk-container-id-6 div.sk-parallel-item:only-child::after {width: 0;}#sk-container-id-6 div.sk-dashed-wrapped {border: 1px dashed gray;margin: 0 0.4em 0.5em 0.4em;box-sizing: border-box;padding-bottom: 0.4em;background-color: white;}#sk-container-id-6 div.sk-label label {font-family: monospace;font-weight: bold;display: inline-block;line-height: 1.2em;}#sk-container-id-6 div.sk-label-container {text-align: center;}#sk-container-id-6 div.sk-container {/* jupyter's `normalize.less` sets `[hidden] { display: none; }` but bootstrap.min.css set `[hidden] { display: none !important; }` so we also need the `!important` here to be able to override the default hidden behavior on the sphinx rendered scikit-learn.org. See: https://github.com/scikit-learn/scikit-learn/issues/21755 */display: inline-block !important;position: relative;}#sk-container-id-6 div.sk-text-repr-fallback {display: none;}</style><div id=\"sk-container-id-6\" class=\"sk-top-container\"><div class=\"sk-text-repr-fallback\"><pre>RandomizedSearchCV(cv=10,\n",
       "                   estimator=Pipeline(steps=[(&#x27;Preprocessing&#x27;,\n",
       "                                              ColumnTransformer(transformers=[(&#x27;num&#x27;,\n",
       "                                                                               Pipeline(steps=[(&#x27;imputer&#x27;,\n",
       "                                                                                                SimpleImputer()),\n",
       "                                                                                               (&#x27;scaler&#x27;,\n",
       "                                                                                                StandardScaler(with_mean=False))]),\n",
       "                                                                               [&#x27;LBXWBCSI&#x27;,\n",
       "                                                                                &#x27;LBXLYPCT&#x27;,\n",
       "                                                                                &#x27;LBXMOPCT&#x27;,\n",
       "                                                                                &#x27;LBXEOPCT&#x27;,\n",
       "                                                                                &#x27;LBXBAPCT&#x27;,\n",
       "                                                                                &#x27;LBDMONO&#x27;,\n",
       "                                                                                &#x27;LBDNENO&#x27;,\n",
       "                                                                                &#x27;LBDEONO&#x27;,\n",
       "                                                                                &#x27;LBXRBCSI&#x27;,\n",
       "                                                                                &#x27;LBXMCVSI&#x27;,\n",
       "                                                                                &#x27;LBXMC&#x27;,\n",
       "                                                                                &#x27;LBXRDW&#x27;,\n",
       "                                                                                &#x27;LBXPLTSI&#x27;,\n",
       "                                                                                &#x27;LBXMPSI&#x27;,\n",
       "                                                                                &#x27;LBXBPB&#x27;...\n",
       "                                              GradientBoostingClassifier())]),\n",
       "                   param_distributions={&#x27;gbc__criterion&#x27;: [&#x27;friedman_mse&#x27;,\n",
       "                                                           &#x27;squared_error&#x27;],\n",
       "                                        &#x27;gbc__learning_rate&#x27;: [0.2, 0.1, 0.01,\n",
       "                                                               0.001, 0.0001],\n",
       "                                        &#x27;gbc__loss&#x27;: [&#x27;log_loss&#x27;,\n",
       "                                                      &#x27;exponential&#x27;],\n",
       "                                        &#x27;gbc__max_depth&#x27;: [2, 3, 4, 5],\n",
       "                                        &#x27;gbc__min_samples_leaf&#x27;: [1, 2],\n",
       "                                        &#x27;gbc__min_samples_split&#x27;: [2, 5, 10,\n",
       "                                                                   20],\n",
       "                                        &#x27;gbc__n_estimators&#x27;: [20, 50, 100, 200,\n",
       "                                                              400]},\n",
       "                   random_state=301, refit=&#x27;accuracy&#x27;, scoring=&#x27;accuracy&#x27;)</pre><b>In a Jupyter environment, please rerun this cell to show the HTML representation or trust the notebook. <br />On GitHub, the HTML representation is unable to render, please try loading this page with nbviewer.org.</b></div><div class=\"sk-container\" hidden><div class=\"sk-item sk-dashed-wrapped\"><div class=\"sk-label-container\"><div class=\"sk-label sk-toggleable\"><input class=\"sk-toggleable__control sk-hidden--visually\" id=\"sk-estimator-id-46\" type=\"checkbox\" ><label for=\"sk-estimator-id-46\" class=\"sk-toggleable__label sk-toggleable__label-arrow\">RandomizedSearchCV</label><div class=\"sk-toggleable__content\"><pre>RandomizedSearchCV(cv=10,\n",
       "                   estimator=Pipeline(steps=[(&#x27;Preprocessing&#x27;,\n",
       "                                              ColumnTransformer(transformers=[(&#x27;num&#x27;,\n",
       "                                                                               Pipeline(steps=[(&#x27;imputer&#x27;,\n",
       "                                                                                                SimpleImputer()),\n",
       "                                                                                               (&#x27;scaler&#x27;,\n",
       "                                                                                                StandardScaler(with_mean=False))]),\n",
       "                                                                               [&#x27;LBXWBCSI&#x27;,\n",
       "                                                                                &#x27;LBXLYPCT&#x27;,\n",
       "                                                                                &#x27;LBXMOPCT&#x27;,\n",
       "                                                                                &#x27;LBXEOPCT&#x27;,\n",
       "                                                                                &#x27;LBXBAPCT&#x27;,\n",
       "                                                                                &#x27;LBDMONO&#x27;,\n",
       "                                                                                &#x27;LBDNENO&#x27;,\n",
       "                                                                                &#x27;LBDEONO&#x27;,\n",
       "                                                                                &#x27;LBXRBCSI&#x27;,\n",
       "                                                                                &#x27;LBXMCVSI&#x27;,\n",
       "                                                                                &#x27;LBXMC&#x27;,\n",
       "                                                                                &#x27;LBXRDW&#x27;,\n",
       "                                                                                &#x27;LBXPLTSI&#x27;,\n",
       "                                                                                &#x27;LBXMPSI&#x27;,\n",
       "                                                                                &#x27;LBXBPB&#x27;...\n",
       "                                              GradientBoostingClassifier())]),\n",
       "                   param_distributions={&#x27;gbc__criterion&#x27;: [&#x27;friedman_mse&#x27;,\n",
       "                                                           &#x27;squared_error&#x27;],\n",
       "                                        &#x27;gbc__learning_rate&#x27;: [0.2, 0.1, 0.01,\n",
       "                                                               0.001, 0.0001],\n",
       "                                        &#x27;gbc__loss&#x27;: [&#x27;log_loss&#x27;,\n",
       "                                                      &#x27;exponential&#x27;],\n",
       "                                        &#x27;gbc__max_depth&#x27;: [2, 3, 4, 5],\n",
       "                                        &#x27;gbc__min_samples_leaf&#x27;: [1, 2],\n",
       "                                        &#x27;gbc__min_samples_split&#x27;: [2, 5, 10,\n",
       "                                                                   20],\n",
       "                                        &#x27;gbc__n_estimators&#x27;: [20, 50, 100, 200,\n",
       "                                                              400]},\n",
       "                   random_state=301, refit=&#x27;accuracy&#x27;, scoring=&#x27;accuracy&#x27;)</pre></div></div></div><div class=\"sk-parallel\"><div class=\"sk-parallel-item\"><div class=\"sk-item\"><div class=\"sk-label-container\"><div class=\"sk-label sk-toggleable\"><input class=\"sk-toggleable__control sk-hidden--visually\" id=\"sk-estimator-id-47\" type=\"checkbox\" ><label for=\"sk-estimator-id-47\" class=\"sk-toggleable__label sk-toggleable__label-arrow\">estimator: Pipeline</label><div class=\"sk-toggleable__content\"><pre>Pipeline(steps=[(&#x27;Preprocessing&#x27;,\n",
       "                 ColumnTransformer(transformers=[(&#x27;num&#x27;,\n",
       "                                                  Pipeline(steps=[(&#x27;imputer&#x27;,\n",
       "                                                                   SimpleImputer()),\n",
       "                                                                  (&#x27;scaler&#x27;,\n",
       "                                                                   StandardScaler(with_mean=False))]),\n",
       "                                                  [&#x27;LBXWBCSI&#x27;, &#x27;LBXLYPCT&#x27;,\n",
       "                                                   &#x27;LBXMOPCT&#x27;, &#x27;LBXEOPCT&#x27;,\n",
       "                                                   &#x27;LBXBAPCT&#x27;, &#x27;LBDMONO&#x27;,\n",
       "                                                   &#x27;LBDNENO&#x27;, &#x27;LBDEONO&#x27;,\n",
       "                                                   &#x27;LBXRBCSI&#x27;, &#x27;LBXMCVSI&#x27;,\n",
       "                                                   &#x27;LBXMC&#x27;, &#x27;LBXRDW&#x27;,\n",
       "                                                   &#x27;LBXPLTSI&#x27;, &#x27;LBXMPSI&#x27;,\n",
       "                                                   &#x27;LBXBPB&#x27;, &#x27;LBXBCD&#x27;, &#x27;LBXTHG&#x27;,\n",
       "                                                   &#x27;LBXBSE&#x27;, &#x27;LBXBMN&#x27;, &#x27;LBXIHG&#x27;,\n",
       "                                                   &#x27;LBXBGE&#x27;, &#x27;LBDHDD&#x27;,\n",
       "                                                   &#x27;LBXVIDMS&#x27;, &#x27;LBXVD2MS&#x27;,\n",
       "                                                   &#x27;LBXVE3MS&#x27;]),\n",
       "                                                 (&#x27;cat&#x27;,\n",
       "                                                  Pipeline(steps=[(&#x27;imputer&#x27;,\n",
       "                                                                   SimpleImputer(strategy=&#x27;most_frequent&#x27;))]),\n",
       "                                                  [&#x27;LBDBANO&#x27;, &#x27;LBDBPBLC&#x27;,\n",
       "                                                   &#x27;LBDBCDLC&#x27;, &#x27;LBDTHGLC&#x27;,\n",
       "                                                   &#x27;LBDBSELC&#x27;, &#x27;LBDBMNLC&#x27;,\n",
       "                                                   &#x27;LBDIHGLC&#x27;, &#x27;LBDBGELC&#x27;,\n",
       "                                                   &#x27;LBDBGMLC&#x27;, &#x27;LBDVIDLC&#x27;,\n",
       "                                                   &#x27;LBDVD2LC&#x27;, &#x27;LBDVD3LC&#x27;,\n",
       "                                                   &#x27;LBDVE3LC&#x27;])])),\n",
       "                (&#x27;gbc&#x27;, GradientBoostingClassifier())])</pre></div></div></div><div class=\"sk-serial\"><div class=\"sk-item\"><div class=\"sk-serial\"><div class=\"sk-item sk-dashed-wrapped\"><div class=\"sk-label-container\"><div class=\"sk-label sk-toggleable\"><input class=\"sk-toggleable__control sk-hidden--visually\" id=\"sk-estimator-id-48\" type=\"checkbox\" ><label for=\"sk-estimator-id-48\" class=\"sk-toggleable__label sk-toggleable__label-arrow\">Preprocessing: ColumnTransformer</label><div class=\"sk-toggleable__content\"><pre>ColumnTransformer(transformers=[(&#x27;num&#x27;,\n",
       "                                 Pipeline(steps=[(&#x27;imputer&#x27;, SimpleImputer()),\n",
       "                                                 (&#x27;scaler&#x27;,\n",
       "                                                  StandardScaler(with_mean=False))]),\n",
       "                                 [&#x27;LBXWBCSI&#x27;, &#x27;LBXLYPCT&#x27;, &#x27;LBXMOPCT&#x27;,\n",
       "                                  &#x27;LBXEOPCT&#x27;, &#x27;LBXBAPCT&#x27;, &#x27;LBDMONO&#x27;, &#x27;LBDNENO&#x27;,\n",
       "                                  &#x27;LBDEONO&#x27;, &#x27;LBXRBCSI&#x27;, &#x27;LBXMCVSI&#x27;, &#x27;LBXMC&#x27;,\n",
       "                                  &#x27;LBXRDW&#x27;, &#x27;LBXPLTSI&#x27;, &#x27;LBXMPSI&#x27;, &#x27;LBXBPB&#x27;,\n",
       "                                  &#x27;LBXBCD&#x27;, &#x27;LBXTHG&#x27;, &#x27;LBXBSE&#x27;, &#x27;LBXBMN&#x27;,\n",
       "                                  &#x27;LBXIHG&#x27;, &#x27;LBXBGE&#x27;, &#x27;LBDHDD&#x27;, &#x27;LBXVIDMS&#x27;,\n",
       "                                  &#x27;LBXVD2MS&#x27;, &#x27;LBXVE3MS&#x27;]),\n",
       "                                (&#x27;cat&#x27;,\n",
       "                                 Pipeline(steps=[(&#x27;imputer&#x27;,\n",
       "                                                  SimpleImputer(strategy=&#x27;most_frequent&#x27;))]),\n",
       "                                 [&#x27;LBDBANO&#x27;, &#x27;LBDBPBLC&#x27;, &#x27;LBDBCDLC&#x27;, &#x27;LBDTHGLC&#x27;,\n",
       "                                  &#x27;LBDBSELC&#x27;, &#x27;LBDBMNLC&#x27;, &#x27;LBDIHGLC&#x27;,\n",
       "                                  &#x27;LBDBGELC&#x27;, &#x27;LBDBGMLC&#x27;, &#x27;LBDVIDLC&#x27;,\n",
       "                                  &#x27;LBDVD2LC&#x27;, &#x27;LBDVD3LC&#x27;, &#x27;LBDVE3LC&#x27;])])</pre></div></div></div><div class=\"sk-parallel\"><div class=\"sk-parallel-item\"><div class=\"sk-item\"><div class=\"sk-label-container\"><div class=\"sk-label sk-toggleable\"><input class=\"sk-toggleable__control sk-hidden--visually\" id=\"sk-estimator-id-49\" type=\"checkbox\" ><label for=\"sk-estimator-id-49\" class=\"sk-toggleable__label sk-toggleable__label-arrow\">num</label><div class=\"sk-toggleable__content\"><pre>[&#x27;LBXWBCSI&#x27;, &#x27;LBXLYPCT&#x27;, &#x27;LBXMOPCT&#x27;, &#x27;LBXEOPCT&#x27;, &#x27;LBXBAPCT&#x27;, &#x27;LBDMONO&#x27;, &#x27;LBDNENO&#x27;, &#x27;LBDEONO&#x27;, &#x27;LBXRBCSI&#x27;, &#x27;LBXMCVSI&#x27;, &#x27;LBXMC&#x27;, &#x27;LBXRDW&#x27;, &#x27;LBXPLTSI&#x27;, &#x27;LBXMPSI&#x27;, &#x27;LBXBPB&#x27;, &#x27;LBXBCD&#x27;, &#x27;LBXTHG&#x27;, &#x27;LBXBSE&#x27;, &#x27;LBXBMN&#x27;, &#x27;LBXIHG&#x27;, &#x27;LBXBGE&#x27;, &#x27;LBDHDD&#x27;, &#x27;LBXVIDMS&#x27;, &#x27;LBXVD2MS&#x27;, &#x27;LBXVE3MS&#x27;]</pre></div></div></div><div class=\"sk-serial\"><div class=\"sk-item\"><div class=\"sk-serial\"><div class=\"sk-item\"><div class=\"sk-estimator sk-toggleable\"><input class=\"sk-toggleable__control sk-hidden--visually\" id=\"sk-estimator-id-50\" type=\"checkbox\" ><label for=\"sk-estimator-id-50\" class=\"sk-toggleable__label sk-toggleable__label-arrow\">SimpleImputer</label><div class=\"sk-toggleable__content\"><pre>SimpleImputer()</pre></div></div></div><div class=\"sk-item\"><div class=\"sk-estimator sk-toggleable\"><input class=\"sk-toggleable__control sk-hidden--visually\" id=\"sk-estimator-id-51\" type=\"checkbox\" ><label for=\"sk-estimator-id-51\" class=\"sk-toggleable__label sk-toggleable__label-arrow\">StandardScaler</label><div class=\"sk-toggleable__content\"><pre>StandardScaler(with_mean=False)</pre></div></div></div></div></div></div></div></div><div class=\"sk-parallel-item\"><div class=\"sk-item\"><div class=\"sk-label-container\"><div class=\"sk-label sk-toggleable\"><input class=\"sk-toggleable__control sk-hidden--visually\" id=\"sk-estimator-id-52\" type=\"checkbox\" ><label for=\"sk-estimator-id-52\" class=\"sk-toggleable__label sk-toggleable__label-arrow\">cat</label><div class=\"sk-toggleable__content\"><pre>[&#x27;LBDBANO&#x27;, &#x27;LBDBPBLC&#x27;, &#x27;LBDBCDLC&#x27;, &#x27;LBDTHGLC&#x27;, &#x27;LBDBSELC&#x27;, &#x27;LBDBMNLC&#x27;, &#x27;LBDIHGLC&#x27;, &#x27;LBDBGELC&#x27;, &#x27;LBDBGMLC&#x27;, &#x27;LBDVIDLC&#x27;, &#x27;LBDVD2LC&#x27;, &#x27;LBDVD3LC&#x27;, &#x27;LBDVE3LC&#x27;]</pre></div></div></div><div class=\"sk-serial\"><div class=\"sk-item\"><div class=\"sk-serial\"><div class=\"sk-item\"><div class=\"sk-estimator sk-toggleable\"><input class=\"sk-toggleable__control sk-hidden--visually\" id=\"sk-estimator-id-53\" type=\"checkbox\" ><label for=\"sk-estimator-id-53\" class=\"sk-toggleable__label sk-toggleable__label-arrow\">SimpleImputer</label><div class=\"sk-toggleable__content\"><pre>SimpleImputer(strategy=&#x27;most_frequent&#x27;)</pre></div></div></div></div></div></div></div></div></div></div><div class=\"sk-item\"><div class=\"sk-estimator sk-toggleable\"><input class=\"sk-toggleable__control sk-hidden--visually\" id=\"sk-estimator-id-54\" type=\"checkbox\" ><label for=\"sk-estimator-id-54\" class=\"sk-toggleable__label sk-toggleable__label-arrow\">GradientBoostingClassifier</label><div class=\"sk-toggleable__content\"><pre>GradientBoostingClassifier()</pre></div></div></div></div></div></div></div></div></div></div></div></div>"
      ],
      "text/plain": [
       "RandomizedSearchCV(cv=10,\n",
       "                   estimator=Pipeline(steps=[('Preprocessing',\n",
       "                                              ColumnTransformer(transformers=[('num',\n",
       "                                                                               Pipeline(steps=[('imputer',\n",
       "                                                                                                SimpleImputer()),\n",
       "                                                                                               ('scaler',\n",
       "                                                                                                StandardScaler(with_mean=False))]),\n",
       "                                                                               ['LBXWBCSI',\n",
       "                                                                                'LBXLYPCT',\n",
       "                                                                                'LBXMOPCT',\n",
       "                                                                                'LBXEOPCT',\n",
       "                                                                                'LBXBAPCT',\n",
       "                                                                                'LBDMONO',\n",
       "                                                                                'LBDNENO',\n",
       "                                                                                'LBDEONO',\n",
       "                                                                                'LBXRBCSI',\n",
       "                                                                                'LBXMCVSI',\n",
       "                                                                                'LBXMC',\n",
       "                                                                                'LBXRDW',\n",
       "                                                                                'LBXPLTSI',\n",
       "                                                                                'LBXMPSI',\n",
       "                                                                                'LBXBPB'...\n",
       "                                              GradientBoostingClassifier())]),\n",
       "                   param_distributions={'gbc__criterion': ['friedman_mse',\n",
       "                                                           'squared_error'],\n",
       "                                        'gbc__learning_rate': [0.2, 0.1, 0.01,\n",
       "                                                               0.001, 0.0001],\n",
       "                                        'gbc__loss': ['log_loss',\n",
       "                                                      'exponential'],\n",
       "                                        'gbc__max_depth': [2, 3, 4, 5],\n",
       "                                        'gbc__min_samples_leaf': [1, 2],\n",
       "                                        'gbc__min_samples_split': [2, 5, 10,\n",
       "                                                                   20],\n",
       "                                        'gbc__n_estimators': [20, 50, 100, 200,\n",
       "                                                              400]},\n",
       "                   random_state=301, refit='accuracy', scoring='accuracy')"
      ]
     },
     "execution_count": 64,
     "metadata": {},
     "output_type": "execute_result"
    }
   ],
   "source": [
    "pipe6 = Pipeline(steps=[(\"Preprocessing\", preprocessor), (\"gbc\", GradientBoostingClassifier())])\n",
    "grad_grid = {'gbc__loss': ['log_loss', 'exponential'],\n",
    "               'gbc__learning_rate': [0.2, 0.1, 0.01, 0.001, 0.0001],\n",
    "               'gbc__n_estimators': [20, 50, 100, 200, 400],\n",
    "               'gbc__criterion': ['friedman_mse', 'squared_error'],\n",
    "               'gbc__max_depth': [2,3,4,5],\n",
    "               'gbc__min_samples_split': [2, 5, 10,20],\n",
    "               'gbc__min_samples_leaf': [1, 2]}\n",
    "gradSearch = RandomizedSearchCV(pipe6, param_distributions = grad_grid,n_iter=10, cv=10, scoring='accuracy', refit='accuracy',random_state=301)\n",
    "\n",
    "gradSearch.fit(xtrain, ytrain)"
   ]
  },
  {
   "cell_type": "code",
   "execution_count": 65,
   "metadata": {},
   "outputs": [
    {
     "data": {
      "text/plain": [
       "0.897"
      ]
     },
     "execution_count": 65,
     "metadata": {},
     "output_type": "execute_result"
    }
   ],
   "source": [
    "gradSearch.best_score_"
   ]
  },
  {
   "cell_type": "code",
   "execution_count": 66,
   "metadata": {},
   "outputs": [],
   "source": [
    "predictions6 = gradSearch.best_estimator_.predict(xtest)"
   ]
  },
  {
   "cell_type": "code",
   "execution_count": 67,
   "metadata": {},
   "outputs": [
    {
     "data": {
      "text/plain": [
       "0.878"
      ]
     },
     "execution_count": 67,
     "metadata": {},
     "output_type": "execute_result"
    }
   ],
   "source": [
    "accuracy_score(ytest, predictions6)"
   ]
  },
  {
   "cell_type": "code",
   "execution_count": 68,
   "metadata": {},
   "outputs": [
    {
     "name": "stdout",
     "output_type": "stream",
     "text": [
      "              precision    recall  f1-score   support\n",
      "\n",
      "       False       0.89      0.97      0.93       398\n",
      "        True       0.82      0.52      0.63       102\n",
      "\n",
      "    accuracy                           0.88       500\n",
      "   macro avg       0.85      0.74      0.78       500\n",
      "weighted avg       0.87      0.88      0.87       500\n",
      "\n"
     ]
    }
   ],
   "source": [
    "print(classification_report(ytest, predictions6))"
   ]
  },
  {
   "cell_type": "code",
   "execution_count": 69,
   "metadata": {},
   "outputs": [],
   "source": [
    "predictionsNum6 = gradSearch.best_estimator_.predict_proba(xtest)[:, 1]"
   ]
  },
  {
   "cell_type": "code",
   "execution_count": 74,
   "metadata": {},
   "outputs": [
    {
     "data": {
      "image/png": "[encoded data removed]",
      "text/plain": [
       "<Figure size 432x288 with 1 Axes>"
      ]
     },
     "metadata": {
      "needs_background": "light"
     },
     "output_type": "display_data"
    }
   ],
   "source": [
    "fpr, tpr, thresholds = roc_curve(ytestNum, predictionsNum6)\n",
    "fig = plt.figure()\n",
    "ax = fig.add_subplot()\n",
    "plt.plot(fpr, tpr)\n",
    "plt.plot([0, 1], [0, 1], '--')\n",
    "plt.xlabel('False Positive Rate')\n",
    "plt.ylabel('True Positive Rate')\n",
    "plt.title('ROC Curve')\n",
    "ax.set_aspect('equal', adjustable='box')\n",
    "plt.show()"
   ]
  },
  {
   "cell_type": "code",
   "execution_count": 71,
   "metadata": {},
   "outputs": [
    {
     "name": "stdout",
     "output_type": "stream",
     "text": [
      "ROC_AUC score:  0.935806483397379\n"
     ]
    }
   ],
   "source": [
    "print(\"ROC_AUC score: \",roc_auc_score(ytestNum, predictionsNum6))\n",
    "roc6 = roc_auc_score(ytestNum, predictionsNum6)"
   ]
  },
  {
   "cell_type": "code",
   "execution_count": 72,
   "metadata": {},
   "outputs": [
    {
     "name": "stdout",
     "output_type": "stream",
     "text": [
      "AUC-PR score:  0.7997761748124788\n"
     ]
    }
   ],
   "source": [
    "print(\"AUC-PR score: \",average_precision_score(ytestNum, predictionsNum6))\n",
    "aucpr6 = average_precision_score(ytestNum, predictionsNum6)"
   ]
  },
  {
   "cell_type": "markdown",
   "metadata": {},
   "source": [
    "## Combined dataset"
   ]
  },
  {
   "cell_type": "code",
   "execution_count": 80,
   "metadata": {},
   "outputs": [
    {
     "data": {
      "text/html": [
       "<style>#sk-container-id-7 {color: black;}#sk-container-id-7 pre{padding: 0;}#sk-container-id-7 div.sk-toggleable {background-color: white;}#sk-container-id-7 label.sk-toggleable__label {cursor: pointer;display: block;width: 100%;margin-bottom: 0;padding: 0.3em;box-sizing: border-box;text-align: center;}#sk-container-id-7 label.sk-toggleable__label-arrow:before {content: \"▸\";float: left;margin-right: 0.25em;color: #696969;}#sk-container-id-7 label.sk-toggleable__label-arrow:hover:before {color: black;}#sk-container-id-7 div.sk-estimator:hover label.sk-toggleable__label-arrow:before {color: black;}#sk-container-id-7 div.sk-toggleable__content {max-height: 0;max-width: 0;overflow: hidden;text-align: left;background-color: #f0f8ff;}#sk-container-id-7 div.sk-toggleable__content pre {margin: 0.2em;color: black;border-radius: 0.25em;background-color: #f0f8ff;}#sk-container-id-7 input.sk-toggleable__control:checked~div.sk-toggleable__content {max-height: 200px;max-width: 100%;overflow: auto;}#sk-container-id-7 input.sk-toggleable__control:checked~label.sk-toggleable__label-arrow:before {content: \"▾\";}#sk-container-id-7 div.sk-estimator input.sk-toggleable__control:checked~label.sk-toggleable__label {background-color: #d4ebff;}#sk-container-id-7 div.sk-label input.sk-toggleable__control:checked~label.sk-toggleable__label {background-color: #d4ebff;}#sk-container-id-7 input.sk-hidden--visually {border: 0;clip: rect(1px 1px 1px 1px);clip: rect(1px, 1px, 1px, 1px);height: 1px;margin: -1px;overflow: hidden;padding: 0;position: absolute;width: 1px;}#sk-container-id-7 div.sk-estimator {font-family: monospace;background-color: #f0f8ff;border: 1px dotted black;border-radius: 0.25em;box-sizing: border-box;margin-bottom: 0.5em;}#sk-container-id-7 div.sk-estimator:hover {background-color: #d4ebff;}#sk-container-id-7 div.sk-parallel-item::after {content: \"\";width: 100%;border-bottom: 1px solid gray;flex-grow: 1;}#sk-container-id-7 div.sk-label:hover label.sk-toggleable__label {background-color: #d4ebff;}#sk-container-id-7 div.sk-serial::before {content: \"\";position: absolute;border-left: 1px solid gray;box-sizing: border-box;top: 0;bottom: 0;left: 50%;z-index: 0;}#sk-container-id-7 div.sk-serial {display: flex;flex-direction: column;align-items: center;background-color: white;padding-right: 0.2em;padding-left: 0.2em;position: relative;}#sk-container-id-7 div.sk-item {position: relative;z-index: 1;}#sk-container-id-7 div.sk-parallel {display: flex;align-items: stretch;justify-content: center;background-color: white;position: relative;}#sk-container-id-7 div.sk-item::before, #sk-container-id-7 div.sk-parallel-item::before {content: \"\";position: absolute;border-left: 1px solid gray;box-sizing: border-box;top: 0;bottom: 0;left: 50%;z-index: -1;}#sk-container-id-7 div.sk-parallel-item {display: flex;flex-direction: column;z-index: 1;position: relative;background-color: white;}#sk-container-id-7 div.sk-parallel-item:first-child::after {align-self: flex-end;width: 50%;}#sk-container-id-7 div.sk-parallel-item:last-child::after {align-self: flex-start;width: 50%;}#sk-container-id-7 div.sk-parallel-item:only-child::after {width: 0;}#sk-container-id-7 div.sk-dashed-wrapped {border: 1px dashed gray;margin: 0 0.4em 0.5em 0.4em;box-sizing: border-box;padding-bottom: 0.4em;background-color: white;}#sk-container-id-7 div.sk-label label {font-family: monospace;font-weight: bold;display: inline-block;line-height: 1.2em;}#sk-container-id-7 div.sk-label-container {text-align: center;}#sk-container-id-7 div.sk-container {/* jupyter's `normalize.less` sets `[hidden] { display: none; }` but bootstrap.min.css set `[hidden] { display: none !important; }` so we also need the `!important` here to be able to override the default hidden behavior on the sphinx rendered scikit-learn.org. See: https://github.com/scikit-learn/scikit-learn/issues/21755 */display: inline-block !important;position: relative;}#sk-container-id-7 div.sk-text-repr-fallback {display: none;}</style><div id=\"sk-container-id-7\" class=\"sk-top-container\"><div class=\"sk-text-repr-fallback\"><pre>RandomizedSearchCV(cv=5,\n",
       "                   estimator=Pipeline(steps=[(&#x27;preprocessor&#x27;,\n",
       "                                              ColumnTransformer(transformers=[(&#x27;num&#x27;,\n",
       "                                                                               Pipeline(steps=[(&#x27;imputer&#x27;,\n",
       "                                                                                                SimpleImputer()),\n",
       "                                                                                               (&#x27;scaler&#x27;,\n",
       "                                                                                                StandardScaler(with_mean=False))]),\n",
       "                                                                               [&#x27;LBXWBCSI_x&#x27;,\n",
       "                                                                                &#x27;LBXLYPCT_x&#x27;,\n",
       "                                                                                &#x27;LBXMOPCT_x&#x27;,\n",
       "                                                                                &#x27;LBXEOPCT_x&#x27;,\n",
       "                                                                                &#x27;LBXBAPCT_x&#x27;,\n",
       "                                                                                &#x27;LBDMONO_x&#x27;,\n",
       "                                                                                &#x27;LBDNENO_x&#x27;,\n",
       "                                                                                &#x27;LBDEONO_x&#x27;,\n",
       "                                                                                &#x27;LBXRBCSI_x&#x27;,\n",
       "                                                                                &#x27;LBXMCVSI_x&#x27;,\n",
       "                                                                                &#x27;LBXMC_x&#x27;,\n",
       "                                                                                &#x27;LBXRDW_x&#x27;,\n",
       "                                                                                &#x27;LBXPLT...\n",
       "                                                                                &#x27;MCQ160L&#x27;,\n",
       "                                                                                &#x27;MCQ160O&#x27;, ...])])),\n",
       "                                             (&#x27;rfc&#x27;,\n",
       "                                              RandomForestClassifier())]),\n",
       "                   param_distributions={&#x27;rfc__bootstrap&#x27;: [True, False],\n",
       "                                        &#x27;rfc__max_depth&#x27;: [10, 20, 30, 40, 50,\n",
       "                                                           100],\n",
       "                                        &#x27;rfc__max_features&#x27;: [&#x27;log2&#x27;, &#x27;sqrt&#x27;],\n",
       "                                        &#x27;rfc__min_samples_leaf&#x27;: [1, 2, 4, 6],\n",
       "                                        &#x27;rfc__min_samples_split&#x27;: [2, 5, 10,\n",
       "                                                                   20],\n",
       "                                        &#x27;rfc__n_estimators&#x27;: [200, 400, 600,\n",
       "                                                              800, 1000]},\n",
       "                   random_state=301, refit=&#x27;accuracy&#x27;, scoring=&#x27;accuracy&#x27;)</pre><b>In a Jupyter environment, please rerun this cell to show the HTML representation or trust the notebook. <br />On GitHub, the HTML representation is unable to render, please try loading this page with nbviewer.org.</b></div><div class=\"sk-container\" hidden><div class=\"sk-item sk-dashed-wrapped\"><div class=\"sk-label-container\"><div class=\"sk-label sk-toggleable\"><input class=\"sk-toggleable__control sk-hidden--visually\" id=\"sk-estimator-id-55\" type=\"checkbox\" ><label for=\"sk-estimator-id-55\" class=\"sk-toggleable__label sk-toggleable__label-arrow\">RandomizedSearchCV</label><div class=\"sk-toggleable__content\"><pre>RandomizedSearchCV(cv=5,\n",
       "                   estimator=Pipeline(steps=[(&#x27;preprocessor&#x27;,\n",
       "                                              ColumnTransformer(transformers=[(&#x27;num&#x27;,\n",
       "                                                                               Pipeline(steps=[(&#x27;imputer&#x27;,\n",
       "                                                                                                SimpleImputer()),\n",
       "                                                                                               (&#x27;scaler&#x27;,\n",
       "                                                                                                StandardScaler(with_mean=False))]),\n",
       "                                                                               [&#x27;LBXWBCSI_x&#x27;,\n",
       "                                                                                &#x27;LBXLYPCT_x&#x27;,\n",
       "                                                                                &#x27;LBXMOPCT_x&#x27;,\n",
       "                                                                                &#x27;LBXEOPCT_x&#x27;,\n",
       "                                                                                &#x27;LBXBAPCT_x&#x27;,\n",
       "                                                                                &#x27;LBDMONO_x&#x27;,\n",
       "                                                                                &#x27;LBDNENO_x&#x27;,\n",
       "                                                                                &#x27;LBDEONO_x&#x27;,\n",
       "                                                                                &#x27;LBXRBCSI_x&#x27;,\n",
       "                                                                                &#x27;LBXMCVSI_x&#x27;,\n",
       "                                                                                &#x27;LBXMC_x&#x27;,\n",
       "                                                                                &#x27;LBXRDW_x&#x27;,\n",
       "                                                                                &#x27;LBXPLT...\n",
       "                                                                                &#x27;MCQ160L&#x27;,\n",
       "                                                                                &#x27;MCQ160O&#x27;, ...])])),\n",
       "                                             (&#x27;rfc&#x27;,\n",
       "                                              RandomForestClassifier())]),\n",
       "                   param_distributions={&#x27;rfc__bootstrap&#x27;: [True, False],\n",
       "                                        &#x27;rfc__max_depth&#x27;: [10, 20, 30, 40, 50,\n",
       "                                                           100],\n",
       "                                        &#x27;rfc__max_features&#x27;: [&#x27;log2&#x27;, &#x27;sqrt&#x27;],\n",
       "                                        &#x27;rfc__min_samples_leaf&#x27;: [1, 2, 4, 6],\n",
       "                                        &#x27;rfc__min_samples_split&#x27;: [2, 5, 10,\n",
       "                                                                   20],\n",
       "                                        &#x27;rfc__n_estimators&#x27;: [200, 400, 600,\n",
       "                                                              800, 1000]},\n",
       "                   random_state=301, refit=&#x27;accuracy&#x27;, scoring=&#x27;accuracy&#x27;)</pre></div></div></div><div class=\"sk-parallel\"><div class=\"sk-parallel-item\"><div class=\"sk-item\"><div class=\"sk-label-container\"><div class=\"sk-label sk-toggleable\"><input class=\"sk-toggleable__control sk-hidden--visually\" id=\"sk-estimator-id-56\" type=\"checkbox\" ><label for=\"sk-estimator-id-56\" class=\"sk-toggleable__label sk-toggleable__label-arrow\">estimator: Pipeline</label><div class=\"sk-toggleable__content\"><pre>Pipeline(steps=[(&#x27;preprocessor&#x27;,\n",
       "                 ColumnTransformer(transformers=[(&#x27;num&#x27;,\n",
       "                                                  Pipeline(steps=[(&#x27;imputer&#x27;,\n",
       "                                                                   SimpleImputer()),\n",
       "                                                                  (&#x27;scaler&#x27;,\n",
       "                                                                   StandardScaler(with_mean=False))]),\n",
       "                                                  [&#x27;LBXWBCSI_x&#x27;, &#x27;LBXLYPCT_x&#x27;,\n",
       "                                                   &#x27;LBXMOPCT_x&#x27;, &#x27;LBXEOPCT_x&#x27;,\n",
       "                                                   &#x27;LBXBAPCT_x&#x27;, &#x27;LBDMONO_x&#x27;,\n",
       "                                                   &#x27;LBDNENO_x&#x27;, &#x27;LBDEONO_x&#x27;,\n",
       "                                                   &#x27;LBXRBCSI_x&#x27;, &#x27;LBXMCVSI_x&#x27;,\n",
       "                                                   &#x27;LBXMC_x&#x27;, &#x27;LBXRDW_x&#x27;,\n",
       "                                                   &#x27;LBXPLTSI_x&#x27;, &#x27;LBXMPSI_x&#x27;,\n",
       "                                                   &#x27;LBXBPB&#x27;, &#x27;LBXBCD...\n",
       "                                                  [&#x27;LBDBANO_x&#x27;, &#x27;LBDBPBLC&#x27;,\n",
       "                                                   &#x27;LBDBCDLC&#x27;, &#x27;LBDTHGLC&#x27;,\n",
       "                                                   &#x27;LBDBSELC&#x27;, &#x27;LBDBMNLC&#x27;,\n",
       "                                                   &#x27;LBDIHGLC&#x27;, &#x27;LBDBGELC&#x27;,\n",
       "                                                   &#x27;LBDBGMLC&#x27;, &#x27;LBDVIDLC&#x27;,\n",
       "                                                   &#x27;LBDVD2LC&#x27;, &#x27;LBDVD3LC&#x27;,\n",
       "                                                   &#x27;LBDVE3LC&#x27;, &#x27;LBDBANO_y&#x27;,\n",
       "                                                   &#x27;MCQ010&#x27;, &#x27;MCQ053&#x27;, &#x27;MCQ080&#x27;,\n",
       "                                                   &#x27;MCQ092&#x27;, &#x27;MCQ160A&#x27;,\n",
       "                                                   &#x27;MCQ160N&#x27;, &#x27;MCQ160B&#x27;,\n",
       "                                                   &#x27;MCQ160C&#x27;, &#x27;MCQ160D&#x27;,\n",
       "                                                   &#x27;MCQ160E&#x27;, &#x27;MCQ160F&#x27;,\n",
       "                                                   &#x27;MCQ160G&#x27;, &#x27;MCQ160M&#x27;,\n",
       "                                                   &#x27;MCQ160K&#x27;, &#x27;MCQ160L&#x27;,\n",
       "                                                   &#x27;MCQ160O&#x27;, ...])])),\n",
       "                (&#x27;rfc&#x27;, RandomForestClassifier())])</pre></div></div></div><div class=\"sk-serial\"><div class=\"sk-item\"><div class=\"sk-serial\"><div class=\"sk-item sk-dashed-wrapped\"><div class=\"sk-label-container\"><div class=\"sk-label sk-toggleable\"><input class=\"sk-toggleable__control sk-hidden--visually\" id=\"sk-estimator-id-57\" type=\"checkbox\" ><label for=\"sk-estimator-id-57\" class=\"sk-toggleable__label sk-toggleable__label-arrow\">preprocessor: ColumnTransformer</label><div class=\"sk-toggleable__content\"><pre>ColumnTransformer(transformers=[(&#x27;num&#x27;,\n",
       "                                 Pipeline(steps=[(&#x27;imputer&#x27;, SimpleImputer()),\n",
       "                                                 (&#x27;scaler&#x27;,\n",
       "                                                  StandardScaler(with_mean=False))]),\n",
       "                                 [&#x27;LBXWBCSI_x&#x27;, &#x27;LBXLYPCT_x&#x27;, &#x27;LBXMOPCT_x&#x27;,\n",
       "                                  &#x27;LBXEOPCT_x&#x27;, &#x27;LBXBAPCT_x&#x27;, &#x27;LBDMONO_x&#x27;,\n",
       "                                  &#x27;LBDNENO_x&#x27;, &#x27;LBDEONO_x&#x27;, &#x27;LBXRBCSI_x&#x27;,\n",
       "                                  &#x27;LBXMCVSI_x&#x27;, &#x27;LBXMC_x&#x27;, &#x27;LBXRDW_x&#x27;,\n",
       "                                  &#x27;LBXPLTSI_x&#x27;, &#x27;LBXMPSI_x&#x27;, &#x27;LBXBPB&#x27;, &#x27;LBXBCD&#x27;,\n",
       "                                  &#x27;LBXTHG&#x27;, &#x27;LBXBSE&#x27;, &#x27;LBXBMN&#x27;, &#x27;LB...\n",
       "                                                  SimpleImputer(strategy=&#x27;most_frequent&#x27;))]),\n",
       "                                 [&#x27;LBDBANO_x&#x27;, &#x27;LBDBPBLC&#x27;, &#x27;LBDBCDLC&#x27;,\n",
       "                                  &#x27;LBDTHGLC&#x27;, &#x27;LBDBSELC&#x27;, &#x27;LBDBMNLC&#x27;,\n",
       "                                  &#x27;LBDIHGLC&#x27;, &#x27;LBDBGELC&#x27;, &#x27;LBDBGMLC&#x27;,\n",
       "                                  &#x27;LBDVIDLC&#x27;, &#x27;LBDVD2LC&#x27;, &#x27;LBDVD3LC&#x27;,\n",
       "                                  &#x27;LBDVE3LC&#x27;, &#x27;LBDBANO_y&#x27;, &#x27;MCQ010&#x27;, &#x27;MCQ053&#x27;,\n",
       "                                  &#x27;MCQ080&#x27;, &#x27;MCQ092&#x27;, &#x27;MCQ160A&#x27;, &#x27;MCQ160N&#x27;,\n",
       "                                  &#x27;MCQ160B&#x27;, &#x27;MCQ160C&#x27;, &#x27;MCQ160D&#x27;, &#x27;MCQ160E&#x27;,\n",
       "                                  &#x27;MCQ160F&#x27;, &#x27;MCQ160G&#x27;, &#x27;MCQ160M&#x27;, &#x27;MCQ160K&#x27;,\n",
       "                                  &#x27;MCQ160L&#x27;, &#x27;MCQ160O&#x27;, ...])])</pre></div></div></div><div class=\"sk-parallel\"><div class=\"sk-parallel-item\"><div class=\"sk-item\"><div class=\"sk-label-container\"><div class=\"sk-label sk-toggleable\"><input class=\"sk-toggleable__control sk-hidden--visually\" id=\"sk-estimator-id-58\" type=\"checkbox\" ><label for=\"sk-estimator-id-58\" class=\"sk-toggleable__label sk-toggleable__label-arrow\">num</label><div class=\"sk-toggleable__content\"><pre>[&#x27;LBXWBCSI_x&#x27;, &#x27;LBXLYPCT_x&#x27;, &#x27;LBXMOPCT_x&#x27;, &#x27;LBXEOPCT_x&#x27;, &#x27;LBXBAPCT_x&#x27;, &#x27;LBDMONO_x&#x27;, &#x27;LBDNENO_x&#x27;, &#x27;LBDEONO_x&#x27;, &#x27;LBXRBCSI_x&#x27;, &#x27;LBXMCVSI_x&#x27;, &#x27;LBXMC_x&#x27;, &#x27;LBXRDW_x&#x27;, &#x27;LBXPLTSI_x&#x27;, &#x27;LBXMPSI_x&#x27;, &#x27;LBXBPB&#x27;, &#x27;LBXBCD&#x27;, &#x27;LBXTHG&#x27;, &#x27;LBXBSE&#x27;, &#x27;LBXBMN&#x27;, &#x27;LBXIHG&#x27;, &#x27;LBXBGE&#x27;, &#x27;LBDHDD&#x27;, &#x27;LBXVIDMS&#x27;, &#x27;LBXVD2MS&#x27;, &#x27;LBXVE3MS&#x27;, &#x27;LBXWBCSI_y&#x27;, &#x27;LBXLYPCT_y&#x27;, &#x27;LBXMOPCT_y&#x27;, &#x27;LBXNEPCT&#x27;, &#x27;LBXEOPCT_y&#x27;, &#x27;LBXBAPCT_y&#x27;, &#x27;LBDLYMNO&#x27;, &#x27;LBDMONO_y&#x27;, &#x27;LBDNENO_y&#x27;, &#x27;LBDEONO_y&#x27;, &#x27;LBXRBCSI_y&#x27;, &#x27;LBXHCT&#x27;, &#x27;LBXMCVSI_y&#x27;, &#x27;LBXMCHSI&#x27;, &#x27;LBXMC_y&#x27;, &#x27;LBXRDW_y&#x27;, &#x27;LBXPLTSI_y&#x27;, &#x27;LBXMPSI_y&#x27;, &#x27;LBXSAL&#x27;, &#x27;LBDSALSI&#x27;, &#x27;LBXSAPSI&#x27;, &#x27;LBXSASSI&#x27;, &#x27;LBXSATSI&#x27;, &#x27;LBXSBU&#x27;, &#x27;LBDSBUSI&#x27;, &#x27;LBXSC3SI&#x27;, &#x27;LBXSCA&#x27;, &#x27;LBDSCASI&#x27;, &#x27;LBXSCH&#x27;, &#x27;LBDSCHSI&#x27;, &#x27;LBXSCK&#x27;, &#x27;LBXSCLSI&#x27;, &#x27;LBXSCR&#x27;, &#x27;LBDSCRSI&#x27;, &#x27;LBXSGB&#x27;, &#x27;LBDSGBSI&#x27;, &#x27;LBXSGL&#x27;, &#x27;LBDSGLSI&#x27;, &#x27;LBXSGTSI&#x27;, &#x27;LBXSIR&#x27;, &#x27;LBDSIRSI&#x27;, &#x27;LBXSKSI&#x27;, &#x27;LBXSLDSI&#x27;, &#x27;LBXSNASI&#x27;, &#x27;LBXSOSSI&#x27;, &#x27;LBXSPH&#x27;, &#x27;LBDSPHSI&#x27;, &#x27;LBXSTB&#x27;, &#x27;LBDSTBSI&#x27;, &#x27;LBXSTP&#x27;, &#x27;LBDSTPSI&#x27;, &#x27;LBXSTR&#x27;, &#x27;LBDSTRSI&#x27;, &#x27;LBXSUA&#x27;, &#x27;LBDSUASI&#x27;, &#x27;BMXWT&#x27;, &#x27;BMXHT&#x27;, &#x27;BMXBMI&#x27;, &#x27;BMXLEG&#x27;, &#x27;BMXARML&#x27;, &#x27;BMXARMC&#x27;, &#x27;BMXWAIST&#x27;, &#x27;BMXSAD1&#x27;, &#x27;BMXSAD2&#x27;]</pre></div></div></div><div class=\"sk-serial\"><div class=\"sk-item\"><div class=\"sk-serial\"><div class=\"sk-item\"><div class=\"sk-estimator sk-toggleable\"><input class=\"sk-toggleable__control sk-hidden--visually\" id=\"sk-estimator-id-59\" type=\"checkbox\" ><label for=\"sk-estimator-id-59\" class=\"sk-toggleable__label sk-toggleable__label-arrow\">SimpleImputer</label><div class=\"sk-toggleable__content\"><pre>SimpleImputer()</pre></div></div></div><div class=\"sk-item\"><div class=\"sk-estimator sk-toggleable\"><input class=\"sk-toggleable__control sk-hidden--visually\" id=\"sk-estimator-id-60\" type=\"checkbox\" ><label for=\"sk-estimator-id-60\" class=\"sk-toggleable__label sk-toggleable__label-arrow\">StandardScaler</label><div class=\"sk-toggleable__content\"><pre>StandardScaler(with_mean=False)</pre></div></div></div></div></div></div></div></div><div class=\"sk-parallel-item\"><div class=\"sk-item\"><div class=\"sk-label-container\"><div class=\"sk-label sk-toggleable\"><input class=\"sk-toggleable__control sk-hidden--visually\" id=\"sk-estimator-id-61\" type=\"checkbox\" ><label for=\"sk-estimator-id-61\" class=\"sk-toggleable__label sk-toggleable__label-arrow\">cat</label><div class=\"sk-toggleable__content\"><pre>[&#x27;LBDBANO_x&#x27;, &#x27;LBDBPBLC&#x27;, &#x27;LBDBCDLC&#x27;, &#x27;LBDTHGLC&#x27;, &#x27;LBDBSELC&#x27;, &#x27;LBDBMNLC&#x27;, &#x27;LBDIHGLC&#x27;, &#x27;LBDBGELC&#x27;, &#x27;LBDBGMLC&#x27;, &#x27;LBDVIDLC&#x27;, &#x27;LBDVD2LC&#x27;, &#x27;LBDVD3LC&#x27;, &#x27;LBDVE3LC&#x27;, &#x27;LBDBANO_y&#x27;, &#x27;MCQ010&#x27;, &#x27;MCQ053&#x27;, &#x27;MCQ080&#x27;, &#x27;MCQ092&#x27;, &#x27;MCQ160A&#x27;, &#x27;MCQ160N&#x27;, &#x27;MCQ160B&#x27;, &#x27;MCQ160C&#x27;, &#x27;MCQ160D&#x27;, &#x27;MCQ160E&#x27;, &#x27;MCQ160F&#x27;, &#x27;MCQ160G&#x27;, &#x27;MCQ160M&#x27;, &#x27;MCQ160K&#x27;, &#x27;MCQ160L&#x27;, &#x27;MCQ160O&#x27;, &#x27;MCQ203&#x27;, &#x27;MCQ220&#x27;, &#x27;MCQ300A&#x27;, &#x27;MCQ300B&#x27;, &#x27;MCQ300C&#x27;, &#x27;OSQ230&#x27;, &#x27;PAQ605&#x27;, &#x27;PAQ620&#x27;, &#x27;PAQ635&#x27;, &#x27;PAQ650&#x27;, &#x27;PAQ665&#x27;, &#x27;PAQ710&#x27;, &#x27;PAQ715&#x27;, &#x27;BMDSTATS&#x27;]</pre></div></div></div><div class=\"sk-serial\"><div class=\"sk-item\"><div class=\"sk-serial\"><div class=\"sk-item\"><div class=\"sk-estimator sk-toggleable\"><input class=\"sk-toggleable__control sk-hidden--visually\" id=\"sk-estimator-id-62\" type=\"checkbox\" ><label for=\"sk-estimator-id-62\" class=\"sk-toggleable__label sk-toggleable__label-arrow\">SimpleImputer</label><div class=\"sk-toggleable__content\"><pre>SimpleImputer(strategy=&#x27;most_frequent&#x27;)</pre></div></div></div></div></div></div></div></div></div></div><div class=\"sk-item\"><div class=\"sk-estimator sk-toggleable\"><input class=\"sk-toggleable__control sk-hidden--visually\" id=\"sk-estimator-id-63\" type=\"checkbox\" ><label for=\"sk-estimator-id-63\" class=\"sk-toggleable__label sk-toggleable__label-arrow\">RandomForestClassifier</label><div class=\"sk-toggleable__content\"><pre>RandomForestClassifier()</pre></div></div></div></div></div></div></div></div></div></div></div></div>"
      ],
      "text/plain": [
       "RandomizedSearchCV(cv=5,\n",
       "                   estimator=Pipeline(steps=[('preprocessor',\n",
       "                                              ColumnTransformer(transformers=[('num',\n",
       "                                                                               Pipeline(steps=[('imputer',\n",
       "                                                                                                SimpleImputer()),\n",
       "                                                                                               ('scaler',\n",
       "                                                                                                StandardScaler(with_mean=False))]),\n",
       "                                                                               ['LBXWBCSI_x',\n",
       "                                                                                'LBXLYPCT_x',\n",
       "                                                                                'LBXMOPCT_x',\n",
       "                                                                                'LBXEOPCT_x',\n",
       "                                                                                'LBXBAPCT_x',\n",
       "                                                                                'LBDMONO_x',\n",
       "                                                                                'LBDNENO_x',\n",
       "                                                                                'LBDEONO_x',\n",
       "                                                                                'LBXRBCSI_x',\n",
       "                                                                                'LBXMCVSI_x',\n",
       "                                                                                'LBXMC_x',\n",
       "                                                                                'LBXRDW_x',\n",
       "                                                                                'LBXPLT...\n",
       "                                                                                'MCQ160L',\n",
       "                                                                                'MCQ160O', ...])])),\n",
       "                                             ('rfc',\n",
       "                                              RandomForestClassifier())]),\n",
       "                   param_distributions={'rfc__bootstrap': [True, False],\n",
       "                                        'rfc__max_depth': [10, 20, 30, 40, 50,\n",
       "                                                           100],\n",
       "                                        'rfc__max_features': ['log2', 'sqrt'],\n",
       "                                        'rfc__min_samples_leaf': [1, 2, 4, 6],\n",
       "                                        'rfc__min_samples_split': [2, 5, 10,\n",
       "                                                                   20],\n",
       "                                        'rfc__n_estimators': [200, 400, 600,\n",
       "                                                              800, 1000]},\n",
       "                   random_state=301, refit='accuracy', scoring='accuracy')"
      ]
     },
     "execution_count": 80,
     "metadata": {},
     "output_type": "execute_result"
    }
   ],
   "source": [
    "#newdataset variables:\n",
    "catVars, numVars = catNamesAndNumNames(newDataset.drop(['SEQN','LBXHGB','DMDHRGND'], axis=1))\n",
    "xtrain, xtest, ytrain, ytest = train_test_split(newDataset.drop(['SEQN','LBXHGB','DMDHRGND'], axis=1), anemia, test_size=0.2, random_state=42)\n",
    "categorical_transformer = Pipeline(\n",
    "    steps=[(\"imputer\", SimpleImputer(strategy=\"most_frequent\"))]\n",
    ")\n",
    "numeric_transformer = Pipeline(\n",
    "    steps=[(\"imputer\", SimpleImputer(strategy=\"mean\")), (\"scaler\", StandardScaler(with_mean=False))]\n",
    ")\n",
    "preprocessor = ColumnTransformer( \n",
    "    transformers=[\n",
    "        (\"num\", numeric_transformer, numVars),\n",
    "        (\"cat\", categorical_transformer, catVars)]\n",
    ")\n",
    "\n",
    "# 10% of the total variables will be selected\n",
    "selection = SelectPercentile(chi2, percentile = 10)\n",
    "pipe7 = Pipeline(\n",
    "    steps = [(\"preprocessor\", preprocessor),  (\"rfc\", RandomForestClassifier())]\n",
    ")\n",
    "\n",
    "random_grid = {'rfc__n_estimators': [200, 400, 600, 800, 1000],\n",
    "               'rfc__max_features': ['log2', 'sqrt'],\n",
    "               'rfc__max_depth': [10, 20, 30, 40, 50, 100],\n",
    "               'rfc__min_samples_split': [2, 5, 10, 20],\n",
    "               'rfc__min_samples_leaf': [1, 2, 4, 6],\n",
    "               'rfc__bootstrap': [True, False]}\n",
    "randomSearch = RandomizedSearchCV(pipe7, param_distributions = random_grid, scoring='accuracy', refit='accuracy', n_iter=10, cv=5, random_state=301)\n",
    "\n",
    "randomSearch.fit(xtrain, ytrain)"
   ]
  },
  {
   "cell_type": "code",
   "execution_count": 81,
   "metadata": {},
   "outputs": [
    {
     "data": {
      "text/plain": [
       "0.869"
      ]
     },
     "execution_count": 81,
     "metadata": {},
     "output_type": "execute_result"
    }
   ],
   "source": [
    "randomSearch.best_score_ "
   ]
  },
  {
   "cell_type": "code",
   "execution_count": 82,
   "metadata": {},
   "outputs": [],
   "source": [
    "predictions7 = randomSearch.best_estimator_.predict(xtest)"
   ]
  },
  {
   "cell_type": "code",
   "execution_count": 83,
   "metadata": {},
   "outputs": [],
   "source": [
    "ytestNum = []\n",
    "for i in ytest:\n",
    "    if i ==\"True\":\n",
    "        ytestNum.append(1)\n",
    "    elif i==\"False\":\n",
    "        ytestNum.append(0)"
   ]
  },
  {
   "cell_type": "code",
   "execution_count": 84,
   "metadata": {},
   "outputs": [
    {
     "data": {
      "text/plain": [
       "0.842"
      ]
     },
     "execution_count": 84,
     "metadata": {},
     "output_type": "execute_result"
    }
   ],
   "source": [
    "accuracy_score(ytest, predictions7)"
   ]
  },
  {
   "cell_type": "code",
   "execution_count": 85,
   "metadata": {},
   "outputs": [
    {
     "name": "stdout",
     "output_type": "stream",
     "text": [
      "              precision    recall  f1-score   support\n",
      "\n",
      "       False       0.85      0.98      0.91       398\n",
      "        True       0.78      0.31      0.45       102\n",
      "\n",
      "    accuracy                           0.84       500\n",
      "   macro avg       0.81      0.65      0.68       500\n",
      "weighted avg       0.83      0.84      0.81       500\n",
      "\n"
     ]
    }
   ],
   "source": [
    "print(classification_report(ytest, predictions7))"
   ]
  },
  {
   "cell_type": "code",
   "execution_count": 86,
   "metadata": {},
   "outputs": [],
   "source": [
    "predictionsNum7 = randomSearch.best_estimator_.predict_proba(xtest)[:, 1]"
   ]
  },
  {
   "cell_type": "code",
   "execution_count": 87,
   "metadata": {},
   "outputs": [
    {
     "data": {
      "image/png": "[encoded data removed]",
      "text/plain": [
       "<Figure size 432x288 with 1 Axes>"
      ]
     },
     "metadata": {
      "needs_background": "light"
     },
     "output_type": "display_data"
    }
   ],
   "source": [
    "fpr, tpr, thresholds = roc_curve(ytestNum, predictionsNum7)\n",
    "fig = plt.figure()\n",
    "ax = fig.add_subplot()\n",
    "plt.plot(fpr, tpr)\n",
    "plt.plot([0, 1], [0, 1], '--')\n",
    "plt.xlabel('False Positive Rate')\n",
    "plt.ylabel('True Positive Rate')\n",
    "plt.title('ROC Curve')\n",
    "ax.set_aspect('equal', adjustable='box')"
   ]
  },
  {
   "cell_type": "code",
   "execution_count": 88,
   "metadata": {},
   "outputs": [
    {
     "name": "stdout",
     "output_type": "stream",
     "text": [
      "ROC_AUC score:  0.8814538378165336\n"
     ]
    }
   ],
   "source": [
    "print(\"ROC_AUC score: \",roc_auc_score(ytestNum, predictionsNum7))\n",
    "roc7 = roc_auc_score(ytestNum, predictionsNum7)"
   ]
  },
  {
   "cell_type": "code",
   "execution_count": 89,
   "metadata": {},
   "outputs": [
    {
     "name": "stdout",
     "output_type": "stream",
     "text": [
      "AUC-PR score:  0.6802721053767151\n"
     ]
    }
   ],
   "source": [
    "print(\"AUC-PR score: \",average_precision_score(ytestNum, predictionsNum7))\n",
    "aucpr7 = average_precision_score(ytestNum, predictionsNum7)"
   ]
  },
  {
   "cell_type": "code",
   "execution_count": 97,
   "metadata": {},
   "outputs": [
    {
     "data": {
      "text/html": [
       "<style>#sk-container-id-9 {color: black;}#sk-container-id-9 pre{padding: 0;}#sk-container-id-9 div.sk-toggleable {background-color: white;}#sk-container-id-9 label.sk-toggleable__label {cursor: pointer;display: block;width: 100%;margin-bottom: 0;padding: 0.3em;box-sizing: border-box;text-align: center;}#sk-container-id-9 label.sk-toggleable__label-arrow:before {content: \"▸\";float: left;margin-right: 0.25em;color: #696969;}#sk-container-id-9 label.sk-toggleable__label-arrow:hover:before {color: black;}#sk-container-id-9 div.sk-estimator:hover label.sk-toggleable__label-arrow:before {color: black;}#sk-container-id-9 div.sk-toggleable__content {max-height: 0;max-width: 0;overflow: hidden;text-align: left;background-color: #f0f8ff;}#sk-container-id-9 div.sk-toggleable__content pre {margin: 0.2em;color: black;border-radius: 0.25em;background-color: #f0f8ff;}#sk-container-id-9 input.sk-toggleable__control:checked~div.sk-toggleable__content {max-height: 200px;max-width: 100%;overflow: auto;}#sk-container-id-9 input.sk-toggleable__control:checked~label.sk-toggleable__label-arrow:before {content: \"▾\";}#sk-container-id-9 div.sk-estimator input.sk-toggleable__control:checked~label.sk-toggleable__label {background-color: #d4ebff;}#sk-container-id-9 div.sk-label input.sk-toggleable__control:checked~label.sk-toggleable__label {background-color: #d4ebff;}#sk-container-id-9 input.sk-hidden--visually {border: 0;clip: rect(1px 1px 1px 1px);clip: rect(1px, 1px, 1px, 1px);height: 1px;margin: -1px;overflow: hidden;padding: 0;position: absolute;width: 1px;}#sk-container-id-9 div.sk-estimator {font-family: monospace;background-color: #f0f8ff;border: 1px dotted black;border-radius: 0.25em;box-sizing: border-box;margin-bottom: 0.5em;}#sk-container-id-9 div.sk-estimator:hover {background-color: #d4ebff;}#sk-container-id-9 div.sk-parallel-item::after {content: \"\";width: 100%;border-bottom: 1px solid gray;flex-grow: 1;}#sk-container-id-9 div.sk-label:hover label.sk-toggleable__label {background-color: #d4ebff;}#sk-container-id-9 div.sk-serial::before {content: \"\";position: absolute;border-left: 1px solid gray;box-sizing: border-box;top: 0;bottom: 0;left: 50%;z-index: 0;}#sk-container-id-9 div.sk-serial {display: flex;flex-direction: column;align-items: center;background-color: white;padding-right: 0.2em;padding-left: 0.2em;position: relative;}#sk-container-id-9 div.sk-item {position: relative;z-index: 1;}#sk-container-id-9 div.sk-parallel {display: flex;align-items: stretch;justify-content: center;background-color: white;position: relative;}#sk-container-id-9 div.sk-item::before, #sk-container-id-9 div.sk-parallel-item::before {content: \"\";position: absolute;border-left: 1px solid gray;box-sizing: border-box;top: 0;bottom: 0;left: 50%;z-index: -1;}#sk-container-id-9 div.sk-parallel-item {display: flex;flex-direction: column;z-index: 1;position: relative;background-color: white;}#sk-container-id-9 div.sk-parallel-item:first-child::after {align-self: flex-end;width: 50%;}#sk-container-id-9 div.sk-parallel-item:last-child::after {align-self: flex-start;width: 50%;}#sk-container-id-9 div.sk-parallel-item:only-child::after {width: 0;}#sk-container-id-9 div.sk-dashed-wrapped {border: 1px dashed gray;margin: 0 0.4em 0.5em 0.4em;box-sizing: border-box;padding-bottom: 0.4em;background-color: white;}#sk-container-id-9 div.sk-label label {font-family: monospace;font-weight: bold;display: inline-block;line-height: 1.2em;}#sk-container-id-9 div.sk-label-container {text-align: center;}#sk-container-id-9 div.sk-container {/* jupyter's `normalize.less` sets `[hidden] { display: none; }` but bootstrap.min.css set `[hidden] { display: none !important; }` so we also need the `!important` here to be able to override the default hidden behavior on the sphinx rendered scikit-learn.org. See: https://github.com/scikit-learn/scikit-learn/issues/21755 */display: inline-block !important;position: relative;}#sk-container-id-9 div.sk-text-repr-fallback {display: none;}</style><div id=\"sk-container-id-9\" class=\"sk-top-container\"><div class=\"sk-text-repr-fallback\"><pre>RandomizedSearchCV(cv=5,\n",
       "                   estimator=Pipeline(steps=[(&#x27;Preprocessing&#x27;,\n",
       "                                              ColumnTransformer(transformers=[(&#x27;num&#x27;,\n",
       "                                                                               Pipeline(steps=[(&#x27;imputer&#x27;,\n",
       "                                                                                                SimpleImputer()),\n",
       "                                                                                               (&#x27;scaler&#x27;,\n",
       "                                                                                                StandardScaler(with_mean=False))]),\n",
       "                                                                               [&#x27;LBXWBCSI_x&#x27;,\n",
       "                                                                                &#x27;LBXLYPCT_x&#x27;,\n",
       "                                                                                &#x27;LBXMOPCT_x&#x27;,\n",
       "                                                                                &#x27;LBXEOPCT_x&#x27;,\n",
       "                                                                                &#x27;LBXBAPCT_x&#x27;,\n",
       "                                                                                &#x27;LBDMONO_x&#x27;,\n",
       "                                                                                &#x27;LBDNENO_x&#x27;,\n",
       "                                                                                &#x27;LBDEONO_x&#x27;,\n",
       "                                                                                &#x27;LBXRBCSI_x&#x27;,\n",
       "                                                                                &#x27;LBXMCVSI_x&#x27;,\n",
       "                                                                                &#x27;LBXMC_x&#x27;,\n",
       "                                                                                &#x27;LBXRDW_x&#x27;,\n",
       "                                                                                &#x27;LBXPL...\n",
       "                                        &#x27;mlp__alpha&#x27;: [0.01, 0.001, 0.0001,\n",
       "                                                       1e-05],\n",
       "                                        &#x27;mlp__early_stopping&#x27;: [True],\n",
       "                                        &#x27;mlp__hidden_layer_sizes&#x27;: [(50,),\n",
       "                                                                    (100,),\n",
       "                                                                    (200,),\n",
       "                                                                    (400,)],\n",
       "                                        &#x27;mlp__learning_rate&#x27;: [&#x27;constant&#x27;,\n",
       "                                                               &#x27;invscaling&#x27;,\n",
       "                                                               &#x27;adaptive&#x27;],\n",
       "                                        &#x27;mlp__learning_rate_init&#x27;: [0.0001,\n",
       "                                                                    0.001, 0.01,\n",
       "                                                                    0.1],\n",
       "                                        &#x27;mlp__max_iter&#x27;: [200, 2000, 20000,\n",
       "                                                          200000],\n",
       "                                        &#x27;mlp__solver&#x27;: [&#x27;sgd&#x27;, &#x27;adam&#x27;]},\n",
       "                   random_state=301, refit=&#x27;accuracy&#x27;, scoring=&#x27;accuracy&#x27;)</pre><b>In a Jupyter environment, please rerun this cell to show the HTML representation or trust the notebook. <br />On GitHub, the HTML representation is unable to render, please try loading this page with nbviewer.org.</b></div><div class=\"sk-container\" hidden><div class=\"sk-item sk-dashed-wrapped\"><div class=\"sk-label-container\"><div class=\"sk-label sk-toggleable\"><input class=\"sk-toggleable__control sk-hidden--visually\" id=\"sk-estimator-id-73\" type=\"checkbox\" ><label for=\"sk-estimator-id-73\" class=\"sk-toggleable__label sk-toggleable__label-arrow\">RandomizedSearchCV</label><div class=\"sk-toggleable__content\"><pre>RandomizedSearchCV(cv=5,\n",
       "                   estimator=Pipeline(steps=[(&#x27;Preprocessing&#x27;,\n",
       "                                              ColumnTransformer(transformers=[(&#x27;num&#x27;,\n",
       "                                                                               Pipeline(steps=[(&#x27;imputer&#x27;,\n",
       "                                                                                                SimpleImputer()),\n",
       "                                                                                               (&#x27;scaler&#x27;,\n",
       "                                                                                                StandardScaler(with_mean=False))]),\n",
       "                                                                               [&#x27;LBXWBCSI_x&#x27;,\n",
       "                                                                                &#x27;LBXLYPCT_x&#x27;,\n",
       "                                                                                &#x27;LBXMOPCT_x&#x27;,\n",
       "                                                                                &#x27;LBXEOPCT_x&#x27;,\n",
       "                                                                                &#x27;LBXBAPCT_x&#x27;,\n",
       "                                                                                &#x27;LBDMONO_x&#x27;,\n",
       "                                                                                &#x27;LBDNENO_x&#x27;,\n",
       "                                                                                &#x27;LBDEONO_x&#x27;,\n",
       "                                                                                &#x27;LBXRBCSI_x&#x27;,\n",
       "                                                                                &#x27;LBXMCVSI_x&#x27;,\n",
       "                                                                                &#x27;LBXMC_x&#x27;,\n",
       "                                                                                &#x27;LBXRDW_x&#x27;,\n",
       "                                                                                &#x27;LBXPL...\n",
       "                                        &#x27;mlp__alpha&#x27;: [0.01, 0.001, 0.0001,\n",
       "                                                       1e-05],\n",
       "                                        &#x27;mlp__early_stopping&#x27;: [True],\n",
       "                                        &#x27;mlp__hidden_layer_sizes&#x27;: [(50,),\n",
       "                                                                    (100,),\n",
       "                                                                    (200,),\n",
       "                                                                    (400,)],\n",
       "                                        &#x27;mlp__learning_rate&#x27;: [&#x27;constant&#x27;,\n",
       "                                                               &#x27;invscaling&#x27;,\n",
       "                                                               &#x27;adaptive&#x27;],\n",
       "                                        &#x27;mlp__learning_rate_init&#x27;: [0.0001,\n",
       "                                                                    0.001, 0.01,\n",
       "                                                                    0.1],\n",
       "                                        &#x27;mlp__max_iter&#x27;: [200, 2000, 20000,\n",
       "                                                          200000],\n",
       "                                        &#x27;mlp__solver&#x27;: [&#x27;sgd&#x27;, &#x27;adam&#x27;]},\n",
       "                   random_state=301, refit=&#x27;accuracy&#x27;, scoring=&#x27;accuracy&#x27;)</pre></div></div></div><div class=\"sk-parallel\"><div class=\"sk-parallel-item\"><div class=\"sk-item\"><div class=\"sk-label-container\"><div class=\"sk-label sk-toggleable\"><input class=\"sk-toggleable__control sk-hidden--visually\" id=\"sk-estimator-id-74\" type=\"checkbox\" ><label for=\"sk-estimator-id-74\" class=\"sk-toggleable__label sk-toggleable__label-arrow\">estimator: Pipeline</label><div class=\"sk-toggleable__content\"><pre>Pipeline(steps=[(&#x27;Preprocessing&#x27;,\n",
       "                 ColumnTransformer(transformers=[(&#x27;num&#x27;,\n",
       "                                                  Pipeline(steps=[(&#x27;imputer&#x27;,\n",
       "                                                                   SimpleImputer()),\n",
       "                                                                  (&#x27;scaler&#x27;,\n",
       "                                                                   StandardScaler(with_mean=False))]),\n",
       "                                                  [&#x27;LBXWBCSI_x&#x27;, &#x27;LBXLYPCT_x&#x27;,\n",
       "                                                   &#x27;LBXMOPCT_x&#x27;, &#x27;LBXEOPCT_x&#x27;,\n",
       "                                                   &#x27;LBXBAPCT_x&#x27;, &#x27;LBDMONO_x&#x27;,\n",
       "                                                   &#x27;LBDNENO_x&#x27;, &#x27;LBDEONO_x&#x27;,\n",
       "                                                   &#x27;LBXRBCSI_x&#x27;, &#x27;LBXMCVSI_x&#x27;,\n",
       "                                                   &#x27;LBXMC_x&#x27;, &#x27;LBXRDW_x&#x27;,\n",
       "                                                   &#x27;LBXPLTSI_x&#x27;, &#x27;LBXMPSI_x&#x27;,\n",
       "                                                   &#x27;LBXBPB&#x27;, &#x27;LBXBC...\n",
       "                                                                   SimpleImputer(strategy=&#x27;most_frequent&#x27;))]),\n",
       "                                                  [&#x27;LBDBANO_x&#x27;, &#x27;LBDBPBLC&#x27;,\n",
       "                                                   &#x27;LBDBCDLC&#x27;, &#x27;LBDTHGLC&#x27;,\n",
       "                                                   &#x27;LBDBSELC&#x27;, &#x27;LBDBMNLC&#x27;,\n",
       "                                                   &#x27;LBDIHGLC&#x27;, &#x27;LBDBGELC&#x27;,\n",
       "                                                   &#x27;LBDBGMLC&#x27;, &#x27;LBDVIDLC&#x27;,\n",
       "                                                   &#x27;LBDVD2LC&#x27;, &#x27;LBDVD3LC&#x27;,\n",
       "                                                   &#x27;LBDVE3LC&#x27;, &#x27;LBDBANO_y&#x27;,\n",
       "                                                   &#x27;MCQ010&#x27;, &#x27;MCQ053&#x27;, &#x27;MCQ080&#x27;,\n",
       "                                                   &#x27;MCQ092&#x27;, &#x27;MCQ160A&#x27;,\n",
       "                                                   &#x27;MCQ160N&#x27;, &#x27;MCQ160B&#x27;,\n",
       "                                                   &#x27;MCQ160C&#x27;, &#x27;MCQ160D&#x27;,\n",
       "                                                   &#x27;MCQ160E&#x27;, &#x27;MCQ160F&#x27;,\n",
       "                                                   &#x27;MCQ160G&#x27;, &#x27;MCQ160M&#x27;,\n",
       "                                                   &#x27;MCQ160K&#x27;, &#x27;MCQ160L&#x27;,\n",
       "                                                   &#x27;MCQ160O&#x27;, ...])])),\n",
       "                (&#x27;mlp&#x27;, MLPClassifier())])</pre></div></div></div><div class=\"sk-serial\"><div class=\"sk-item\"><div class=\"sk-serial\"><div class=\"sk-item sk-dashed-wrapped\"><div class=\"sk-label-container\"><div class=\"sk-label sk-toggleable\"><input class=\"sk-toggleable__control sk-hidden--visually\" id=\"sk-estimator-id-75\" type=\"checkbox\" ><label for=\"sk-estimator-id-75\" class=\"sk-toggleable__label sk-toggleable__label-arrow\">Preprocessing: ColumnTransformer</label><div class=\"sk-toggleable__content\"><pre>ColumnTransformer(transformers=[(&#x27;num&#x27;,\n",
       "                                 Pipeline(steps=[(&#x27;imputer&#x27;, SimpleImputer()),\n",
       "                                                 (&#x27;scaler&#x27;,\n",
       "                                                  StandardScaler(with_mean=False))]),\n",
       "                                 [&#x27;LBXWBCSI_x&#x27;, &#x27;LBXLYPCT_x&#x27;, &#x27;LBXMOPCT_x&#x27;,\n",
       "                                  &#x27;LBXEOPCT_x&#x27;, &#x27;LBXBAPCT_x&#x27;, &#x27;LBDMONO_x&#x27;,\n",
       "                                  &#x27;LBDNENO_x&#x27;, &#x27;LBDEONO_x&#x27;, &#x27;LBXRBCSI_x&#x27;,\n",
       "                                  &#x27;LBXMCVSI_x&#x27;, &#x27;LBXMC_x&#x27;, &#x27;LBXRDW_x&#x27;,\n",
       "                                  &#x27;LBXPLTSI_x&#x27;, &#x27;LBXMPSI_x&#x27;, &#x27;LBXBPB&#x27;, &#x27;LBXBCD&#x27;,\n",
       "                                  &#x27;LBXTHG&#x27;, &#x27;LBXBSE&#x27;, &#x27;LBXBMN&#x27;, &#x27;LB...\n",
       "                                                  SimpleImputer(strategy=&#x27;most_frequent&#x27;))]),\n",
       "                                 [&#x27;LBDBANO_x&#x27;, &#x27;LBDBPBLC&#x27;, &#x27;LBDBCDLC&#x27;,\n",
       "                                  &#x27;LBDTHGLC&#x27;, &#x27;LBDBSELC&#x27;, &#x27;LBDBMNLC&#x27;,\n",
       "                                  &#x27;LBDIHGLC&#x27;, &#x27;LBDBGELC&#x27;, &#x27;LBDBGMLC&#x27;,\n",
       "                                  &#x27;LBDVIDLC&#x27;, &#x27;LBDVD2LC&#x27;, &#x27;LBDVD3LC&#x27;,\n",
       "                                  &#x27;LBDVE3LC&#x27;, &#x27;LBDBANO_y&#x27;, &#x27;MCQ010&#x27;, &#x27;MCQ053&#x27;,\n",
       "                                  &#x27;MCQ080&#x27;, &#x27;MCQ092&#x27;, &#x27;MCQ160A&#x27;, &#x27;MCQ160N&#x27;,\n",
       "                                  &#x27;MCQ160B&#x27;, &#x27;MCQ160C&#x27;, &#x27;MCQ160D&#x27;, &#x27;MCQ160E&#x27;,\n",
       "                                  &#x27;MCQ160F&#x27;, &#x27;MCQ160G&#x27;, &#x27;MCQ160M&#x27;, &#x27;MCQ160K&#x27;,\n",
       "                                  &#x27;MCQ160L&#x27;, &#x27;MCQ160O&#x27;, ...])])</pre></div></div></div><div class=\"sk-parallel\"><div class=\"sk-parallel-item\"><div class=\"sk-item\"><div class=\"sk-label-container\"><div class=\"sk-label sk-toggleable\"><input class=\"sk-toggleable__control sk-hidden--visually\" id=\"sk-estimator-id-76\" type=\"checkbox\" ><label for=\"sk-estimator-id-76\" class=\"sk-toggleable__label sk-toggleable__label-arrow\">num</label><div class=\"sk-toggleable__content\"><pre>[&#x27;LBXWBCSI_x&#x27;, &#x27;LBXLYPCT_x&#x27;, &#x27;LBXMOPCT_x&#x27;, &#x27;LBXEOPCT_x&#x27;, &#x27;LBXBAPCT_x&#x27;, &#x27;LBDMONO_x&#x27;, &#x27;LBDNENO_x&#x27;, &#x27;LBDEONO_x&#x27;, &#x27;LBXRBCSI_x&#x27;, &#x27;LBXMCVSI_x&#x27;, &#x27;LBXMC_x&#x27;, &#x27;LBXRDW_x&#x27;, &#x27;LBXPLTSI_x&#x27;, &#x27;LBXMPSI_x&#x27;, &#x27;LBXBPB&#x27;, &#x27;LBXBCD&#x27;, &#x27;LBXTHG&#x27;, &#x27;LBXBSE&#x27;, &#x27;LBXBMN&#x27;, &#x27;LBXIHG&#x27;, &#x27;LBXBGE&#x27;, &#x27;LBDHDD&#x27;, &#x27;LBXVIDMS&#x27;, &#x27;LBXVD2MS&#x27;, &#x27;LBXVE3MS&#x27;, &#x27;LBXWBCSI_y&#x27;, &#x27;LBXLYPCT_y&#x27;, &#x27;LBXMOPCT_y&#x27;, &#x27;LBXNEPCT&#x27;, &#x27;LBXEOPCT_y&#x27;, &#x27;LBXBAPCT_y&#x27;, &#x27;LBDLYMNO&#x27;, &#x27;LBDMONO_y&#x27;, &#x27;LBDNENO_y&#x27;, &#x27;LBDEONO_y&#x27;, &#x27;LBXRBCSI_y&#x27;, &#x27;LBXHCT&#x27;, &#x27;LBXMCVSI_y&#x27;, &#x27;LBXMCHSI&#x27;, &#x27;LBXMC_y&#x27;, &#x27;LBXRDW_y&#x27;, &#x27;LBXPLTSI_y&#x27;, &#x27;LBXMPSI_y&#x27;, &#x27;LBXSAL&#x27;, &#x27;LBDSALSI&#x27;, &#x27;LBXSAPSI&#x27;, &#x27;LBXSASSI&#x27;, &#x27;LBXSATSI&#x27;, &#x27;LBXSBU&#x27;, &#x27;LBDSBUSI&#x27;, &#x27;LBXSC3SI&#x27;, &#x27;LBXSCA&#x27;, &#x27;LBDSCASI&#x27;, &#x27;LBXSCH&#x27;, &#x27;LBDSCHSI&#x27;, &#x27;LBXSCK&#x27;, &#x27;LBXSCLSI&#x27;, &#x27;LBXSCR&#x27;, &#x27;LBDSCRSI&#x27;, &#x27;LBXSGB&#x27;, &#x27;LBDSGBSI&#x27;, &#x27;LBXSGL&#x27;, &#x27;LBDSGLSI&#x27;, &#x27;LBXSGTSI&#x27;, &#x27;LBXSIR&#x27;, &#x27;LBDSIRSI&#x27;, &#x27;LBXSKSI&#x27;, &#x27;LBXSLDSI&#x27;, &#x27;LBXSNASI&#x27;, &#x27;LBXSOSSI&#x27;, &#x27;LBXSPH&#x27;, &#x27;LBDSPHSI&#x27;, &#x27;LBXSTB&#x27;, &#x27;LBDSTBSI&#x27;, &#x27;LBXSTP&#x27;, &#x27;LBDSTPSI&#x27;, &#x27;LBXSTR&#x27;, &#x27;LBDSTRSI&#x27;, &#x27;LBXSUA&#x27;, &#x27;LBDSUASI&#x27;, &#x27;BMXWT&#x27;, &#x27;BMXHT&#x27;, &#x27;BMXBMI&#x27;, &#x27;BMXLEG&#x27;, &#x27;BMXARML&#x27;, &#x27;BMXARMC&#x27;, &#x27;BMXWAIST&#x27;, &#x27;BMXSAD1&#x27;, &#x27;BMXSAD2&#x27;]</pre></div></div></div><div class=\"sk-serial\"><div class=\"sk-item\"><div class=\"sk-serial\"><div class=\"sk-item\"><div class=\"sk-estimator sk-toggleable\"><input class=\"sk-toggleable__control sk-hidden--visually\" id=\"sk-estimator-id-77\" type=\"checkbox\" ><label for=\"sk-estimator-id-77\" class=\"sk-toggleable__label sk-toggleable__label-arrow\">SimpleImputer</label><div class=\"sk-toggleable__content\"><pre>SimpleImputer()</pre></div></div></div><div class=\"sk-item\"><div class=\"sk-estimator sk-toggleable\"><input class=\"sk-toggleable__control sk-hidden--visually\" id=\"sk-estimator-id-78\" type=\"checkbox\" ><label for=\"sk-estimator-id-78\" class=\"sk-toggleable__label sk-toggleable__label-arrow\">StandardScaler</label><div class=\"sk-toggleable__content\"><pre>StandardScaler(with_mean=False)</pre></div></div></div></div></div></div></div></div><div class=\"sk-parallel-item\"><div class=\"sk-item\"><div class=\"sk-label-container\"><div class=\"sk-label sk-toggleable\"><input class=\"sk-toggleable__control sk-hidden--visually\" id=\"sk-estimator-id-79\" type=\"checkbox\" ><label for=\"sk-estimator-id-79\" class=\"sk-toggleable__label sk-toggleable__label-arrow\">cat</label><div class=\"sk-toggleable__content\"><pre>[&#x27;LBDBANO_x&#x27;, &#x27;LBDBPBLC&#x27;, &#x27;LBDBCDLC&#x27;, &#x27;LBDTHGLC&#x27;, &#x27;LBDBSELC&#x27;, &#x27;LBDBMNLC&#x27;, &#x27;LBDIHGLC&#x27;, &#x27;LBDBGELC&#x27;, &#x27;LBDBGMLC&#x27;, &#x27;LBDVIDLC&#x27;, &#x27;LBDVD2LC&#x27;, &#x27;LBDVD3LC&#x27;, &#x27;LBDVE3LC&#x27;, &#x27;LBDBANO_y&#x27;, &#x27;MCQ010&#x27;, &#x27;MCQ053&#x27;, &#x27;MCQ080&#x27;, &#x27;MCQ092&#x27;, &#x27;MCQ160A&#x27;, &#x27;MCQ160N&#x27;, &#x27;MCQ160B&#x27;, &#x27;MCQ160C&#x27;, &#x27;MCQ160D&#x27;, &#x27;MCQ160E&#x27;, &#x27;MCQ160F&#x27;, &#x27;MCQ160G&#x27;, &#x27;MCQ160M&#x27;, &#x27;MCQ160K&#x27;, &#x27;MCQ160L&#x27;, &#x27;MCQ160O&#x27;, &#x27;MCQ203&#x27;, &#x27;MCQ220&#x27;, &#x27;MCQ300A&#x27;, &#x27;MCQ300B&#x27;, &#x27;MCQ300C&#x27;, &#x27;OSQ230&#x27;, &#x27;PAQ605&#x27;, &#x27;PAQ620&#x27;, &#x27;PAQ635&#x27;, &#x27;PAQ650&#x27;, &#x27;PAQ665&#x27;, &#x27;PAQ710&#x27;, &#x27;PAQ715&#x27;, &#x27;BMDSTATS&#x27;]</pre></div></div></div><div class=\"sk-serial\"><div class=\"sk-item\"><div class=\"sk-serial\"><div class=\"sk-item\"><div class=\"sk-estimator sk-toggleable\"><input class=\"sk-toggleable__control sk-hidden--visually\" id=\"sk-estimator-id-80\" type=\"checkbox\" ><label for=\"sk-estimator-id-80\" class=\"sk-toggleable__label sk-toggleable__label-arrow\">SimpleImputer</label><div class=\"sk-toggleable__content\"><pre>SimpleImputer(strategy=&#x27;most_frequent&#x27;)</pre></div></div></div></div></div></div></div></div></div></div><div class=\"sk-item\"><div class=\"sk-estimator sk-toggleable\"><input class=\"sk-toggleable__control sk-hidden--visually\" id=\"sk-estimator-id-81\" type=\"checkbox\" ><label for=\"sk-estimator-id-81\" class=\"sk-toggleable__label sk-toggleable__label-arrow\">MLPClassifier</label><div class=\"sk-toggleable__content\"><pre>MLPClassifier()</pre></div></div></div></div></div></div></div></div></div></div></div></div>"
      ],
      "text/plain": [
       "RandomizedSearchCV(cv=5,\n",
       "                   estimator=Pipeline(steps=[('Preprocessing',\n",
       "                                              ColumnTransformer(transformers=[('num',\n",
       "                                                                               Pipeline(steps=[('imputer',\n",
       "                                                                                                SimpleImputer()),\n",
       "                                                                                               ('scaler',\n",
       "                                                                                                StandardScaler(with_mean=False))]),\n",
       "                                                                               ['LBXWBCSI_x',\n",
       "                                                                                'LBXLYPCT_x',\n",
       "                                                                                'LBXMOPCT_x',\n",
       "                                                                                'LBXEOPCT_x',\n",
       "                                                                                'LBXBAPCT_x',\n",
       "                                                                                'LBDMONO_x',\n",
       "                                                                                'LBDNENO_x',\n",
       "                                                                                'LBDEONO_x',\n",
       "                                                                                'LBXRBCSI_x',\n",
       "                                                                                'LBXMCVSI_x',\n",
       "                                                                                'LBXMC_x',\n",
       "                                                                                'LBXRDW_x',\n",
       "                                                                                'LBXPL...\n",
       "                                        'mlp__alpha': [0.01, 0.001, 0.0001,\n",
       "                                                       1e-05],\n",
       "                                        'mlp__early_stopping': [True],\n",
       "                                        'mlp__hidden_layer_sizes': [(50,),\n",
       "                                                                    (100,),\n",
       "                                                                    (200,),\n",
       "                                                                    (400,)],\n",
       "                                        'mlp__learning_rate': ['constant',\n",
       "                                                               'invscaling',\n",
       "                                                               'adaptive'],\n",
       "                                        'mlp__learning_rate_init': [0.0001,\n",
       "                                                                    0.001, 0.01,\n",
       "                                                                    0.1],\n",
       "                                        'mlp__max_iter': [200, 2000, 20000,\n",
       "                                                          200000],\n",
       "                                        'mlp__solver': ['sgd', 'adam']},\n",
       "                   random_state=301, refit='accuracy', scoring='accuracy')"
      ]
     },
     "execution_count": 97,
     "metadata": {},
     "output_type": "execute_result"
    }
   ],
   "source": [
    "pipe8 = Pipeline(steps=[(\"Preprocessing\", preprocessor), (\"mlp\", MLPClassifier())])\n",
    "mlp_grid = {'mlp__hidden_layer_sizes': [(50,), (100,), (200,), (400,)],\n",
    "               'mlp__activation': ['identity','logistic','tanh', 'relu'],\n",
    "               'mlp__solver': ['sgd', 'adam'],\n",
    "               'mlp__alpha': [0.01, 0.001, 0.0001, 0.00001],\n",
    "               'mlp__learning_rate': ['constant', 'invscaling', 'adaptive'],\n",
    "               'mlp__learning_rate_init': [0.0001, 0.001, 0.01, 0.1],\n",
    "               'mlp__early_stopping': [True],\n",
    "               'mlp__max_iter': [200, 2000, 20000, 200000]}\n",
    "mlpSearch = RandomizedSearchCV(pipe8, param_distributions = mlp_grid, n_iter=10, cv=5, scoring='accuracy', refit='accuracy', random_state=301)\n",
    "\n",
    "mlpSearch.fit(xtrain, ytrain)"
   ]
  },
  {
   "cell_type": "code",
   "execution_count": 98,
   "metadata": {},
   "outputs": [
    {
     "data": {
      "text/plain": [
       "0.805"
      ]
     },
     "execution_count": 98,
     "metadata": {},
     "output_type": "execute_result"
    }
   ],
   "source": [
    "mlpSearch.best_score_"
   ]
  },
  {
   "cell_type": "code",
   "execution_count": 99,
   "metadata": {},
   "outputs": [],
   "source": [
    "predictions8 = mlpSearch.best_estimator_.predict(xtest)"
   ]
  },
  {
   "cell_type": "code",
   "execution_count": 100,
   "metadata": {},
   "outputs": [
    {
     "data": {
      "text/plain": [
       "0.796"
      ]
     },
     "execution_count": 100,
     "metadata": {},
     "output_type": "execute_result"
    }
   ],
   "source": [
    "accuracy_score(ytest, predictions8)"
   ]
  },
  {
   "cell_type": "code",
   "execution_count": 101,
   "metadata": {},
   "outputs": [
    {
     "name": "stdout",
     "output_type": "stream",
     "text": [
      "              precision    recall  f1-score   support\n",
      "\n",
      "       False       0.80      1.00      0.89       398\n",
      "        True       0.00      0.00      0.00       102\n",
      "\n",
      "    accuracy                           0.80       500\n",
      "   macro avg       0.40      0.50      0.44       500\n",
      "weighted avg       0.63      0.80      0.71       500\n",
      "\n"
     ]
    },
    {
     "name": "stderr",
     "output_type": "stream",
     "text": [
      "c:\\Users\\dl668\\anaconda3\\lib\\site-packages\\sklearn\\metrics\\_classification.py:1469: UndefinedMetricWarning: Precision and F-score are ill-defined and being set to 0.0 in labels with no predicted samples. Use `zero_division` parameter to control this behavior.\n",
      "  _warn_prf(average, modifier, msg_start, len(result))\n",
      "c:\\Users\\dl668\\anaconda3\\lib\\site-packages\\sklearn\\metrics\\_classification.py:1469: UndefinedMetricWarning: Precision and F-score are ill-defined and being set to 0.0 in labels with no predicted samples. Use `zero_division` parameter to control this behavior.\n",
      "  _warn_prf(average, modifier, msg_start, len(result))\n",
      "c:\\Users\\dl668\\anaconda3\\lib\\site-packages\\sklearn\\metrics\\_classification.py:1469: UndefinedMetricWarning: Precision and F-score are ill-defined and being set to 0.0 in labels with no predicted samples. Use `zero_division` parameter to control this behavior.\n",
      "  _warn_prf(average, modifier, msg_start, len(result))\n"
     ]
    }
   ],
   "source": [
    "print(classification_report(ytest, predictions8))"
   ]
  },
  {
   "cell_type": "code",
   "execution_count": 95,
   "metadata": {},
   "outputs": [],
   "source": [
    "predictionsNum8 = mlpSearch.best_estimator_.predict_proba(xtest)[:, 1]"
   ]
  },
  {
   "cell_type": "code",
   "execution_count": 96,
   "metadata": {},
   "outputs": [
    {
     "data": {
      "image/png": "[encoded data removed]",
      "text/plain": [
       "<Figure size 432x288 with 1 Axes>"
      ]
     },
     "metadata": {
      "needs_background": "light"
     },
     "output_type": "display_data"
    }
   ],
   "source": [
    "fpr, tpr, thresholds = roc_curve(ytestNum, predictionsNum8)\n",
    "fig = plt.figure()\n",
    "ax = fig.add_subplot()\n",
    "plt.plot(fpr, tpr)\n",
    "plt.plot([0, 1], [0, 1], '--')\n",
    "plt.xlabel('False Positive Rate')\n",
    "plt.ylabel('True Positive Rate')\n",
    "plt.title('ROC Curve')\n",
    "ax.set_aspect('equal', adjustable='box')"
   ]
  },
  {
   "cell_type": "code",
   "execution_count": 104,
   "metadata": {},
   "outputs": [
    {
     "name": "stdout",
     "output_type": "stream",
     "text": [
      "ROC_AUC score:  0.5249778303281111\n"
     ]
    }
   ],
   "source": [
    "print(\"ROC_AUC score: \",roc_auc_score(ytestNum, predictionsNum8))\n",
    "roc8 = roc_auc_score(ytestNum, predictionsNum8)"
   ]
  },
  {
   "cell_type": "code",
   "execution_count": 105,
   "metadata": {},
   "outputs": [
    {
     "name": "stdout",
     "output_type": "stream",
     "text": [
      "AUC-PR score:  0.20747496181132896\n"
     ]
    }
   ],
   "source": [
    "print(\"AUC-PR score: \",average_precision_score(ytestNum, predictionsNum8))\n",
    "aucpr8 = average_precision_score(ytestNum, predictionsNum8)"
   ]
  },
  {
   "cell_type": "code",
   "execution_count": 106,
   "metadata": {},
   "outputs": [
    {
     "data": {
      "text/html": [
       "<style>#sk-container-id-10 {color: black;}#sk-container-id-10 pre{padding: 0;}#sk-container-id-10 div.sk-toggleable {background-color: white;}#sk-container-id-10 label.sk-toggleable__label {cursor: pointer;display: block;width: 100%;margin-bottom: 0;padding: 0.3em;box-sizing: border-box;text-align: center;}#sk-container-id-10 label.sk-toggleable__label-arrow:before {content: \"▸\";float: left;margin-right: 0.25em;color: #696969;}#sk-container-id-10 label.sk-toggleable__label-arrow:hover:before {color: black;}#sk-container-id-10 div.sk-estimator:hover label.sk-toggleable__label-arrow:before {color: black;}#sk-container-id-10 div.sk-toggleable__content {max-height: 0;max-width: 0;overflow: hidden;text-align: left;background-color: #f0f8ff;}#sk-container-id-10 div.sk-toggleable__content pre {margin: 0.2em;color: black;border-radius: 0.25em;background-color: #f0f8ff;}#sk-container-id-10 input.sk-toggleable__control:checked~div.sk-toggleable__content {max-height: 200px;max-width: 100%;overflow: auto;}#sk-container-id-10 input.sk-toggleable__control:checked~label.sk-toggleable__label-arrow:before {content: \"▾\";}#sk-container-id-10 div.sk-estimator input.sk-toggleable__control:checked~label.sk-toggleable__label {background-color: #d4ebff;}#sk-container-id-10 div.sk-label input.sk-toggleable__control:checked~label.sk-toggleable__label {background-color: #d4ebff;}#sk-container-id-10 input.sk-hidden--visually {border: 0;clip: rect(1px 1px 1px 1px);clip: rect(1px, 1px, 1px, 1px);height: 1px;margin: -1px;overflow: hidden;padding: 0;position: absolute;width: 1px;}#sk-container-id-10 div.sk-estimator {font-family: monospace;background-color: #f0f8ff;border: 1px dotted black;border-radius: 0.25em;box-sizing: border-box;margin-bottom: 0.5em;}#sk-container-id-10 div.sk-estimator:hover {background-color: #d4ebff;}#sk-container-id-10 div.sk-parallel-item::after {content: \"\";width: 100%;border-bottom: 1px solid gray;flex-grow: 1;}#sk-container-id-10 div.sk-label:hover label.sk-toggleable__label {background-color: #d4ebff;}#sk-container-id-10 div.sk-serial::before {content: \"\";position: absolute;border-left: 1px solid gray;box-sizing: border-box;top: 0;bottom: 0;left: 50%;z-index: 0;}#sk-container-id-10 div.sk-serial {display: flex;flex-direction: column;align-items: center;background-color: white;padding-right: 0.2em;padding-left: 0.2em;position: relative;}#sk-container-id-10 div.sk-item {position: relative;z-index: 1;}#sk-container-id-10 div.sk-parallel {display: flex;align-items: stretch;justify-content: center;background-color: white;position: relative;}#sk-container-id-10 div.sk-item::before, #sk-container-id-10 div.sk-parallel-item::before {content: \"\";position: absolute;border-left: 1px solid gray;box-sizing: border-box;top: 0;bottom: 0;left: 50%;z-index: -1;}#sk-container-id-10 div.sk-parallel-item {display: flex;flex-direction: column;z-index: 1;position: relative;background-color: white;}#sk-container-id-10 div.sk-parallel-item:first-child::after {align-self: flex-end;width: 50%;}#sk-container-id-10 div.sk-parallel-item:last-child::after {align-self: flex-start;width: 50%;}#sk-container-id-10 div.sk-parallel-item:only-child::after {width: 0;}#sk-container-id-10 div.sk-dashed-wrapped {border: 1px dashed gray;margin: 0 0.4em 0.5em 0.4em;box-sizing: border-box;padding-bottom: 0.4em;background-color: white;}#sk-container-id-10 div.sk-label label {font-family: monospace;font-weight: bold;display: inline-block;line-height: 1.2em;}#sk-container-id-10 div.sk-label-container {text-align: center;}#sk-container-id-10 div.sk-container {/* jupyter's `normalize.less` sets `[hidden] { display: none; }` but bootstrap.min.css set `[hidden] { display: none !important; }` so we also need the `!important` here to be able to override the default hidden behavior on the sphinx rendered scikit-learn.org. See: https://github.com/scikit-learn/scikit-learn/issues/21755 */display: inline-block !important;position: relative;}#sk-container-id-10 div.sk-text-repr-fallback {display: none;}</style><div id=\"sk-container-id-10\" class=\"sk-top-container\"><div class=\"sk-text-repr-fallback\"><pre>RandomizedSearchCV(cv=10,\n",
       "                   estimator=Pipeline(steps=[(&#x27;Preprocessing&#x27;,\n",
       "                                              ColumnTransformer(transformers=[(&#x27;num&#x27;,\n",
       "                                                                               Pipeline(steps=[(&#x27;imputer&#x27;,\n",
       "                                                                                                SimpleImputer()),\n",
       "                                                                                               (&#x27;scaler&#x27;,\n",
       "                                                                                                StandardScaler(with_mean=False))]),\n",
       "                                                                               [&#x27;LBXWBCSI_x&#x27;,\n",
       "                                                                                &#x27;LBXLYPCT_x&#x27;,\n",
       "                                                                                &#x27;LBXMOPCT_x&#x27;,\n",
       "                                                                                &#x27;LBXEOPCT_x&#x27;,\n",
       "                                                                                &#x27;LBXBAPCT_x&#x27;,\n",
       "                                                                                &#x27;LBDMONO_x&#x27;,\n",
       "                                                                                &#x27;LBDNENO_x&#x27;,\n",
       "                                                                                &#x27;LBDEONO_x&#x27;,\n",
       "                                                                                &#x27;LBXRBCSI_x&#x27;,\n",
       "                                                                                &#x27;LBXMCVSI_x&#x27;,\n",
       "                                                                                &#x27;LBXMC_x&#x27;,\n",
       "                                                                                &#x27;LBXRDW_x&#x27;,\n",
       "                                                                                &#x27;LBXP...\n",
       "                                              GradientBoostingClassifier())]),\n",
       "                   param_distributions={&#x27;gbc__criterion&#x27;: [&#x27;friedman_mse&#x27;,\n",
       "                                                           &#x27;squared_error&#x27;],\n",
       "                                        &#x27;gbc__learning_rate&#x27;: [0.2, 0.1, 0.01,\n",
       "                                                               0.001, 0.0001],\n",
       "                                        &#x27;gbc__loss&#x27;: [&#x27;log_loss&#x27;,\n",
       "                                                      &#x27;exponential&#x27;],\n",
       "                                        &#x27;gbc__max_depth&#x27;: [2, 3, 4, 5],\n",
       "                                        &#x27;gbc__min_samples_leaf&#x27;: [1, 2],\n",
       "                                        &#x27;gbc__min_samples_split&#x27;: [2, 5, 10,\n",
       "                                                                   20],\n",
       "                                        &#x27;gbc__n_estimators&#x27;: [20, 50, 100, 200,\n",
       "                                                              400]},\n",
       "                   random_state=301, refit=&#x27;accuracy&#x27;, scoring=&#x27;accuracy&#x27;)</pre><b>In a Jupyter environment, please rerun this cell to show the HTML representation or trust the notebook. <br />On GitHub, the HTML representation is unable to render, please try loading this page with nbviewer.org.</b></div><div class=\"sk-container\" hidden><div class=\"sk-item sk-dashed-wrapped\"><div class=\"sk-label-container\"><div class=\"sk-label sk-toggleable\"><input class=\"sk-toggleable__control sk-hidden--visually\" id=\"sk-estimator-id-82\" type=\"checkbox\" ><label for=\"sk-estimator-id-82\" class=\"sk-toggleable__label sk-toggleable__label-arrow\">RandomizedSearchCV</label><div class=\"sk-toggleable__content\"><pre>RandomizedSearchCV(cv=10,\n",
       "                   estimator=Pipeline(steps=[(&#x27;Preprocessing&#x27;,\n",
       "                                              ColumnTransformer(transformers=[(&#x27;num&#x27;,\n",
       "                                                                               Pipeline(steps=[(&#x27;imputer&#x27;,\n",
       "                                                                                                SimpleImputer()),\n",
       "                                                                                               (&#x27;scaler&#x27;,\n",
       "                                                                                                StandardScaler(with_mean=False))]),\n",
       "                                                                               [&#x27;LBXWBCSI_x&#x27;,\n",
       "                                                                                &#x27;LBXLYPCT_x&#x27;,\n",
       "                                                                                &#x27;LBXMOPCT_x&#x27;,\n",
       "                                                                                &#x27;LBXEOPCT_x&#x27;,\n",
       "                                                                                &#x27;LBXBAPCT_x&#x27;,\n",
       "                                                                                &#x27;LBDMONO_x&#x27;,\n",
       "                                                                                &#x27;LBDNENO_x&#x27;,\n",
       "                                                                                &#x27;LBDEONO_x&#x27;,\n",
       "                                                                                &#x27;LBXRBCSI_x&#x27;,\n",
       "                                                                                &#x27;LBXMCVSI_x&#x27;,\n",
       "                                                                                &#x27;LBXMC_x&#x27;,\n",
       "                                                                                &#x27;LBXRDW_x&#x27;,\n",
       "                                                                                &#x27;LBXP...\n",
       "                                              GradientBoostingClassifier())]),\n",
       "                   param_distributions={&#x27;gbc__criterion&#x27;: [&#x27;friedman_mse&#x27;,\n",
       "                                                           &#x27;squared_error&#x27;],\n",
       "                                        &#x27;gbc__learning_rate&#x27;: [0.2, 0.1, 0.01,\n",
       "                                                               0.001, 0.0001],\n",
       "                                        &#x27;gbc__loss&#x27;: [&#x27;log_loss&#x27;,\n",
       "                                                      &#x27;exponential&#x27;],\n",
       "                                        &#x27;gbc__max_depth&#x27;: [2, 3, 4, 5],\n",
       "                                        &#x27;gbc__min_samples_leaf&#x27;: [1, 2],\n",
       "                                        &#x27;gbc__min_samples_split&#x27;: [2, 5, 10,\n",
       "                                                                   20],\n",
       "                                        &#x27;gbc__n_estimators&#x27;: [20, 50, 100, 200,\n",
       "                                                              400]},\n",
       "                   random_state=301, refit=&#x27;accuracy&#x27;, scoring=&#x27;accuracy&#x27;)</pre></div></div></div><div class=\"sk-parallel\"><div class=\"sk-parallel-item\"><div class=\"sk-item\"><div class=\"sk-label-container\"><div class=\"sk-label sk-toggleable\"><input class=\"sk-toggleable__control sk-hidden--visually\" id=\"sk-estimator-id-83\" type=\"checkbox\" ><label for=\"sk-estimator-id-83\" class=\"sk-toggleable__label sk-toggleable__label-arrow\">estimator: Pipeline</label><div class=\"sk-toggleable__content\"><pre>Pipeline(steps=[(&#x27;Preprocessing&#x27;,\n",
       "                 ColumnTransformer(transformers=[(&#x27;num&#x27;,\n",
       "                                                  Pipeline(steps=[(&#x27;imputer&#x27;,\n",
       "                                                                   SimpleImputer()),\n",
       "                                                                  (&#x27;scaler&#x27;,\n",
       "                                                                   StandardScaler(with_mean=False))]),\n",
       "                                                  [&#x27;LBXWBCSI_x&#x27;, &#x27;LBXLYPCT_x&#x27;,\n",
       "                                                   &#x27;LBXMOPCT_x&#x27;, &#x27;LBXEOPCT_x&#x27;,\n",
       "                                                   &#x27;LBXBAPCT_x&#x27;, &#x27;LBDMONO_x&#x27;,\n",
       "                                                   &#x27;LBDNENO_x&#x27;, &#x27;LBDEONO_x&#x27;,\n",
       "                                                   &#x27;LBXRBCSI_x&#x27;, &#x27;LBXMCVSI_x&#x27;,\n",
       "                                                   &#x27;LBXMC_x&#x27;, &#x27;LBXRDW_x&#x27;,\n",
       "                                                   &#x27;LBXPLTSI_x&#x27;, &#x27;LBXMPSI_x&#x27;,\n",
       "                                                   &#x27;LBXBPB&#x27;, &#x27;LBXBC...\n",
       "                                                  [&#x27;LBDBANO_x&#x27;, &#x27;LBDBPBLC&#x27;,\n",
       "                                                   &#x27;LBDBCDLC&#x27;, &#x27;LBDTHGLC&#x27;,\n",
       "                                                   &#x27;LBDBSELC&#x27;, &#x27;LBDBMNLC&#x27;,\n",
       "                                                   &#x27;LBDIHGLC&#x27;, &#x27;LBDBGELC&#x27;,\n",
       "                                                   &#x27;LBDBGMLC&#x27;, &#x27;LBDVIDLC&#x27;,\n",
       "                                                   &#x27;LBDVD2LC&#x27;, &#x27;LBDVD3LC&#x27;,\n",
       "                                                   &#x27;LBDVE3LC&#x27;, &#x27;LBDBANO_y&#x27;,\n",
       "                                                   &#x27;MCQ010&#x27;, &#x27;MCQ053&#x27;, &#x27;MCQ080&#x27;,\n",
       "                                                   &#x27;MCQ092&#x27;, &#x27;MCQ160A&#x27;,\n",
       "                                                   &#x27;MCQ160N&#x27;, &#x27;MCQ160B&#x27;,\n",
       "                                                   &#x27;MCQ160C&#x27;, &#x27;MCQ160D&#x27;,\n",
       "                                                   &#x27;MCQ160E&#x27;, &#x27;MCQ160F&#x27;,\n",
       "                                                   &#x27;MCQ160G&#x27;, &#x27;MCQ160M&#x27;,\n",
       "                                                   &#x27;MCQ160K&#x27;, &#x27;MCQ160L&#x27;,\n",
       "                                                   &#x27;MCQ160O&#x27;, ...])])),\n",
       "                (&#x27;gbc&#x27;, GradientBoostingClassifier())])</pre></div></div></div><div class=\"sk-serial\"><div class=\"sk-item\"><div class=\"sk-serial\"><div class=\"sk-item sk-dashed-wrapped\"><div class=\"sk-label-container\"><div class=\"sk-label sk-toggleable\"><input class=\"sk-toggleable__control sk-hidden--visually\" id=\"sk-estimator-id-84\" type=\"checkbox\" ><label for=\"sk-estimator-id-84\" class=\"sk-toggleable__label sk-toggleable__label-arrow\">Preprocessing: ColumnTransformer</label><div class=\"sk-toggleable__content\"><pre>ColumnTransformer(transformers=[(&#x27;num&#x27;,\n",
       "                                 Pipeline(steps=[(&#x27;imputer&#x27;, SimpleImputer()),\n",
       "                                                 (&#x27;scaler&#x27;,\n",
       "                                                  StandardScaler(with_mean=False))]),\n",
       "                                 [&#x27;LBXWBCSI_x&#x27;, &#x27;LBXLYPCT_x&#x27;, &#x27;LBXMOPCT_x&#x27;,\n",
       "                                  &#x27;LBXEOPCT_x&#x27;, &#x27;LBXBAPCT_x&#x27;, &#x27;LBDMONO_x&#x27;,\n",
       "                                  &#x27;LBDNENO_x&#x27;, &#x27;LBDEONO_x&#x27;, &#x27;LBXRBCSI_x&#x27;,\n",
       "                                  &#x27;LBXMCVSI_x&#x27;, &#x27;LBXMC_x&#x27;, &#x27;LBXRDW_x&#x27;,\n",
       "                                  &#x27;LBXPLTSI_x&#x27;, &#x27;LBXMPSI_x&#x27;, &#x27;LBXBPB&#x27;, &#x27;LBXBCD&#x27;,\n",
       "                                  &#x27;LBXTHG&#x27;, &#x27;LBXBSE&#x27;, &#x27;LBXBMN&#x27;, &#x27;LB...\n",
       "                                                  SimpleImputer(strategy=&#x27;most_frequent&#x27;))]),\n",
       "                                 [&#x27;LBDBANO_x&#x27;, &#x27;LBDBPBLC&#x27;, &#x27;LBDBCDLC&#x27;,\n",
       "                                  &#x27;LBDTHGLC&#x27;, &#x27;LBDBSELC&#x27;, &#x27;LBDBMNLC&#x27;,\n",
       "                                  &#x27;LBDIHGLC&#x27;, &#x27;LBDBGELC&#x27;, &#x27;LBDBGMLC&#x27;,\n",
       "                                  &#x27;LBDVIDLC&#x27;, &#x27;LBDVD2LC&#x27;, &#x27;LBDVD3LC&#x27;,\n",
       "                                  &#x27;LBDVE3LC&#x27;, &#x27;LBDBANO_y&#x27;, &#x27;MCQ010&#x27;, &#x27;MCQ053&#x27;,\n",
       "                                  &#x27;MCQ080&#x27;, &#x27;MCQ092&#x27;, &#x27;MCQ160A&#x27;, &#x27;MCQ160N&#x27;,\n",
       "                                  &#x27;MCQ160B&#x27;, &#x27;MCQ160C&#x27;, &#x27;MCQ160D&#x27;, &#x27;MCQ160E&#x27;,\n",
       "                                  &#x27;MCQ160F&#x27;, &#x27;MCQ160G&#x27;, &#x27;MCQ160M&#x27;, &#x27;MCQ160K&#x27;,\n",
       "                                  &#x27;MCQ160L&#x27;, &#x27;MCQ160O&#x27;, ...])])</pre></div></div></div><div class=\"sk-parallel\"><div class=\"sk-parallel-item\"><div class=\"sk-item\"><div class=\"sk-label-container\"><div class=\"sk-label sk-toggleable\"><input class=\"sk-toggleable__control sk-hidden--visually\" id=\"sk-estimator-id-85\" type=\"checkbox\" ><label for=\"sk-estimator-id-85\" class=\"sk-toggleable__label sk-toggleable__label-arrow\">num</label><div class=\"sk-toggleable__content\"><pre>[&#x27;LBXWBCSI_x&#x27;, &#x27;LBXLYPCT_x&#x27;, &#x27;LBXMOPCT_x&#x27;, &#x27;LBXEOPCT_x&#x27;, &#x27;LBXBAPCT_x&#x27;, &#x27;LBDMONO_x&#x27;, &#x27;LBDNENO_x&#x27;, &#x27;LBDEONO_x&#x27;, &#x27;LBXRBCSI_x&#x27;, &#x27;LBXMCVSI_x&#x27;, &#x27;LBXMC_x&#x27;, &#x27;LBXRDW_x&#x27;, &#x27;LBXPLTSI_x&#x27;, &#x27;LBXMPSI_x&#x27;, &#x27;LBXBPB&#x27;, &#x27;LBXBCD&#x27;, &#x27;LBXTHG&#x27;, &#x27;LBXBSE&#x27;, &#x27;LBXBMN&#x27;, &#x27;LBXIHG&#x27;, &#x27;LBXBGE&#x27;, &#x27;LBDHDD&#x27;, &#x27;LBXVIDMS&#x27;, &#x27;LBXVD2MS&#x27;, &#x27;LBXVE3MS&#x27;, &#x27;LBXWBCSI_y&#x27;, &#x27;LBXLYPCT_y&#x27;, &#x27;LBXMOPCT_y&#x27;, &#x27;LBXNEPCT&#x27;, &#x27;LBXEOPCT_y&#x27;, &#x27;LBXBAPCT_y&#x27;, &#x27;LBDLYMNO&#x27;, &#x27;LBDMONO_y&#x27;, &#x27;LBDNENO_y&#x27;, &#x27;LBDEONO_y&#x27;, &#x27;LBXRBCSI_y&#x27;, &#x27;LBXHCT&#x27;, &#x27;LBXMCVSI_y&#x27;, &#x27;LBXMCHSI&#x27;, &#x27;LBXMC_y&#x27;, &#x27;LBXRDW_y&#x27;, &#x27;LBXPLTSI_y&#x27;, &#x27;LBXMPSI_y&#x27;, &#x27;LBXSAL&#x27;, &#x27;LBDSALSI&#x27;, &#x27;LBXSAPSI&#x27;, &#x27;LBXSASSI&#x27;, &#x27;LBXSATSI&#x27;, &#x27;LBXSBU&#x27;, &#x27;LBDSBUSI&#x27;, &#x27;LBXSC3SI&#x27;, &#x27;LBXSCA&#x27;, &#x27;LBDSCASI&#x27;, &#x27;LBXSCH&#x27;, &#x27;LBDSCHSI&#x27;, &#x27;LBXSCK&#x27;, &#x27;LBXSCLSI&#x27;, &#x27;LBXSCR&#x27;, &#x27;LBDSCRSI&#x27;, &#x27;LBXSGB&#x27;, &#x27;LBDSGBSI&#x27;, &#x27;LBXSGL&#x27;, &#x27;LBDSGLSI&#x27;, &#x27;LBXSGTSI&#x27;, &#x27;LBXSIR&#x27;, &#x27;LBDSIRSI&#x27;, &#x27;LBXSKSI&#x27;, &#x27;LBXSLDSI&#x27;, &#x27;LBXSNASI&#x27;, &#x27;LBXSOSSI&#x27;, &#x27;LBXSPH&#x27;, &#x27;LBDSPHSI&#x27;, &#x27;LBXSTB&#x27;, &#x27;LBDSTBSI&#x27;, &#x27;LBXSTP&#x27;, &#x27;LBDSTPSI&#x27;, &#x27;LBXSTR&#x27;, &#x27;LBDSTRSI&#x27;, &#x27;LBXSUA&#x27;, &#x27;LBDSUASI&#x27;, &#x27;BMXWT&#x27;, &#x27;BMXHT&#x27;, &#x27;BMXBMI&#x27;, &#x27;BMXLEG&#x27;, &#x27;BMXARML&#x27;, &#x27;BMXARMC&#x27;, &#x27;BMXWAIST&#x27;, &#x27;BMXSAD1&#x27;, &#x27;BMXSAD2&#x27;]</pre></div></div></div><div class=\"sk-serial\"><div class=\"sk-item\"><div class=\"sk-serial\"><div class=\"sk-item\"><div class=\"sk-estimator sk-toggleable\"><input class=\"sk-toggleable__control sk-hidden--visually\" id=\"sk-estimator-id-86\" type=\"checkbox\" ><label for=\"sk-estimator-id-86\" class=\"sk-toggleable__label sk-toggleable__label-arrow\">SimpleImputer</label><div class=\"sk-toggleable__content\"><pre>SimpleImputer()</pre></div></div></div><div class=\"sk-item\"><div class=\"sk-estimator sk-toggleable\"><input class=\"sk-toggleable__control sk-hidden--visually\" id=\"sk-estimator-id-87\" type=\"checkbox\" ><label for=\"sk-estimator-id-87\" class=\"sk-toggleable__label sk-toggleable__label-arrow\">StandardScaler</label><div class=\"sk-toggleable__content\"><pre>StandardScaler(with_mean=False)</pre></div></div></div></div></div></div></div></div><div class=\"sk-parallel-item\"><div class=\"sk-item\"><div class=\"sk-label-container\"><div class=\"sk-label sk-toggleable\"><input class=\"sk-toggleable__control sk-hidden--visually\" id=\"sk-estimator-id-88\" type=\"checkbox\" ><label for=\"sk-estimator-id-88\" class=\"sk-toggleable__label sk-toggleable__label-arrow\">cat</label><div class=\"sk-toggleable__content\"><pre>[&#x27;LBDBANO_x&#x27;, &#x27;LBDBPBLC&#x27;, &#x27;LBDBCDLC&#x27;, &#x27;LBDTHGLC&#x27;, &#x27;LBDBSELC&#x27;, &#x27;LBDBMNLC&#x27;, &#x27;LBDIHGLC&#x27;, &#x27;LBDBGELC&#x27;, &#x27;LBDBGMLC&#x27;, &#x27;LBDVIDLC&#x27;, &#x27;LBDVD2LC&#x27;, &#x27;LBDVD3LC&#x27;, &#x27;LBDVE3LC&#x27;, &#x27;LBDBANO_y&#x27;, &#x27;MCQ010&#x27;, &#x27;MCQ053&#x27;, &#x27;MCQ080&#x27;, &#x27;MCQ092&#x27;, &#x27;MCQ160A&#x27;, &#x27;MCQ160N&#x27;, &#x27;MCQ160B&#x27;, &#x27;MCQ160C&#x27;, &#x27;MCQ160D&#x27;, &#x27;MCQ160E&#x27;, &#x27;MCQ160F&#x27;, &#x27;MCQ160G&#x27;, &#x27;MCQ160M&#x27;, &#x27;MCQ160K&#x27;, &#x27;MCQ160L&#x27;, &#x27;MCQ160O&#x27;, &#x27;MCQ203&#x27;, &#x27;MCQ220&#x27;, &#x27;MCQ300A&#x27;, &#x27;MCQ300B&#x27;, &#x27;MCQ300C&#x27;, &#x27;OSQ230&#x27;, &#x27;PAQ605&#x27;, &#x27;PAQ620&#x27;, &#x27;PAQ635&#x27;, &#x27;PAQ650&#x27;, &#x27;PAQ665&#x27;, &#x27;PAQ710&#x27;, &#x27;PAQ715&#x27;, &#x27;BMDSTATS&#x27;]</pre></div></div></div><div class=\"sk-serial\"><div class=\"sk-item\"><div class=\"sk-serial\"><div class=\"sk-item\"><div class=\"sk-estimator sk-toggleable\"><input class=\"sk-toggleable__control sk-hidden--visually\" id=\"sk-estimator-id-89\" type=\"checkbox\" ><label for=\"sk-estimator-id-89\" class=\"sk-toggleable__label sk-toggleable__label-arrow\">SimpleImputer</label><div class=\"sk-toggleable__content\"><pre>SimpleImputer(strategy=&#x27;most_frequent&#x27;)</pre></div></div></div></div></div></div></div></div></div></div><div class=\"sk-item\"><div class=\"sk-estimator sk-toggleable\"><input class=\"sk-toggleable__control sk-hidden--visually\" id=\"sk-estimator-id-90\" type=\"checkbox\" ><label for=\"sk-estimator-id-90\" class=\"sk-toggleable__label sk-toggleable__label-arrow\">GradientBoostingClassifier</label><div class=\"sk-toggleable__content\"><pre>GradientBoostingClassifier()</pre></div></div></div></div></div></div></div></div></div></div></div></div>"
      ],
      "text/plain": [
       "RandomizedSearchCV(cv=10,\n",
       "                   estimator=Pipeline(steps=[('Preprocessing',\n",
       "                                              ColumnTransformer(transformers=[('num',\n",
       "                                                                               Pipeline(steps=[('imputer',\n",
       "                                                                                                SimpleImputer()),\n",
       "                                                                                               ('scaler',\n",
       "                                                                                                StandardScaler(with_mean=False))]),\n",
       "                                                                               ['LBXWBCSI_x',\n",
       "                                                                                'LBXLYPCT_x',\n",
       "                                                                                'LBXMOPCT_x',\n",
       "                                                                                'LBXEOPCT_x',\n",
       "                                                                                'LBXBAPCT_x',\n",
       "                                                                                'LBDMONO_x',\n",
       "                                                                                'LBDNENO_x',\n",
       "                                                                                'LBDEONO_x',\n",
       "                                                                                'LBXRBCSI_x',\n",
       "                                                                                'LBXMCVSI_x',\n",
       "                                                                                'LBXMC_x',\n",
       "                                                                                'LBXRDW_x',\n",
       "                                                                                'LBXP...\n",
       "                                              GradientBoostingClassifier())]),\n",
       "                   param_distributions={'gbc__criterion': ['friedman_mse',\n",
       "                                                           'squared_error'],\n",
       "                                        'gbc__learning_rate': [0.2, 0.1, 0.01,\n",
       "                                                               0.001, 0.0001],\n",
       "                                        'gbc__loss': ['log_loss',\n",
       "                                                      'exponential'],\n",
       "                                        'gbc__max_depth': [2, 3, 4, 5],\n",
       "                                        'gbc__min_samples_leaf': [1, 2],\n",
       "                                        'gbc__min_samples_split': [2, 5, 10,\n",
       "                                                                   20],\n",
       "                                        'gbc__n_estimators': [20, 50, 100, 200,\n",
       "                                                              400]},\n",
       "                   random_state=301, refit='accuracy', scoring='accuracy')"
      ]
     },
     "execution_count": 106,
     "metadata": {},
     "output_type": "execute_result"
    }
   ],
   "source": [
    "pipe9 = Pipeline(steps=[(\"Preprocessing\", preprocessor), (\"gbc\", GradientBoostingClassifier())])\n",
    "grad_grid = {'gbc__loss': ['log_loss', 'exponential'],\n",
    "               'gbc__learning_rate': [0.2, 0.1, 0.01, 0.001, 0.0001],\n",
    "               'gbc__n_estimators': [20, 50, 100, 200, 400],\n",
    "               'gbc__criterion': ['friedman_mse', 'squared_error'],\n",
    "               'gbc__max_depth': [2,3,4,5],\n",
    "               'gbc__min_samples_split': [2, 5, 10,20],\n",
    "               'gbc__min_samples_leaf': [1, 2]}\n",
    "gradSearch = RandomizedSearchCV(pipe9, param_distributions = grad_grid,n_iter=10, cv=10, scoring='accuracy', refit='accuracy',random_state=301)\n",
    "\n",
    "gradSearch.fit(xtrain, ytrain)"
   ]
  },
  {
   "cell_type": "code",
   "execution_count": 107,
   "metadata": {},
   "outputs": [
    {
     "data": {
      "text/plain": [
       "0.8985"
      ]
     },
     "execution_count": 107,
     "metadata": {},
     "output_type": "execute_result"
    }
   ],
   "source": [
    "gradSearch.best_score_"
   ]
  },
  {
   "cell_type": "code",
   "execution_count": 108,
   "metadata": {},
   "outputs": [],
   "source": [
    "predictions9 = gradSearch.best_estimator_.predict(xtest)"
   ]
  },
  {
   "cell_type": "code",
   "execution_count": 109,
   "metadata": {},
   "outputs": [
    {
     "data": {
      "text/plain": [
       "0.878"
      ]
     },
     "execution_count": 109,
     "metadata": {},
     "output_type": "execute_result"
    }
   ],
   "source": [
    "accuracy_score(ytest, predictions9)"
   ]
  },
  {
   "cell_type": "code",
   "execution_count": 110,
   "metadata": {},
   "outputs": [
    {
     "name": "stdout",
     "output_type": "stream",
     "text": [
      "              precision    recall  f1-score   support\n",
      "\n",
      "       False       0.90      0.95      0.93       398\n",
      "        True       0.76      0.59      0.66       102\n",
      "\n",
      "    accuracy                           0.88       500\n",
      "   macro avg       0.83      0.77      0.79       500\n",
      "weighted avg       0.87      0.88      0.87       500\n",
      "\n"
     ]
    }
   ],
   "source": [
    "print(classification_report(ytest, predictions9))"
   ]
  },
  {
   "cell_type": "code",
   "execution_count": 111,
   "metadata": {},
   "outputs": [],
   "source": [
    "predictionsNum9 = gradSearch.best_estimator_.predict_proba(xtest)[:, 1]"
   ]
  },
  {
   "cell_type": "code",
   "execution_count": 112,
   "metadata": {},
   "outputs": [
    {
     "data": {
      "image/png": "[encoded data removed]",
      "text/plain": [
       "<Figure size 432x288 with 1 Axes>"
      ]
     },
     "metadata": {
      "needs_background": "light"
     },
     "output_type": "display_data"
    }
   ],
   "source": [
    "fpr, tpr, thresholds = roc_curve(ytestNum, predictionsNum9)\n",
    "fig = plt.figure()\n",
    "ax = fig.add_subplot()\n",
    "plt.plot(fpr, tpr)\n",
    "plt.plot([0, 1], [0, 1], '--')\n",
    "plt.xlabel('False Positive Rate')\n",
    "plt.ylabel('True Positive Rate')\n",
    "plt.title('ROC Curve')\n",
    "ax.set_aspect('equal', adjustable='box')\n",
    "plt.show()"
   ]
  },
  {
   "cell_type": "code",
   "execution_count": 113,
   "metadata": {},
   "outputs": [
    {
     "name": "stdout",
     "output_type": "stream",
     "text": [
      "ROC_AUC score:  0.9431224751207015\n"
     ]
    }
   ],
   "source": [
    "print(\"ROC_AUC score: \",roc_auc_score(ytestNum, predictionsNum9))\n",
    "roc9 = roc_auc_score(ytestNum, predictionsNum9)"
   ]
  },
  {
   "cell_type": "code",
   "execution_count": 114,
   "metadata": {},
   "outputs": [
    {
     "name": "stdout",
     "output_type": "stream",
     "text": [
      "AUC-PR score:  0.8069072906252404\n"
     ]
    }
   ],
   "source": [
    "print(\"AUC-PR score: \",average_precision_score(ytestNum, predictionsNum9))\n",
    "aucpr9 = average_precision_score(ytestNum, predictionsNum9)"
   ]
  },
  {
   "cell_type": "code",
   "execution_count": null,
   "metadata": {},
   "outputs": [],
   "source": [
    "  "
   ]
  }
 ],
 "metadata": {
  "kernelspec": {
   "display_name": "base",
   "language": "python",
   "name": "python3"
  },
  "language_info": {
   "codemirror_mode": {
    "name": "ipython",
    "version": 3
   },
   "file_extension": ".py",
   "mimetype": "text/x-python",
   "name": "python",
   "nbconvert_exporter": "python",
   "pygments_lexer": "ipython3",
   "version": "3.8.8"
  },
  "orig_nbformat": 4
 },
 "nbformat": 4,
 "nbformat_minor": 2
}
